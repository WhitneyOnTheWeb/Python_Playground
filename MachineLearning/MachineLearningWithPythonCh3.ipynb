{
 "cells": [
  {
   "cell_type": "markdown",
   "metadata": {},
   "source": [
    "## Clustering\n",
    "\n",
    "Clustering is the act of letting data describe itself when it doesn't have any natural means by which to classify it. This is a method of arranging items so that similar items are in one cluster and dissimilar items are in distinct ones. The first thing we need to do is transform text into something on which we can calculate similarity. We can leverage a similarity measurement to cluster similar texts. This can be done with the marvelous Scikit-Learn library\n",
    "\n",
    "    - One text similarity measure is the Levenshtein distance, which also goes by the name Edit Distance. \n",
    "    - Let's say we have two words, \"machine\" and \"mchiene\". \n",
    "    - The similarity between them can be expressed as the minimum set of edits that are necessary to turn\n",
    "      one word into the other.\n",
    "    - In this case, the edit distance will be 2, as we have to add an \"a\" after the \"m\" and delete the first \"e\". \n",
    "\n",
    "This algorithm (**Edit Distance**) is, however, quite costly as it is bound by the length of the first word times the length of the second word.\n",
    "\n",
    "More robust than edit distance is **bag-of-words**, also known as vectorization. It ignores the order of words and simply uses word counts as the basis.\n",
    "\n",
    "This exercise uses text corpa available from http://mlcomp.org/datasets/379"
   ]
  },
  {
   "cell_type": "code",
   "execution_count": 1,
   "metadata": {},
   "outputs": [
    {
     "name": "stdout",
     "output_type": "stream",
     "text": [
      "CountVectorizer(analyzer='word', binary=False, decode_error='strict',\n",
      "        dtype=<class 'numpy.int64'>, encoding='utf-8', input='content',\n",
      "        lowercase=True, max_df=1.0, max_features=None, min_df=1,\n",
      "        ngram_range=(1, 1), preprocessor=None, stop_words=None,\n",
      "        strip_accents=None, token_pattern='(?u)\\\\b\\\\w\\\\w+\\\\b',\n",
      "        tokenizer=None, vocabulary=None)\n"
     ]
    }
   ],
   "source": [
    "# This code based on supporting material for the book\n",
    "# Building Machine Learning Systems with Python\n",
    "# by Willi Richert and Luis Pedro Coelho\n",
    "# published by PACKT Publishing\n",
    "#\n",
    "# It is made available under the MIT License\n",
    "\n",
    "import os\n",
    "import sys\n",
    "import scipy as sp\n",
    "\n",
    "from sklearn.feature_extraction.text import CountVectorizer\n",
    "from sklearn.feature_extraction.text import TfidfVectorizer\n",
    "\n",
    "vectorizer = CountVectorizer(min_df=1)\n",
    "print(vectorizer)\n",
    "\n",
    "content = ['The world is a mess and I just need to rule it',\n",
    "           'Everybody is a mess and the world needs them to rule it']"
   ]
  },
  {
   "cell_type": "markdown",
   "metadata": {},
   "source": [
    "Now, we can pull this list of subject lines into the fit_transform() function of the vectorizer, which will do the major lifting"
   ]
  },
  {
   "cell_type": "code",
   "execution_count": 2,
   "metadata": {},
   "outputs": [
    {
     "name": "stdout",
     "output_type": "stream",
     "text": [
      "['and', 'everybody', 'is', 'it', 'just', 'mess', 'need', 'needs', 'rule', 'the', 'them', 'to', 'world']\n",
      "\n",
      "[[1 0 1 1 1 1 1 0 1 1 0 1 1]\n",
      " [1 1 1 1 0 1 0 1 1 1 1 1 1]]\n"
     ]
    }
   ],
   "source": [
    "X = vectorizer.fit_transform(content)\n",
    "print(vectorizer.get_feature_names())\n",
    "print()\n",
    "print(X.toarray())"
   ]
  },
  {
   "cell_type": "markdown",
   "metadata": {},
   "source": [
    "### Counting Words"
   ]
  },
  {
   "cell_type": "code",
   "execution_count": 3,
   "metadata": {
    "collapsed": true
   },
   "outputs": [],
   "source": [
    "DATA_DIR = os.path.join(\"C:\\JupyterNotebook\\MachineLearningPractice\\MachineLearningWithPython\\ch03\\data\")\n",
    "\n",
    "if not os.path.exists(DATA_DIR):\n",
    "    print(\"Uh, we were expecting a data directory, which contains the toy data\")\n",
    "    sys.exit(1)\n",
    "\n",
    "CHART_DIR = os.path.join(\"charts\")\n",
    "if not os.path.exists(CHART_DIR):\n",
    "    os.mkdir(CHART_DIR)\n",
    "    \n",
    "TOY_DIR = os.path.join(DATA_DIR, \"toy\")\n",
    "posts = [open(os.path.join(TOY_DIR, f)).read() for f in os.listdir(TOY_DIR)]\n",
    "\n",
    "import nltk.stem\n",
    "english_stemmer = nltk.stem.SnowballStemmer('english')"
   ]
  },
  {
   "cell_type": "code",
   "execution_count": 4,
   "metadata": {},
   "outputs": [
    {
     "name": "stdout",
     "output_type": "stream",
     "text": [
      "# Samples: 5, # Features: 25\n",
      "['about', 'actually', 'capabilities', 'contains', 'data', 'databases', 'images', 'imaging', 'interesting', 'is', 'it', 'learning', 'machine', 'most', 'much', 'not', 'permanently', 'post', 'provide', 'save', 'storage', 'store', 'stuff', 'this', 'toy']\n"
     ]
    }
   ],
   "source": [
    "vectorizer = CountVectorizer(min_df=1)\n",
    "X_train = vectorizer.fit_transform(posts)\n",
    "num_samples, num_features = X_train.shape\n",
    "print(\"# Samples: %d, # Features: %d\" % (num_samples, num_features))\n",
    "print(vectorizer.get_feature_names())"
   ]
  },
  {
   "cell_type": "markdown",
   "metadata": {},
   "source": [
    "This shows up a total of 5 posts with a total of 25 words, or features. Next we can vectorize the new post based on the .txt samples in the toy directory"
   ]
  },
  {
   "cell_type": "code",
   "execution_count": 5,
   "metadata": {
    "collapsed": true
   },
   "outputs": [],
   "source": [
    "new_post = \"imaging databases\"\n",
    "new_post_vec = vectorizer.transform([new_post])  #Array input makes word iterable"
   ]
  },
  {
   "cell_type": "markdown",
   "metadata": {},
   "source": [
    "For a naïve similarity measurement, we calculate the Euclidean distance between the count vectors of the new post and all the old posts using a couple of simple functions and scipy"
   ]
  },
  {
   "cell_type": "code",
   "execution_count": 6,
   "metadata": {
    "collapsed": true
   },
   "outputs": [],
   "source": [
    "def dist_raw(v1, v2):\n",
    "    delta = v1 - v2\n",
    "    return sp.linalg.norm(delta.toarray())"
   ]
  },
  {
   "cell_type": "code",
   "execution_count": 7,
   "metadata": {
    "collapsed": true
   },
   "outputs": [],
   "source": [
    "def dist_norm(v1, v2):\n",
    "    v1_normalized = v1 / sp.linalg.norm(v1.toarray())\n",
    "    v2_normalized = v2 / sp.linalg.norm(v2.toarray())\n",
    "    delta = v1_normalized - v2_normalized\n",
    "    return sp.linalg.norm(delta.toarray())"
   ]
  },
  {
   "cell_type": "code",
   "execution_count": 8,
   "metadata": {
    "collapsed": true
   },
   "outputs": [],
   "source": [
    "def dist_calc(dist, new_post_vec, X_train):\n",
    "    best_dist = sys.maxsize\n",
    "    best_i = None\n",
    "\n",
    "    for i in range(0, num_samples):\n",
    "        post = posts[i]\n",
    "        if post == new_post:\n",
    "            continue\n",
    "        post_vec = X_train.getrow(i)\n",
    "        d = dist(post_vec, new_post_vec)\n",
    "\n",
    "        print(\"=== Post %i with dist=%.2f: %s\" % (i, d, post))\n",
    "\n",
    "        if d < best_dist:\n",
    "            best_dist = d\n",
    "            best_i = i\n",
    "\n",
    "    print(\"Best post is %i with dist=%.2f\" % (best_i, best_dist))"
   ]
  },
  {
   "cell_type": "code",
   "execution_count": 9,
   "metadata": {
    "collapsed": true
   },
   "outputs": [],
   "source": [
    "def test_vectorizer(vectorizer):\n",
    "    print(sorted(vectorizer.get_stop_words())[0:20])\n",
    "    print()\n",
    "    X_train = vectorizer.fit_transform(posts)\n",
    "    num_samples, num_features = X_train.shape\n",
    "    print(\"# Samples: %d, # Features: %d\" % (num_samples, num_features))\n",
    "\n",
    "    print(vectorizer.get_feature_names())\n",
    "    print()\n",
    "\n",
    "    new_post_vec = vectorizer.transform([new_post])  #Array input makes word iterable\n",
    "    print(new_post_vec)\n",
    "    dist = dist_calc(dist_norm, new_post_vec, X_train)\n",
    "    print(dist)"
   ]
  },
  {
   "cell_type": "markdown",
   "metadata": {},
   "source": [
    "Here it makes more sense to use a normalized function to test against our data, since that will give use a better result. Looking at the normalized distribution of these small texts shows that post with index 3 is the most normalized, whereas the post in index 0 is the most irregular.\n",
    "\n",
    "When we look more closely at the posts in 3 and 4, we can see that they are not exact in the same. In fact, the post in index 4 is the same text in index 3 repeated 3 times and index 4 has a much higher dist rating since this is not normalized."
   ]
  },
  {
   "cell_type": "code",
   "execution_count": 10,
   "metadata": {},
   "outputs": [
    {
     "name": "stdout",
     "output_type": "stream",
     "text": [
      "=== Post 0 with dist=4.00: This is a toy post about machine learning. Actually, it contains not much interesting stuff.\n",
      "=== Post 1 with dist=1.73: Imaging databases provide storage capabilities.\n",
      "=== Post 2 with dist=2.00: Most imaging databases save images permanently.\n",
      "\n",
      "=== Post 3 with dist=1.41: Imaging databases store data.\n",
      "=== Post 4 with dist=5.10: Imaging databases store data. Imaging databases store data. Imaging databases store data.\n",
      "Best post is 3 with dist=1.41\n",
      "None\n"
     ]
    }
   ],
   "source": [
    "dist = dist_calc(dist_raw, new_post_vec, X_train)\n",
    "print(dist)"
   ]
  },
  {
   "cell_type": "markdown",
   "metadata": {},
   "source": [
    "When we look more closely at posts with index 3 and 4, we see that 4 is the exact same text as 3, just repeated 3 times. In order to account for this, we need to normalize the word count vectors. Doing this gives both posts a dist score of .77"
   ]
  },
  {
   "cell_type": "code",
   "execution_count": 11,
   "metadata": {},
   "outputs": [
    {
     "name": "stdout",
     "output_type": "stream",
     "text": [
      "=== Post 0 with dist=1.41: This is a toy post about machine learning. Actually, it contains not much interesting stuff.\n",
      "=== Post 1 with dist=0.86: Imaging databases provide storage capabilities.\n",
      "=== Post 2 with dist=0.92: Most imaging databases save images permanently.\n",
      "\n",
      "=== Post 3 with dist=0.77: Imaging databases store data.\n",
      "=== Post 4 with dist=0.77: Imaging databases store data. Imaging databases store data. Imaging databases store data.\n",
      "Best post is 3 with dist=0.77\n",
      "None\n"
     ]
    }
   ],
   "source": [
    "dist2 = dist_calc(dist_norm, new_post_vec, X_train)\n",
    "print(dist2)"
   ]
  },
  {
   "cell_type": "markdown",
   "metadata": {},
   "source": [
    "### Removing Filler Words\n",
    "\n",
    "Many words don't carry a whole lot of context or entropy. Other words appear often and in many different context. These are known as **stop words**, and are generally best removed prior to analysis. This is such a common function, that it's build into the CountVectorizer.\n",
    "\n",
    "Fitting the posts to the vectorizer using stop words gives us 18 features instead of 25, and brings for normalized dist scores of posts 1 and 2 both to .86."
   ]
  },
  {
   "cell_type": "code",
   "execution_count": 12,
   "metadata": {
    "scrolled": false
   },
   "outputs": [
    {
     "name": "stdout",
     "output_type": "stream",
     "text": [
      "['a', 'about', 'above', 'across', 'after', 'afterwards', 'again', 'against', 'all', 'almost', 'alone', 'along', 'already', 'also', 'although', 'always', 'am', 'among', 'amongst', 'amoungst']\n",
      "\n",
      "# Samples: 5, # Features: 18\n",
      "['actually', 'capabilities', 'contains', 'data', 'databases', 'images', 'imaging', 'interesting', 'learning', 'machine', 'permanently', 'post', 'provide', 'save', 'storage', 'store', 'stuff', 'toy']\n",
      "\n",
      "  (0, 4)\t1\n",
      "  (0, 6)\t1\n",
      "=== Post 0 with dist=1.41: This is a toy post about machine learning. Actually, it contains not much interesting stuff.\n",
      "=== Post 1 with dist=0.86: Imaging databases provide storage capabilities.\n",
      "=== Post 2 with dist=0.86: Most imaging databases save images permanently.\n",
      "\n",
      "=== Post 3 with dist=0.77: Imaging databases store data.\n",
      "=== Post 4 with dist=0.77: Imaging databases store data. Imaging databases store data. Imaging databases store data.\n",
      "Best post is 3 with dist=0.77\n",
      "None\n"
     ]
    }
   ],
   "source": [
    "vectorizer2 = CountVectorizer(min_df=1, stop_words='english')\n",
    "test_vectorizer(vectorizer2)"
   ]
  },
  {
   "cell_type": "markdown",
   "metadata": {},
   "source": [
    "### Stemming and NLTK\n",
    "\n",
    "(See additional exploration and practice for text and language processing using Natural Language Toolkit (NLTK) for Python here: https://github.com/WhitneyOnTheWeb/Python_Playground/tree/master/NLTK)\n",
    "\n",
    "When we examing the 18 words from the output from the posts text, we can see we get both 'imaging' and 'images'. In many contexts, and for the purposes of this exploration it makes the most sense to treat them both as their stem word, 'imag'. For that, we rely on the NLTK library, since SciKit does not have a built in word stemmer."
   ]
  },
  {
   "cell_type": "code",
   "execution_count": 13,
   "metadata": {
    "collapsed": true
   },
   "outputs": [],
   "source": [
    "import nltk.stem\n",
    "\n",
    "english_stemmer = nltk.stem.SnowballStemmer('english')\n",
    "\n",
    "'''\n",
    "Creates a StemmedCountVectorizer Class, which does the following for each post:\n",
    "\n",
    "1. lower casing raw post in the preprocessing step (done in the parent class).\n",
    "\n",
    "2. Extracting all individual words in the tokenization step (done in the\n",
    "parent class).\n",
    "\n",
    "3. concludes with converting each word into its stemmed version.\n",
    "'''\n",
    "class StemmedCountVectorizer(CountVectorizer):\n",
    "\n",
    "    def build_analyzer(self):\n",
    "        analyzer = super(StemmedCountVectorizer, self).build_analyzer()\n",
    "        return lambda doc: (english_stemmer.stem(w) for w in analyzer(doc))\n",
    "\n",
    "'''\n",
    "Creates a StemmedTfidVectorizer Class, which does the following for each post:\n",
    "\n",
    "1. Firstly, tokenizing the text.\n",
    "2. This is followed by throwing away words that occur way too often to be of\n",
    "any help in detecting relevant posts.\n",
    "3. Throwing away words that occur way so seldom so that there is only little\n",
    "chance that they occur in future posts.\n",
    "4. Counting the remaining words.\n",
    "5. Finally, calculating TF-IDF values from the counts, considering the whole\n",
    "text corpus.\n",
    "'''\n",
    "class StemmedTfidfVectorizer(TfidfVectorizer):\n",
    "\n",
    "    def build_analyzer(self):\n",
    "        analyzer = super(StemmedTfidfVectorizer, self).build_analyzer()\n",
    "        return lambda doc: (english_stemmer.stem(w) for w in analyzer(doc))"
   ]
  },
  {
   "cell_type": "markdown",
   "metadata": {},
   "source": [
    "#### Testing CountVector Stemming"
   ]
  },
  {
   "cell_type": "code",
   "execution_count": 14,
   "metadata": {},
   "outputs": [
    {
     "name": "stdout",
     "output_type": "stream",
     "text": [
      "['a', 'about', 'above', 'across', 'after', 'afterwards', 'again', 'against', 'all', 'almost', 'alone', 'along', 'already', 'also', 'although', 'always', 'am', 'among', 'amongst', 'amoungst']\n",
      "\n",
      "# Samples: 5, # Features: 17\n",
      "['actual', 'capabl', 'contain', 'data', 'databas', 'imag', 'interest', 'learn', 'machin', 'perman', 'post', 'provid', 'save', 'storag', 'store', 'stuff', 'toy']\n",
      "\n",
      "  (0, 4)\t1\n",
      "  (0, 5)\t1\n",
      "=== Post 0 with dist=1.41: This is a toy post about machine learning. Actually, it contains not much interesting stuff.\n",
      "=== Post 1 with dist=0.86: Imaging databases provide storage capabilities.\n",
      "=== Post 2 with dist=0.63: Most imaging databases save images permanently.\n",
      "\n",
      "=== Post 3 with dist=0.77: Imaging databases store data.\n",
      "=== Post 4 with dist=0.77: Imaging databases store data. Imaging databases store data. Imaging databases store data.\n",
      "Best post is 2 with dist=0.63\n",
      "None\n"
     ]
    }
   ],
   "source": [
    "vectorizer3 = StemmedCountVectorizer(min_df=1, stop_words='english')\n",
    "test_vectorizer(vectorizer3)"
   ]
  },
  {
   "cell_type": "markdown",
   "metadata": {},
   "source": [
    "#### Testing TfidVector Stemming\n",
    "\n",
    "term frequency – inverse document frequency (TF-IDF)\n",
    "\n",
    "Count the terms, but also normalize the counts by the document length. This ensures that documents of a longer word length don't have an advantage over those with shorter ones."
   ]
  },
  {
   "cell_type": "code",
   "execution_count": 15,
   "metadata": {},
   "outputs": [
    {
     "name": "stdout",
     "output_type": "stream",
     "text": [
      "['a', 'about', 'above', 'across', 'after', 'afterwards', 'again', 'against', 'all', 'almost', 'alone', 'along', 'already', 'also', 'although', 'always', 'am', 'among', 'amongst', 'amoungst']\n",
      "\n",
      "# Samples: 5, # Features: 17\n",
      "['actual', 'capabl', 'contain', 'data', 'databas', 'imag', 'interest', 'learn', 'machin', 'perman', 'post', 'provid', 'save', 'storag', 'store', 'stuff', 'toy']\n",
      "\n",
      "  (0, 5)\t0.707106781187\n",
      "  (0, 4)\t0.707106781187\n",
      "=== Post 0 with dist=1.41: This is a toy post about machine learning. Actually, it contains not much interesting stuff.\n",
      "=== Post 1 with dist=1.08: Imaging databases provide storage capabilities.\n",
      "=== Post 2 with dist=0.86: Most imaging databases save images permanently.\n",
      "\n",
      "=== Post 3 with dist=0.92: Imaging databases store data.\n",
      "=== Post 4 with dist=0.92: Imaging databases store data. Imaging databases store data. Imaging databases store data.\n",
      "Best post is 2 with dist=0.86\n",
      "None\n"
     ]
    }
   ],
   "source": [
    "vectorizer4 = StemmedTfidfVectorizer(\n",
    "    min_df=1, stop_words='english', decode_error='ignore')\n",
    "test_vectorizer(vectorizer4)"
   ]
  },
  {
   "cell_type": "markdown",
   "metadata": {
    "collapsed": true
   },
   "source": [
    "**While vectorizer4 acheives the goals set fouth by the StemmedTfidfVectorizer, there are several pitfalls:**\n",
    "\n",
    "**1. It doesn't account for related words**\n",
    "  - 'car hits wall' and 'wall hits car', with would present the same feature vector\n",
    "  \n",
    "**2. It doesn't capture negations correctly**\n",
    " \n",
    "  - 'I will eat ice cream' and 'I will not eat ice cream' appear very similarly, although they have opposite meaning\n",
    "  - This can be solved by counting individual words (**unigrams**), but pairs of words (**bigrams**), and three words in a row (**trigrams**)\n",
    "  \n",
    "**3. Treats mispelled words as different words**\n",
    " \n",
    "With these limitations in mind, we will stick with the current approach for the sake of this current exploration.  At this point vectorizer4 captures the posts sufficiently enough to proceed onto clustering. Clustering is done is one or two ways:\n",
    "\n",
    "### Clustering Structures\n",
    "\n",
    "#### Flat\n",
    "\n",
    " - Divides the data into a set of clusters without relating the clujsters to each other, and the number of clusters is generally specified up front.\n",
    " - The goal is  to come up with partitioning such that all data in a cluster are similar to each other, while being dissimilar to from data in other clusters.\n",
    " \n",
    "#### Hierachial\n",
    "\n",
    " - A hierachy of an unspecificed number of clusters is created related to each other\n",
    " - Similar data is grouped into one cluster, and similar clusters are grouped into an uber-cluster, which is done recursively until a single cluster is left containing all clusters\n",
    " - Number of clusters can be set after the fact, but comes at the cost of efficiency\n",
    " \n",
    " \n",
    "### K-means\n",
    "\n",
    "k-means is the most widely used flat clustering algorithm. After initializing it with the desired number of clusters, num_clusters, it maintains that number of so-called cluster centroids."
   ]
  },
  {
   "cell_type": "code",
   "execution_count": 16,
   "metadata": {
    "collapsed": true
   },
   "outputs": [],
   "source": [
    "from scipy.stats import norm\n",
    "from matplotlib import pylab\n",
    "from sklearn.cluster import KMeans\n",
    "\n",
    "seed = 2\n",
    "sp.random.seed(seed) # static seed to reproduce data\n",
    "\n",
    "num_clusters = 3"
   ]
  },
  {
   "cell_type": "code",
   "execution_count": 17,
   "metadata": {
    "collapsed": true
   },
   "outputs": [],
   "source": [
    "def plot_clustering(x, y, title, mx=None, ymax=None, xmin=None, km=None):\n",
    "    pylab.figure(num=None, figsize=(8, 6))\n",
    "    if km:\n",
    "        pylab.scatter(x, y, s=50, c=km.predict(list(zip(x, y))))\n",
    "    else:\n",
    "        pylab.scatter(x, y, s=50)\n",
    "\n",
    "    pylab.title(title)\n",
    "    pylab.xlabel(\"Occurrence word 1\")\n",
    "    pylab.ylabel(\"Occurrence word 2\")\n",
    "\n",
    "    pylab.autoscale(tight=True)\n",
    "    pylab.ylim(ymin=0, ymax=1)\n",
    "    pylab.xlim(xmin=0, xmax=1)\n",
    "    pylab.grid(True, linestyle='-', color='0.75')\n",
    "\n",
    "    return pylab"
   ]
  },
  {
   "cell_type": "code",
   "execution_count": 20,
   "metadata": {},
   "outputs": [
    {
     "data": {
      "text/plain": [
       "<matplotlib.figure.Figure at 0x2ec158ca438>"
      ]
     },
     "metadata": {},
     "output_type": "display_data"
    },
    {
     "data": {
      "image/png": "[encoded data removed]",
      "text/plain": [
       "<matplotlib.figure.Figure at 0x2ec155fe8d0>"
      ]
     },
     "metadata": {},
     "output_type": "display_data"
    }
   ],
   "source": [
    "xw1 = norm(loc=0.3, scale=.15).rvs(20)\n",
    "yw1 = norm(loc=0.3, scale=.15).rvs(20)\n",
    "\n",
    "xw2 = norm(loc=0.7, scale=.15).rvs(20)\n",
    "yw2 = norm(loc=0.7, scale=.15).rvs(20)\n",
    "\n",
    "xw3 = norm(loc=0.2, scale=.15).rvs(20)\n",
    "yw3 = norm(loc=0.8, scale=.15).rvs(20)\n",
    "\n",
    "x = sp.append(sp.append(xw1, xw2), xw3)\n",
    "y = sp.append(sp.append(yw1, yw2), yw3)\n",
    "\n",
    "plot_clustering(x, y, \"Vectors\")\n",
    "pylab.savefig(os.path.join(CHART_DIR, \"1400_03_01.png\"))\n",
    "pylab.show()\n",
    "pylab.clf()"
   ]
  },
  {
   "cell_type": "markdown",
   "metadata": {},
   "source": [
    "The following scatterplot shows posts containing only 2 words. Each point represents a single document\n",
    "\n",
    "Next, we will run the first iteration of the k-means algorithm, by taking any two vectors as the starting point, then giving labels to the rest, and then updating the cluster centers to be the center point of all points in that cluster. This gives us the following graph:"
   ]
  },
  {
   "cell_type": "code",
   "execution_count": 21,
   "metadata": {},
   "outputs": [
    {
     "name": "stdout",
     "output_type": "stream",
     "text": [
      "Initialization complete\n",
      "start iteration\n",
      "done sorting\n",
      "end inner loop\n",
      "Iteration 0, inertia 2.91878071793\n"
     ]
    },
    {
     "data": {
      "text/plain": [
       "<matplotlib.figure.Figure at 0x2ec15972fd0>"
      ]
     },
     "metadata": {},
     "output_type": "display_data"
    },
    {
     "data": {
      "image/png": "[encoded data removed]",
      "text/plain": [
       "<matplotlib.figure.Figure at 0x2ec158f1e48>"
      ]
     },
     "metadata": {},
     "output_type": "display_data"
    }
   ],
   "source": [
    "mx, my = sp.meshgrid(sp.arange(0, 1, 0.001), sp.arange(0, 1, 0.001))\n",
    "\n",
    "km = KMeans(init='random', n_clusters=num_clusters, verbose=1,\n",
    "            n_init=1, max_iter=1,\n",
    "            random_state=seed)\n",
    "km.fit(sp.array(list(zip(x, y))))\n",
    "\n",
    "Z = km.predict(sp.c_[mx.ravel(), my.ravel()]).reshape(mx.shape)\n",
    "\n",
    "plot_clustering(x, y, \"Clustering iteration 1\", km=km)\n",
    "pylab.imshow(Z, interpolation='nearest',\n",
    "             extent=(mx.min(), mx.max(), my.min(), my.max()),\n",
    "             cmap=pylab.cm.Blues,\n",
    "             aspect='auto', origin='lower')\n",
    "\n",
    "c1a, c1b, c1c = km.cluster_centers_\n",
    "pylab.scatter(km.cluster_centers_[:, 0], km.cluster_centers_[:, 1],\n",
    "              marker='x', linewidth=2, s=100, color='black')\n",
    "pylab.savefig(os.path.join(CHART_DIR, \"1400_03_02.png\"))\n",
    "pylab.show()\n",
    "pylab.clf()"
   ]
  },
  {
   "cell_type": "code",
   "execution_count": 22,
   "metadata": {},
   "outputs": [
    {
     "name": "stdout",
     "output_type": "stream",
     "text": [
      "Initialization complete\n",
      "start iteration\n",
      "done sorting\n",
      "end inner loop\n",
      "Iteration 0, inertia 2.91878071793\n",
      "start iteration\n",
      "done sorting\n",
      "end inner loop\n",
      "Iteration 1, inertia 2.73210002537\n",
      "start iteration\n",
      "done sorting\n",
      "end inner loop\n",
      "Iteration 2, inertia 2.72300621413\n",
      "start iteration\n",
      "done sorting\n",
      "end inner loop\n",
      "Iteration 3, inertia 2.72300621413\n",
      "center shift 0.000000e+00 within tolerance 7.704931e-06\n"
     ]
    },
    {
     "data": {
      "text/plain": [
       "<matplotlib.figure.Figure at 0x2ec158708d0>"
      ]
     },
     "metadata": {},
     "output_type": "display_data"
    },
    {
     "data": {
      "image/png": "[encoded data removed]",
      "text/plain": [
       "<matplotlib.figure.Figure at 0x2ec15a06ef0>"
      ]
     },
     "metadata": {},
     "output_type": "display_data"
    }
   ],
   "source": [
    "km = KMeans(init='random', n_clusters=num_clusters, verbose=1,\n",
    "            n_init=1, max_iter=5,\n",
    "            random_state=seed)\n",
    "km.fit(sp.array(list(zip(x, y))))\n",
    "\n",
    "Z = km.predict(sp.c_[mx.ravel(), my.ravel()]).reshape(mx.shape)\n",
    "\n",
    "plot_clustering(x, y, \"Clustering iteration 2\", km=km)\n",
    "pylab.imshow(Z, interpolation='nearest',\n",
    "             extent=(mx.min(), mx.max(), my.min(), my.max()),\n",
    "             cmap=pylab.cm.Blues,\n",
    "             aspect='auto', origin='lower')\n",
    "\n",
    "c2a, c2b, c2c = km.cluster_centers_\n",
    "pylab.scatter(km.cluster_centers_[:, 0], km.cluster_centers_[:, 1],\n",
    "              marker='x', linewidth=2, s=100, color='black')\n",
    "\n",
    "# Draw arrows on axis to follow direction of cluster center movement\n",
    "pylab.gca().add_patch(\n",
    "    pylab.Arrow(c1a[0], c1a[1], c2a[0] - c1a[0], c2a[1] - c1a[1], width=0.1))\n",
    "pylab.gca().add_patch(\n",
    "    pylab.Arrow(c1b[0], c1b[1], c2b[0] - c1b[0], c2b[1] - c1b[1], width=0.1))\n",
    "pylab.gca().add_patch(\n",
    "    pylab.Arrow(c1c[0], c1c[1], c2c[0] - c1c[0], c2c[1] - c1c[1], width=0.1))\n",
    "\n",
    "pylab.savefig(os.path.join(CHART_DIR, \"1400_03_04.png\"))\n",
    "pylab.show()\n",
    "pylab.clf()"
   ]
  },
  {
   "cell_type": "markdown",
   "metadata": {},
   "source": [
    "The arrows show the movements of the cluster centers. After five iterations in this example, the cluster centers don't move noticeably any more than what is shown here.\n",
    "\n",
    "After the clustering has settled, we just need to note down the cluster centers and their identity. Each new document that comes in, we then have to vectorize and compare against all cluster centers. The cluster center with the smallest distance to our new post vector belongs to the cluster we will assign to the new post.\n"
   ]
  },
  {
   "cell_type": "code",
   "execution_count": 23,
   "metadata": {},
   "outputs": [
    {
     "name": "stdout",
     "output_type": "stream",
     "text": [
      "Initialization complete\n",
      "start iteration\n",
      "done sorting\n",
      "end inner loop\n",
      "Iteration 0, inertia 1.42115054055\n",
      "Initialization complete\n",
      "start iteration\n",
      "done sorting\n",
      "end inner loop\n",
      "Iteration 0, inertia 1.42115054055\n",
      "start iteration\n",
      "done sorting\n",
      "end inner loop\n",
      "Iteration 1, inertia 1.2145522935\n",
      "start iteration\n",
      "done sorting\n",
      "end inner loop\n",
      "Iteration 2, inertia 1.16732692157\n",
      "start iteration\n",
      "done sorting\n",
      "end inner loop\n",
      "Iteration 3, inertia 1.07091979722\n",
      "start iteration\n",
      "done sorting\n",
      "end inner loop\n",
      "Iteration 4, inertia 1.07091979722\n",
      "center shift 0.000000e+00 within tolerance 7.704931e-06\n"
     ]
    },
    {
     "data": {
      "text/plain": [
       "<matplotlib.figure.Figure at 0x2ec15e5ccc0>"
      ]
     },
     "metadata": {},
     "output_type": "display_data"
    },
    {
     "data": {
      "image/png": "[encoded data removed]",
      "text/plain": [
       "<matplotlib.figure.Figure at 0x2ec159174e0>"
      ]
     },
     "metadata": {},
     "output_type": "display_data"
    }
   ],
   "source": [
    "# Get cluster centers for 1 iterations of K-means with 8 clusters\n",
    "km = KMeans(init='random', n_clusters=8, verbose=1,\n",
    "            n_init=1, max_iter=1,\n",
    "            random_state=seed)\n",
    "km.fit(sp.array(list(zip(x, y))))\n",
    "c1a, c1b, c1c, c1d, c1e, c1f, c1g, c1h = km.cluster_centers_\n",
    "\n",
    "#\n",
    "km = KMeans(init='random', n_clusters=8, verbose=1,\n",
    "            n_init=1, max_iter=5,\n",
    "            random_state=seed)\n",
    "km.fit(sp.array(list(zip(x, y))))\n",
    "\n",
    "Z = km.predict(sp.c_[mx.ravel(), my.ravel()]).reshape(mx.shape)\n",
    "\n",
    "plot_clustering(x, y, \"Clustering iteration 2\", km=km)\n",
    "pylab.imshow(Z, interpolation='nearest',\n",
    "             extent=(mx.min(), mx.max(), my.min(), my.max()),\n",
    "             cmap=pylab.cm.Blues,\n",
    "             aspect='auto', origin='lower')\n",
    "\n",
    "c2a, c2b, c2c, c2d, c2e, c2f, c2g, c2h = km.cluster_centers_\n",
    "pylab.scatter(km.cluster_centers_[:, 0], km.cluster_centers_[:, 1],\n",
    "              marker='x', linewidth=2, s=100, color='black')\n",
    "\n",
    "# Draw arrows on axis to follow direction of cluster center movement\n",
    "# Fix this with a loop, very silly programming here\n",
    "pylab.gca().add_patch(\n",
    "    pylab.Arrow(c1a[0], c1a[1], c2a[0] - c1a[0], c2a[1] - c1a[1], width=0.1))\n",
    "pylab.gca().add_patch(\n",
    "    pylab.Arrow(c1b[0], c1b[1], c2b[0] - c1b[0], c2b[1] - c1b[1], width=0.1))\n",
    "pylab.gca().add_patch(\n",
    "    pylab.Arrow(c1c[0], c1c[1], c2c[0] - c1c[0], c2c[1] - c1c[1], width=0.1))\n",
    "pylab.gca().add_patch(\n",
    "    pylab.Arrow(c1d[0], c1d[1], c2d[0] - c1d[0], c2d[1] - c1d[1], width=0.1))\n",
    "pylab.gca().add_patch(\n",
    "    pylab.Arrow(c1e[0], c1e[1], c2e[0] - c1e[0], c2e[1] - c1e[1], width=0.1))\n",
    "pylab.gca().add_patch(\n",
    "    pylab.Arrow(c1f[0], c1f[1], c2f[0] - c1f[0], c2f[1] - c1f[1], width=0.1))\n",
    "pylab.gca().add_patch(\n",
    "    pylab.Arrow(c1g[0], c1g[1], c2g[0] - c1g[0], c2g[1] - c1g[1], width=0.1))\n",
    "pylab.gca().add_patch(\n",
    "    pylab.Arrow(c1h[0], c1h[1], c2h[0] - c1h[0], c2h[1] - c1h[1], width=0.1))\n",
    "\n",
    "pylab.savefig(os.path.join(CHART_DIR, \"1400_03_05.png\"))\n",
    "pylab.show()\n",
    "pylab.clf()\n"
   ]
  },
  {
   "cell_type": "markdown",
   "metadata": {
    "collapsed": true
   },
   "source": [
    "Now for fun, lets see what this looks like with a higher number of clusters, and a higher number of iterations.  It appears that some cluster centers didn't move at all, while others moved quite a long ways.\n",
    "\n",
    "\n",
    "## 20newsgroup Dataset\n",
    "\n",
    "To really test clustering, we need to move beyond the tiny toy dataset, and into something more robust. ```20newsgroup``` is a well known dataset provided by MLcomp, and integrated with SciKit that contains 18,826 posts from 20 different usenet news groups, spannings topics such as technology, politics, and religion.\n",
    "\n",
    "Assuming each newsgroup to be one cluster, we can test to see if our approach to finding related posts works."
   ]
  },
  {
   "cell_type": "code",
   "execution_count": 24,
   "metadata": {},
   "outputs": [
    {
     "name": "stdout",
     "output_type": "stream",
     "text": [
      "Number of total posts: 18846\n",
      "\n",
      "Number of training posts in tech groups: 3529\n",
      "Number of testing posts in tech groups: 2349\n"
     ]
    }
   ],
   "source": [
    "import sklearn.datasets\n",
    "\n",
    "groups = [\n",
    "    'comp.graphics', 'comp.os.ms-windows.misc', 'comp.sys.ibm.pc.hardware',\n",
    "    'comp.sys.mac.hardware', 'comp.windows.x', 'sci.space']\n",
    "\n",
    "data = sklearn.datasets.fetch_20newsgroups(subset='all')\n",
    "print(\"Number of total posts: %i\" % len(data.filenames))\n",
    "print()\n",
    "\n",
    "train_data = sklearn.datasets.fetch_20newsgroups(subset = 'train',\n",
    "                                                 categories=groups)\n",
    "print(\"Number of training posts in tech groups:\", len(train_data.filenames))\n",
    "\n",
    "test_data = sklearn.datasets.fetch_20newsgroups(subset = 'test',\n",
    "                                                categories=groups)\n",
    "print(\"Number of testing posts in tech groups:\", len(test_data.filenames))"
   ]
  },
  {
   "cell_type": "markdown",
   "metadata": {},
   "source": [
    "Since real data contains a lot of noise, it becomes important to be able to filter it out, and read around it. In this case, there are things such as invalid characters that stand out right away and will cause errors in the vectorizer unless we explicitly set it to ignore them."
   ]
  },
  {
   "cell_type": "code",
   "execution_count": 25,
   "metadata": {},
   "outputs": [
    {
     "name": "stdout",
     "output_type": "stream",
     "text": [
      "#samples: 3529, #features: 4712\n"
     ]
    }
   ],
   "source": [
    "vectorizer5 = StemmedTfidfVectorizer(min_df=10, max_df=0.5,\n",
    "                                     stop_words='english', \n",
    "                                     decode_error='ignore')\n",
    "vectorized = vectorizer5.fit_transform(train_data.data)\n",
    "num_samples, num_features = vectorized.shape\n",
    "print(\"#samples: %d, #features: %d\" % (num_samples, num_features))\n"
   ]
  },
  {
   "cell_type": "markdown",
   "metadata": {},
   "source": [
    "We now have a pool of 3,529 posts and extracted for each of them a feature vector of 4,712 dimensions. That is what K-means takes as input. We will fix the cluster size to 50"
   ]
  },
  {
   "cell_type": "code",
   "execution_count": 35,
   "metadata": {},
   "outputs": [
    {
     "name": "stdout",
     "output_type": "stream",
     "text": [
      "Initialization complete\n",
      "Iteration  0, inertia 5899.560\n",
      "Iteration  1, inertia 3218.298\n",
      "Iteration  2, inertia 3184.333\n",
      "Iteration  3, inertia 3164.867\n",
      "Iteration  4, inertia 3152.004\n",
      "Iteration  5, inertia 3143.111\n",
      "Iteration  6, inertia 3136.256\n",
      "Iteration  7, inertia 3129.325\n",
      "Iteration  8, inertia 3124.567\n",
      "Iteration  9, inertia 3121.900\n",
      "Iteration 10, inertia 3120.210\n",
      "Iteration 11, inertia 3118.627\n",
      "Iteration 12, inertia 3117.363\n",
      "Iteration 13, inertia 3116.811\n",
      "Iteration 14, inertia 3116.588\n",
      "Iteration 15, inertia 3116.417\n",
      "Iteration 16, inertia 3115.760\n",
      "Iteration 17, inertia 3115.374\n",
      "Iteration 18, inertia 3115.155\n",
      "Iteration 19, inertia 3114.949\n",
      "Iteration 20, inertia 3114.515\n",
      "Iteration 21, inertia 3113.937\n",
      "Iteration 22, inertia 3113.720\n",
      "Iteration 23, inertia 3113.548\n",
      "Iteration 24, inertia 3113.475\n",
      "Iteration 25, inertia 3113.447\n",
      "Converged at iteration 25: center shift 0.000000e+00 within tolerance 2.069005e-08\n",
      "km.labels_=[38 17 47 ..., 41 14 16]\n",
      "km.labels_.shape=3529\n",
      "Homogeneity: 0.428\n",
      "Completeness: 0.221\n",
      "V-measure: 0.291\n",
      "Adjusted Rand Index: 0.073\n",
      "Adjusted Mutual Information: 0.213\n",
      "Silhouette Coefficient: 0.006\n",
      "[[ 0.          0.          0.         ...,  0.          0.          0.05115952]\n",
      " [ 0.00255397  0.          0.         ...,  0.          0.          0.        ]\n",
      " [ 0.00585929  0.          0.         ...,  0.          0.          0.        ]\n",
      " ..., \n",
      " [ 0.          0.          0.         ...,  0.          0.          0.        ]\n",
      " [ 0.          0.          0.         ...,  0.          0.          0.        ]\n",
      " [ 0.          0.07535044  0.         ...,  0.          0.          0.        ]]\n"
     ]
    }
   ],
   "source": [
    "num_clusters = 50\n",
    "km5 = KMeans(n_clusters=num_clusters, init='random', \n",
    "             n_init=1, verbose=1, random_state=3)\n",
    "km5.fit(vectorized)\n",
    "labels = train_data.target\n",
    "\n",
    "\n",
    "# Vital Statistics \n",
    "\n",
    "print(\"km.labels_=%s\" % km5.labels_)\n",
    "print(\"km.labels_.shape=%s\" % km5.labels_.shape)\n",
    "from sklearn import metrics\n",
    "print(\"Homogeneity: %0.3f\" % metrics.homogeneity_score(labels, km5.labels_))\n",
    "# Homogeneity: 0.400\n",
    "print(\"Completeness: %0.3f\" % metrics.completeness_score(labels, km5.labels_))\n",
    "# Completeness: 0.206\n",
    "print(\"V-measure: %0.3f\" % metrics.v_measure_score(labels, km5.labels_))\n",
    "# V-measure: 0.272\n",
    "print(\"Adjusted Rand Index: %0.3f\" %\n",
    "      metrics.adjusted_rand_score(labels, km5.labels_))\n",
    "# Adjusted Rand Index: 0.064\n",
    "print(\"Adjusted Mutual Information: %0.3f\" %\n",
    "      metrics.adjusted_mutual_info_score(labels, km5.labels_))\n",
    "# Adjusted Mutual Information: 0.197\n",
    "print((\"Silhouette Coefficient: %0.3f\" %\n",
    "       metrics.silhouette_score(vectorized, labels, sample_size=1000)))\n",
    "# Silhouette Coefficient: 0.006\n",
    "\n",
    "#Cluster Centers\n",
    "print(km5.cluster_centers_)"
   ]
  },
  {
   "cell_type": "markdown",
   "metadata": {
    "collapsed": true
   },
   "source": [
    "### Vectorizing a New Post\n",
    "\n",
    "Now we return to the initial challenge of vectorizing and clustering new posts by testing how well our algorithm can place test posts. We have to vecotrize the new post, then compare it to all posts in the same cluster based on index. The comparison in the bracket results in a Boolean array, and nonzero converts that array into a smaller array containing the indices of the True elements."
   ]
  },
  {
   "cell_type": "code",
   "execution_count": 36,
   "metadata": {},
   "outputs": [
    {
     "name": "stdout",
     "output_type": "stream",
     "text": [
      "[  66   69  125  139  157  167  201  213  214  225  228  233  247  308  351\n",
      "  354  355  359  370  384  392  395  428  429  446  453  463  479  531  533\n",
      "  548  563  580  581  618  619  676  689  714  779  806  807  808  882  905\n",
      "  935  939  944  961  964  976  987 1005 1076 1114 1221 1242 1246 1250 1257\n",
      " 1266 1286 1309 1313 1316 1388 1389 1427 1431 1481 1486 1487 1512 1519 1538\n",
      " 1548 1608 1624 1637 1670 1716 1752 1769 1806 1840 1843 1852 1864 1893 1986\n",
      " 1990 1996 2013 2061 2085 2139 2151 2223 2235 2257 2270 2277 2283 2306 2347\n",
      " 2351 2357 2400 2412 2414 2436 2443 2447 2463 2475 2493 2512 2516 2518 2525\n",
      " 2539 2565 2573 2600 2612 2624 2651 2667 2678 2705 2745 2791 2800 2815 2842\n",
      " 2852 2875 2907 2947 2951 2956 2964 2993 2995 3018 3026 3060 3065 3145 3146\n",
      " 3160 3173 3186 3192 3199 3202 3214 3219 3225 3285 3289 3296 3297 3309 3437\n",
      " 3450]\n"
     ]
    }
   ],
   "source": [
    "new_post = \\\n",
    "    \"\"\"Disk drive problems. Hi, I have a problem with my hard disk.\n",
    "After 1 year it is working only sporadically now.\n",
    "I tried to format it, but now it doesn't boot any more.\n",
    "Any ideas? Thanks.\n",
    "\"\"\"\n",
    "    \n",
    "new_post_vec = vectorizer5.transform([new_post])\n",
    "new_post_label = km5.predict(new_post_vec)[0]\n",
    "\n",
    "similar_indices = (km5.labels_ == new_post_label).nonzero()[0]\n",
    "print(similar_indices)"
   ]
  },
  {
   "cell_type": "markdown",
   "metadata": {},
   "source": [
    "Now that we have similar_indices, we can use it to build a list of posts together based on their similarity scores. This shows the top three out of 166 post found that were similar, with their corresponding similarity scores.We can see the first post revolves around the same topic as out new post, the second is also around booting problems, but pertains to floppy disks instead of hard disks, and the third isn't about boot errors, but is in the same realm of hard drives."
   ]
  },
  {
   "cell_type": "code",
   "execution_count": 37,
   "metadata": {
    "scrolled": false
   },
   "outputs": [
    {
     "name": "stdout",
     "output_type": "stream",
     "text": [
      "Count similar: 166\n",
      "=== #1 ===\n",
      "(1.0378441731334072, \"From: Thomas Dachsel <GERTHD@mvs.sas.com>\\nSubject: BOOT PROBLEM with IDE controller\\nNntp-Posting-Host: sdcmvs.mvs.sas.com\\nOrganization: SAS Institute Inc.\\nLines: 25\\n\\nHi,\\nI've got a Multi I/O card (IDE controller + serial/parallel\\ninterface) and two floppy drives (5 1/4, 3 1/2) and a\\nQuantum ProDrive 80AT connected to it.\\nI was able to format the hard disk, but I could not boot from\\nit. I can boot from drive A: (which disk drive does not matter)\\nbut if I remove the disk from drive A and press the reset switch,\\nthe LED of drive A: continues to glow, and the hard disk is\\nnot accessed at all.\\nI guess this must be a problem of either the Multi I/o card\\nor floppy disk drive settings (jumper configuration?)\\nDoes someone have any hint what could be the reason for it.\\nPlease reply by email to GERTHD@MVS.SAS.COM\\nThanks,\\nThomas\\n+-------------------------------------------------------------------+\\n| Thomas Dachsel                                                    |\\n| Internet: GERTHD@MVS.SAS.COM                                      |\\n| Fidonet:  Thomas_Dachsel@camel.fido.de (2:247/40)                 |\\n| Subnet:   dachsel@rnivh.rni.sub.org (UUCP in Germany, now active) |\\n| Phone:    +49 6221 4150 (work), +49 6203 12274 (home)             |\\n| Fax:      +49 6221 415101                                         |\\n| Snail:    SAS Institute GmbH, P.O.Box 105307, D-W-6900 Heidelberg |\\n| Tagline:  One bad sector can ruin a whole day...                  |\\n+-------------------------------------------------------------------+\\n\")\n",
      "\n",
      "=== #2 ===\n",
      "(1.1716497460538475, \"From: badry@cs.UAlberta.CA (Badry Jason Theodore)\\nSubject: Chaining IDE drives\\nSummary: Trouble with Master/Slave drives\\nNntp-Posting-Host: cab009.cs.ualberta.ca\\nOrganization: University Of Alberta, Edmonton Canada\\nLines: 16\\n\\nHi.  I am trying to set up a Conner 3184 and a Quantum 80AT drive.  I have\\nthe conner set to the master, and the quantum set to the slave (doesn't work\\nthe other way around).  I am able to access both drives if I boot from a \\nfloppy, but the drives will not boot themselves.  I am running MSDOS 6, and\\nhave the Conner partitioned as Primary Dos, and is formatted with system\\nfiles.  I have tried all different types of setups, and even changed IDE\\ncontroller cards.  If I boot from a floppy, everything works great (except\\nthe booting part :)).  The system doesn't report an error message or anything,\\njust hangs there.  Does anyone have any suggestions, or has somebody else\\nrun into a similar problem?  I was thinking that I might have to update the bios\\non one of the drives (is this possible?).  Any suggestions/answers would be\\ngreatly appreciated.  Please reply to:\\n\\n\\tJason Badry\\n\\tbadry@cs.ualberta.ca\\n\\n\")\n",
      "\n",
      "=== #3 ===\n",
      "(1.3118266609870632, \"From: delman@mipg.upenn.edu (Delman Lee)\\nSubject: Tandberg 3600 + Future Domain TMC-1660 + Seagate ST-21M problem??\\nDistribution: comp\\nOrganization: University of Pennsylvania, USA.\\nLines: 37\\nNntp-Posting-Host: mipgsun.mipg.upenn.edu\\n\\nI am trying to get my system to work with a Tandberg 3600 + Future\\nDomain TMC-1660 + Seagate ST-21M MFM controller. \\n\\nThe system boots up if the Tandberg is disconnected from the system,\\nand of course no SCSI devices found (I have no other SCSI devices).\\n\\nThe system boots up if the Seagate MFM controller is removed from the\\nsystem. The Future Domain card reports finding the Tandberg 3660 on\\nthe SCSI bus. The system then of course stops booting because my MFM\\nhard disks can't be found.\\n\\nThe system hangs if all three (Tandberg, Future Domain TMC-1660 &\\nSeagate MFM controller) are in the system. \\n\\nLooks like there is some conflict between the Seagate and Future\\nDomain card. But the funny thing is that it only hangs if the Tandberg\\nis connected.\\n\\nI have checked that there are no conflict in BIOS addresses, IRQ & I/O\\nport. Have I missed anything?\\n\\nI am lost here. Any suggestions are most welcomed. Thanks in advance.\\n\\nDelman.\\n\\n\\n\\n--\\n______________________________________________________________________\\n\\n  Delman Lee                                 Tel.: +1-215-662-6780\\n  Medical Image Processing Group,            Fax.: +1-215-898-9145\\n  University of Pennsylvania,\\n  4/F Blockley Hall, 418 Service Drive,                         \\n  Philadelphia, PA 19104-6021,\\n  U.S.A..                            Internet: delman@mipg.upenn.edu\\n______________________________________________________________________\\n\")\n"
     ]
    }
   ],
   "source": [
    "similar = []\n",
    "for i in similar_indices:\n",
    "    dist = sp.linalg.norm((new_post_vec - vectorized[i]).toarray())\n",
    "    similar.append((dist, train_data.data[i]))\n",
    "\n",
    "similar = sorted(similar)\n",
    "print(\"Count similar: %i\" % len(similar))\n",
    "\n",
    "show_at_1 = similar[0]\n",
    "show_at_2 = similar[int(len(similar) / 10)]\n",
    "show_at_3 = similar[int(len(similar) / 2)]\n",
    "\n",
    "print(\"=== #1 ===\")\n",
    "print(show_at_1)\n",
    "print()\n",
    "\n",
    "print(\"=== #2 ===\")\n",
    "print(show_at_2)\n",
    "print()\n",
    "\n",
    "print(\"=== #3 ===\")\n",
    "print(show_at_3)"
   ]
  },
  {
   "cell_type": "markdown",
   "metadata": {},
   "source": [
    "### Clearing the Noise\n",
    "\n",
    "Clustering is never going to be perfect, however we can always clean it up and eliminate what we might come to consider useless noise that is prevalent is online communities, or even from computer generated output."
   ]
  },
  {
   "cell_type": "code",
   "execution_count": 42,
   "metadata": {},
   "outputs": [
    {
     "name": "stdout",
     "output_type": "stream",
     "text": [
      "(245, 'From: SITUNAYA@IBM3090.BHAM.AC.UK\\nSubject: test....(sorry)\\nOrganization: The University of Birmingham, United Kingdom\\nLines: 1\\nNNTP-Posting-Host: ibm3090.bham.ac.uk\\n\\n==============================================================================\\n', 'comp.graphics')\n",
      "\n",
      "['from', 'situnaya', 'ibm3090', 'bham', 'ac', 'uk', 'subject', 'test', 'sorry', 'organization', 'the', 'university', 'of', 'birmingham', 'united', 'kingdom', 'lines', 'nntp', 'posting', 'host', 'ibm3090', 'bham', 'ac', 'uk']\n",
      "\n",
      "['ac', 'birmingham', 'host', 'kingdom', 'nntp', 'test', 'uk']\n",
      "\n",
      "IDF(ac)=3.51\n",
      "IDF(birmingham)=6.77\n",
      "IDF(host)=1.74\n",
      "IDF(kingdom)=6.68\n",
      "IDF(nntp)=1.77\n",
      "IDF(test)=3.83\n",
      "IDF(uk)=3.70\n"
     ]
    }
   ],
   "source": [
    "post_group = zip(train_data.data, train_data.target)\n",
    "\n",
    "#Create a list of tuples that can be sorted by post length\n",
    "all = [(len(post[0]), post[0], train_data.target_names[post[1]])\n",
    "       for post in post_group]\n",
    "\n",
    "graphics = sorted([post for post in all if post[2] == 'comp.graphics'])\n",
    "print(graphics[5])\n",
    "print()\n",
    "\n",
    "noise_post = graphics[5][1]\n",
    "\n",
    "analyzer = vectorizer.build_analyzer()\n",
    "print(list(analyzer(noise_post)))\n",
    "print()\n",
    "\n",
    "useful = set(analyzer(noise_post)).intersection(vectorizer5.get_feature_names())\n",
    "print(sorted(useful))\n",
    "print()\n",
    "\n",
    "for term in sorted(useful):\n",
    "    print('IDF(%s)=%.2f' % (term,\n",
    "                            vectorizer5._tfidf.idf_[vectorizer5.vocabulary_[term]]))"
   ]
  },
  {
   "cell_type": "markdown",
   "metadata": {},
   "source": [
    "The higher TF-IDF, the more discriminative a term is for a given post. As IDF is a multiplicative factor here, a low value of it signals that it is not of great value in general."
   ]
  },
  {
   "cell_type": "code",
   "execution_count": null,
   "metadata": {
    "collapsed": true
   },
   "outputs": [],
   "source": []
  }
 ],
 "metadata": {
  "kernelspec": {
   "display_name": "Python 3",
   "language": "python",
   "name": "python3"
  },
  "language_info": {
   "codemirror_mode": {
    "name": "ipython",
    "version": 3
   },
   "file_extension": ".py",
   "mimetype": "text/x-python",
   "name": "python",
   "nbconvert_exporter": "python",
   "pygments_lexer": "ipython3",
   "version": "3.6.1"
  }
 },
 "nbformat": 4,
 "nbformat_minor": 2
}
