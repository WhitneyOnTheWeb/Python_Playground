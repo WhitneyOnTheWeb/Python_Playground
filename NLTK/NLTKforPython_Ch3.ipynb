{
 "cells": [
  {
   "cell_type": "markdown",
   "metadata": {},
   "source": [
    "# NLTK for Python Test Bed\n",
    "## Chapter 3:  Processing Raw Text\n",
    "### Using examples from http://www.nltk.org\n",
    "##### Whitney King  (1/10/2018)"
   ]
  },
  {
   "cell_type": "code",
   "execution_count": 1,
   "metadata": {
    "collapsed": false
   },
   "outputs": [],
   "source": [
    "import nltk\n",
    "import pandas as pd\n",
    "import re\n",
    "import pprint as pp\n",
    "from nltk import word_tokenize\n",
    "#nltk.download()"
   ]
  },
  {
   "cell_type": "code",
   "execution_count": 2,
   "metadata": {
    "collapsed": true
   },
   "outputs": [],
   "source": [
    "#Define custom functions\n",
    "\n",
    "def line():\n",
    "    print(\"------------------------------------------------------------------\")"
   ]
  },
  {
   "cell_type": "markdown",
   "metadata": {},
   "source": [
    "## _Accessing Text from the Web and from Disk_\n",
    "\n",
    "### _Electronic Books_\n",
    "\n",
    "Resources such as *Project Gutenberg* have text versions of books online for free. There are over 25,000 to choose from on the PG website, in over 50 languages, all of which can be downloaded in ASCII."
   ]
  },
  {
   "cell_type": "code",
   "execution_count": 3,
   "metadata": {
    "collapsed": false
   },
   "outputs": [
    {
     "name": "stdout",
     "output_type": "stream",
     "text": [
      "74726  |  <class 'str'>  |  The Project Gutenberg EBook of Alice in Wonderland, by Lewis Carroll\r\n",
      "------------------------------------------------------------------\n",
      "<class 'list'> 15758 ['The', 'Project', 'Gutenberg', 'EBook', 'of', 'Alice', 'in', 'Wonderland', ',', 'by']\n"
     ]
    }
   ],
   "source": [
    "from urllib import request\n",
    "url = \"http://www.gutenberg.org/files/19033/19033.txt\"\n",
    "response = request.urlopen(url)\n",
    "raw = response.read().decode('utf8')\n",
    "print(len(raw), ' | ', type(raw), ' | ',  raw[:69])\n",
    "line()\n",
    "tokens = word_tokenize(raw)\n",
    "print(type(tokens), len(tokens), tokens[:10])"
   ]
  },
  {
   "cell_type": "markdown",
   "metadata": {},
   "source": [
    "Since a lot of descriptive information about the book is appearing in the collocations, they should be trimmed from the raw data"
   ]
  },
  {
   "cell_type": "code",
   "execution_count": 4,
   "metadata": {
    "collapsed": false
   },
   "outputs": [
    {
     "name": "stdout",
     "output_type": "stream",
     "text": [
      "<class 'nltk.text.Text'>\n",
      "['alas',\n",
      " '!',\n",
      " 'either',\n",
      " 'the',\n",
      " 'locks',\n",
      " 'were',\n",
      " 'too',\n",
      " 'large',\n",
      " ',',\n",
      " 'or',\n",
      " 'the',\n",
      " 'key',\n",
      " 'was',\n",
      " 'too',\n",
      " 'small']\n",
      "Project Gutenberg-tm; Project Gutenberg; said Alice; Literary Archive;\n",
      "White Rabbit; Archive Foundation; Gutenberg-tm electronic; Gutenberg\n",
      "Literary; electronic works; United States; March Hare; public domain;\n",
      "set forth; golden key; electronic work; white kid-gloves; Gutenberg-tm\n",
      "License; play croquet; Mary Ann; thought Alice\n",
      "None\n"
     ]
    }
   ],
   "source": [
    "text = nltk.Text(tokens)\n",
    "print(type(text))\n",
    "pp.pprint(text[976:991])\n",
    "pp.pprint(text.collocations())"
   ]
  },
  {
   "cell_type": "code",
   "execution_count": 5,
   "metadata": {
    "collapsed": false
   },
   "outputs": [
    {
     "data": {
      "text/plain": [
       "0"
      ]
     },
     "execution_count": 5,
     "metadata": {},
     "output_type": "execute_result"
    }
   ],
   "source": [
    "raw = raw[raw.find(\"I--DOWN THE RABBIT-HOLE\"):raw.rfind(\"End of the Project Gutenberg EBook\")]\n",
    "\n",
    "raw.find(\"I--DOWN THE RABBIT-HOLE\") #Trimmed book text"
   ]
  },
  {
   "cell_type": "code",
   "execution_count": 6,
   "metadata": {
    "collapsed": false
   },
   "outputs": [
    {
     "name": "stdout",
     "output_type": "stream",
     "text": [
      "said Alice; White Rabbit; March Hare; golden key; white kid-gloves;\n",
      "play croquet; Mary Ann; thought Alice; inches high; little golden;\n",
      "feet high; cool fountains; yer honor; good deal; low voice; asking\n",
      "riddles; right size; trembling voice; shrinking rapidly; came upon\n",
      "said Alice; White Rabbit; March Hare; golden key; white kid-gloves;\n",
      "play croquet; Mary Ann; thought Alice; inches high; little golden;\n",
      "feet high; cool fountains; yer honor; good deal; low voice; asking\n",
      "riddles; right size; trembling voice; shrinking rapidly; came upon\n",
      "None\n"
     ]
    }
   ],
   "source": [
    "tokens = word_tokenize(raw)\n",
    "text = nltk.Text(tokens)\n",
    "text.collocations()\n",
    "pp.pprint(text.collocations())"
   ]
  },
  {
   "cell_type": "markdown",
   "metadata": {},
   "source": [
    "### _HTML_\n",
    "\n",
    "Packages such as BeautifulSoup enable the ability to wrange text from HTML web pages."
   ]
  },
  {
   "cell_type": "code",
   "execution_count": 8,
   "metadata": {
    "collapsed": false
   },
   "outputs": [
    {
     "name": "stdout",
     "output_type": "stream",
     "text": [
      "<!doctype html>\n",
      "<html lang=\"en\" dir=\"ltr\" class=\"\">\n",
      "<head>\n",
      "\n",
      "<meta http-equiv=\"Content-Type\" content=\"text/html; charset=UTF-8\">\n",
      "\t<meta name=\"viewport\" content=\"width=device-width, initial-scale=1.0, user-scalable=yes\">\n",
      "<meta name=\"generator\" content=\"MediaWiki 1.19.24\" />\n",
      "<meta name=\"keywords\" content=\"Sailor Moon Wiki,sailormoon,Sailor Galaxia,Chaos,Sailor Chaos,Sailor Chi and Sailor Phi,Sailor Lethe,Sailor Mnemosyne,Sailor Iron Mouse,Sailor Aluminum Siren,Sailor Lead Crow,Sailor Tin Nyanko,Sailor Heavy Metal Papillon\" />\n",
      "<meta name=\"description\" content=\"Sailor Galaxia is one of the main antagonists in the final arc of Sailor Moon. She is well known...\" />\n",
      "<meta name=\"twitter:card\" content=\"summary\" />\n",
      "<meta name=\"twitter:site\" content=\"@getfandom\" />\n",
      "<meta name=\"twitter:url\" content=\"http://sailormoon.wikia.com/wiki/Sailor_Galaxia\" />\n",
      "<meta name=\"twitter:title\" content=\"Sailor Galaxia | Sailor Moon Wiki | FANDOM powered by Wikia\" />\n",
      "<meta name=\"twitter:description\" content=\"Sailor G\n",
      "------------------------------------------------------------------\n",
      "['adblockrecovery', 'adcontext', 'adform', 'adsincontent', 'anime', 'apertureenabled', 'applicationversion', 'article', 'block', 'blocked', 'body', 'catch', 'clearinterval', 'color', 'community', 'computeall', 'console', 'context', 'control', 'data', 'defined', 'detecting', 'dispatchevent', 'document', 'down', 'else', 'enableadsinmaps', 'enableprofiling', 'eval', 'executor', 'explore', 'filter', 'final', 'flag', 'genuid', 'getattributenodens', 'getelementbyid', 'googlebot', 'googleweblight', 'have', 'htmlcollection', 'iakakf', 'iawirudatsilhct', 'icalbtsilk', 'idadelbanesegnahcxe', 'iihwditsilet', 'impressionviewable', 'innertext', 'instart', 'instartlogicrecovery', 'itemeletdbatniopdneyr', 'ivetatselbaira', 'iyrotsihelbanenoitceriderrof', 'known', 'labels', 'link', 'logic', 'manga', 'margin', 'message', 'mmsdomain', 'morphstate', 'namespace', 'navigator', 'null', 'onchange', 'pending', 'performance', 'prebid', 'prod', 'protocol', 'pvnumberglobal', 'regexp', 'removeattributens', 'require', 'return', 'safari', 'script', 'sending', 'sessionid', 'sessionstorage', 'setattributenode', 'shadow', 'skyscraper', 'slotrenderended', 'slots', 'strict', 'style', 'textcontent', 'timed', 'track', 'typeof', 'unload', 'usedefaults', 'utma', 'villains', 'void', 'widgets', 'with', 'wrong']\n",
      "------------------------------------------------------------------\n",
      "Displaying 6 of 6 matches:\n",
      "                                    sailor galaxia main antagonists final sail\n",
      "                                    sailor moon well known sailor galaxia sail\n",
      "                                    sailor galaxia sailor moon wiki fandom pow\n",
      "                                    sailor moon wiki fandom powered wikia lang\n",
      "s https sailormoon shadow galactica sailor senshi villains manga characters fe\n",
      "ters female manga biographies manga sailor senshi manga villains manga article\n",
      "------------------------------------------------------------------\n",
      "ilufelbanenoitcetedl iyrotsihelbanenoitceriderrof; break case;\n",
      "ierelbanenoitcerid ilufelbanenoitcetedl; safari ierelbanenoitcerid;\n",
      "function return; lang lang; null null; host cookie; adcontext context;\n",
      "headers host; iyrotsihelbanenoitceriderrof safari; switch case; type\n",
      "detected; iyrotsihelbanenoitceriderrof iawirudatsilhct; return\n",
      "function; https https; response iobyd; require function; createelement\n",
      "createrange; eval atob\n"
     ]
    }
   ],
   "source": [
    "from bs4 import BeautifulSoup\n",
    "url = \"http://sailormoon.wikia.com/wiki/Sailor_Galaxia\"\n",
    "html = request.urlopen(url).read().decode('utf8')\n",
    "print(html[:1000])\n",
    "line()\n",
    "\n",
    "html_raw = BeautifulSoup(html[554:126566], \"lxml\")\n",
    "tokens = word_tokenize(html_raw.get_text())\n",
    "print(sorted(list(set([w.lower() for w in tokens if w.isalpha() and len(w) > 3]))[:100]))\n",
    "line()\n",
    "\n",
    "html_text = nltk.Text([w.lower() for w in tokens if w.isalpha() and len(w) > 3])\n",
    "html_text.concordance('sailor')\n",
    "line()\n",
    "\n",
    "html_text.collocations()"
   ]
  },
  {
   "cell_type": "markdown",
   "metadata": {},
   "source": [
    "### _Reading Local Files_\n",
    "\n",
    "In addition to the ```open()``` function built into Pythonthat read flat files, third party packages such as ```pypdf``` and ```pywin32``` will read PDF and Word files.\n",
    "\n",
    "* Corpus files can also be read in this same manner\n",
    "* Any string, including ```input()``` can be tokenized"
   ]
  },
  {
   "cell_type": "code",
   "execution_count": 9,
   "metadata": {
    "collapsed": false
   },
   "outputs": [
    {
     "name": "stdout",
     "output_type": "stream",
     "text": [
      "Key\tNumber\tName\tType 1\tType 2\tTotal\tHP\tAttack\tDefense\tSp. Atk\tSp. Def\tSpeed\tGeneration\tLegendary\n",
      "1\t1\tBulbasaur\tGrass\tPoison\t318\t45\t49\t49\t65\t65\t45\t1\tFALSE\n",
      "2\t2\tIvysaur\tGrass\tPoison\t405\t60\t62\t63\t80\t80\t60\t1\tFALSE\n",
      "3\t3\tVenusaur\tGrass\tPoison\t525\t80\t82\t83\t100\t100\t80\t1\tFALSE\n",
      "4\t3\tVenusaurMega Venusaur\tGrass\tPoison\t625\t80\t100\t123\t122\t120\t80\t1\tFALSE\n",
      "5\t4\tCharmander\tFire\t\t309\t39\t52\t43\t60\t50\t65\t1\tFALSE\n",
      "6\t5\tCharmeleon\tFire\t\t405\t58\t64\t58\t80\t65\t80\t1\tFALSE\n",
      "7\t6\tCharizard\tFire\tFlying\t534\t78\t84\t78\t109\t85\t100\t1\tFALSE\n",
      "8\t6\tCharizardMega Charizard X\tFire\tDragon\t634\t78\t130\t111\t130\t85\t100\t1\tFALSE\n",
      "9\t6\tCharizardMega Charizard Y\tFire\tFlying\t634\t78\t104\t78\t159\t115\t100\t1\tFALSE\n",
      "10\t7\tSquirtle\tWater\t\t314\t44\t48\t65\t50\t64\t43\t1\tFALSE\n",
      "11\t8\tWartortle\tWater\t\t405\t59\t63\t80\t65\t80\t58\t1\tFALSE\n",
      "12\t9\tBlastoise\tWater\t\t530\t79\t83\t100\t85\t105\t78\t1\tFALSE\n",
      "13\t9\tBlastoiseMega Blastoise\tWater\t\t630\t79\t103\t120\t135\t115\t78\t1\tFALSE\n",
      "14\t10\tCaterpie\tBug\t\t195\t45\t30\t35\t20\t20\t45\t1\tFALSE\n",
      "15\t11\tMetapod\tBug\t\t205\t50\t20\t55\t25\t25\t30\t1\tFALSE\n",
      "16\t12\tButterfree\tBug\tFlying\t395\t60\t45\t50\t90\t80\t70\t1\tFALSE\n",
      "17\t13\tWeedle\tBug\tPoison\t195\t40\t35\t30\t20\t20\t50\t1\tFALSE\n",
      "18\t14\tKakuna\tBug\tPoison\t205\t45\t25\t50\t25\t25\t35\t1\tFALSE\n",
      "19\t15\tBeedrill\tBug\tPoison\t395\t65\t90\t40\t45\t80\t75\t1\tFALSE\n",
      "20\t15\tBeedrillMega Beedrill\tBug\tPoison\t495\t65\t150\t40\t15\t80\t145\t1\tFALSE\n",
      "21\t16\tPidgey\tNormal\tFlying\t251\t40\t45\t40\t35\t35\t56\t1\tFALSE\n",
      "22\t17\tPidgeotto\tNormal\tFlying\t349\t63\t60\t55\t50\t50\t71\t1\tFALSE\n",
      "23\t18\tPidgeot\tNormal\tFlying\t479\t83\t80\t75\t70\t70\t101\t1\tFALSE\n",
      "24\t18\tPidgeotMega Pidgeot\tNormal\tFlying\t579\t83\t80\t80\t135\t80\t121\t1\tFALSE\n",
      "25\t19\tRattata\tNormal\t\t253\t30\t56\t35\t25\t35\t72\t1\tFALSE\n",
      "26\t20\tRaticate\tNormal\t\t413\t55\t81\t60\t50\t70\t97\t1\tFALSE\n",
      "27\t21\tSpearow\tNormal\tFlying\t262\t40\t60\t30\t31\t31\t70\t1\tFALSE\n",
      "28\t22\tFearow\tNormal\tFlying\t442\t65\t90\t65\t61\t61\t100\t1\tFALSE\n",
      "29\t23\tEkans\tPoison\t\t288\t35\t60\t44\t40\t54\t55\t1\tFALSE\n",
      "30\t24\tArbok\tPoison\t\t438\t60\t85\t69\t65\t79\t80\t1\tFALSE\n",
      "31\t25\tPikachu\tElectric\t\t320\t35\t55\t40\t50\t50\t90\t1\tFALSE\n",
      "32\t26\tRaichu\tElectric\t\t485\t60\t90\t55\t90\t80\t110\t1\tFALSE\n",
      "33\t27\tSandshrew\tGround\t\t300\t50\t75\t85\t20\t30\t40\t1\tFALSE\n",
      "34\t28\tSandslash\tGround\t\t450\t75\t100\t110\t45\t55\t65\t1\tFALSE\n",
      "35\t29\tNidoranƒ??\tPoison\t\t275\t55\t47\t52\t40\t40\t41\t1\tFALSE\n",
      "36\t30\tNidorina\tPoison\t\t365\t70\t62\t67\t55\t55\t56\t1\tFALSE\n",
      "37\t31\tNidoqueen\tPoison\tGround\t505\t90\t92\t87\t75\t85\t76\t1\tFALSE\n",
      "38\t32\tNidoranƒ??\tPoison\t\t273\t46\t57\t40\t40\t40\t50\t1\tFALSE\n",
      "39\t33\tNidorino\tPoison\t\t365\t61\t72\t57\t55\t55\t65\t1\tFALSE\n",
      "40\t34\tNidoking\tPoison\tGround\t505\t81\t102\t77\t85\t75\t85\t1\tFALSE\n",
      "41\t35\tClefairy\tFairy\t\t323\t70\t45\t48\t60\t65\t35\t1\tFALSE\n",
      "42\t36\tClefable\tFairy\t\t483\t95\t70\t73\t95\t90\t60\t1\tFALSE\n",
      "43\t37\tVulpix\tFire\t\t299\t38\t41\t40\t50\t65\t65\t1\tFALSE\n",
      "44\t38\tNinetales\tFire\t\t505\t73\t76\t75\t81\t100\t100\t1\tFALSE\n",
      "45\t39\tJigglypuff\tNormal\tFairy\t270\t115\t45\t20\t45\t25\t20\t1\tFALSE\n",
      "46\t40\tWigglytuff\tNormal\tFairy\t435\t140\t70\t45\t85\t50\t45\t1\tFALSE\n",
      "47\t41\tZubat\tPoison\tFlying\t245\t40\t45\t35\t30\t40\t55\t1\tFALSE\n",
      "48\t42\tGolbat\tPoison\tFlying\t455\t75\t80\t70\t65\t75\t90\t1\tFALSE\n",
      "49\t43\tOddish\tGrass\tPoison\t320\t45\t50\t55\t75\t65\t30\t1\tFALSE\n",
      "50\t44\tGloom\tGrass\tPoison\t395\t60\t65\t70\t85\t75\t40\t1\tFALSE\n",
      "51\t45\tVileplume\tGrass\tPoison\t490\t75\t80\t85\t110\t90\t50\t1\tFALSE\n",
      "52\t46\tParas\tBug\tGrass\t285\t35\t70\t55\t45\t55\t25\t1\tFALSE\n",
      "53\t47\tParasect\tBug\tGrass\t405\t60\t95\t80\t60\t80\t30\t1\tFALSE\n",
      "54\t48\tVenonat\tBug\tPoison\t305\t60\t55\t50\t40\t55\t45\t1\tFALSE\n",
      "55\t49\tVenomoth\tBug\tPoison\t450\t70\t65\t60\t90\t75\t90\t1\tFALSE\n",
      "56\t50\tDiglett\tGround\t\t265\t10\t55\t25\t35\t45\t95\t1\tFALSE\n",
      "57\t51\tDugtrio\tGround\t\t405\t35\t80\t50\t50\t70\t120\t1\tFALSE\n",
      "58\t52\tMeowth\tNormal\t\t290\t40\t45\t35\t40\t40\t90\t1\tFALSE\n",
      "59\t53\tPersian\tNormal\t\t440\t65\t70\t60\t65\t65\t115\t1\tFALSE\n",
      "60\t54\tPsyduck\tWater\t\t320\t50\t52\t48\t65\t50\t55\t1\tFALSE\n",
      "61\t55\tGolduck\tWater\t\t500\t80\t82\t78\t95\t80\t85\t1\tFALSE\n",
      "62\t56\tMankey\tFighting\t\t305\t40\t80\t35\t35\t45\t70\t1\tFALSE\n",
      "63\t57\tPrimeape\tFighting\t\t455\t65\t105\t60\t60\t70\t95\t1\tFALSE\n",
      "64\t58\tGrowlithe\tFire\t\t350\t55\t70\t45\t70\t50\t60\t1\tFALSE\n",
      "65\t59\tArcanine\tFire\t\t555\t90\t110\t80\t100\t80\t95\t1\tFALSE\n",
      "66\t60\tPoliwag\tWater\t\t300\t40\t50\t40\t40\t40\t90\t1\tFALSE\n",
      "67\t61\tPoliwhirl\tWater\t\t385\t65\t65\t65\t50\t50\t90\t1\tFALSE\n",
      "68\t62\tPoliwrath\tWater\tFighting\t510\t90\t95\t95\t70\t90\t70\t1\tFALSE\n",
      "69\t63\tAbra\tPsychic\t\t310\t25\t20\t15\t105\t55\t90\t1\tFALSE\n",
      "70\t64\tKadabra\tPsychic\t\t400\t40\t35\t30\t120\t70\t105\t1\tFALSE\n",
      "71\t65\tAlakazam\tPsychic\t\t500\t55\t50\t45\t135\t95\t120\t1\tFALSE\n",
      "72\t65\tAlakazamMega Alakazam\tPsychic\t\t590\t55\t50\t65\t175\t95\t150\t1\tFALSE\n",
      "73\t66\tMachop\tFighting\t\t305\t70\t80\t50\t35\t35\t35\t1\tFALSE\n",
      "74\t67\tMachoke\tFighting\t\t405\t80\t100\t70\t50\t60\t45\t1\tFALSE\n",
      "75\t68\tMachamp\tFighting\t\t505\t90\t130\t80\t65\t85\t55\t1\tFALSE\n",
      "76\t69\tBellsprout\tGrass\tPoison\t300\t50\t75\t35\t70\t30\t40\t1\tFALSE\n",
      "77\t70\tWeepinbell\tGrass\tPoison\t390\t65\t90\t50\t85\t45\t55\t1\tFALSE\n",
      "78\t71\tVictreebel\tGrass\tPoison\t490\t80\t105\t65\t100\t70\t70\t1\tFALSE\n",
      "79\t72\tTentacool\tWater\tPoison\t335\t40\t40\t35\t50\t100\t70\t1\tFALSE\n",
      "80\t73\tTentacruel\tWater\tPoison\t515\t80\t70\t65\t80\t120\t100\t1\tFALSE\n",
      "81\t74\tGeodude\tRock\tGround\t300\t40\t80\t100\t30\t30\t20\t1\tFALSE\n",
      "82\t75\tGraveler\tRock\tGround\t390\t55\t95\t115\t45\t45\t35\t1\tFALSE\n",
      "83\t76\tGolem\tRock\tGround\t495\t80\t120\t130\t55\t65\t45\t1\tFALSE\n",
      "84\t77\tPonyta\tFire\t\t410\t50\t85\t55\t65\t65\t90\t1\tFALSE\n",
      "85\t78\tRapidash\tFire\t\t500\t65\t100\t70\t80\t80\t105\t1\tFALSE\n",
      "86\t79\tSlowpoke\tWater\tPsychic\t315\t90\t65\t65\t40\t40\t15\t1\tFALSE\n",
      "87\t80\tSlowbro\tWater\tPsychic\t490\t95\t75\t110\t100\t80\t30\t1\tFALSE\n",
      "88\t80\tSlowbroMega Slowbro\tWater\tPsychic\t590\t95\t75\t180\t130\t80\t30\t1\tFALSE\n",
      "89\t81\tMagnemite\tElectric\tSteel\t325\t25\t35\t70\t95\t55\t45\t1\tFALSE\n",
      "90\t82\tMagneton\tElectric\tSteel\t465\t50\t60\t95\t120\t70\t70\t1\tFALSE\n",
      "91\t83\tFarfetch'd\tNormal\tFlying\t352\t52\t65\t55\t58\t62\t60\t1\tFALSE\n",
      "92\t84\tDoduo\tNormal\tFlying\t310\t35\t85\t45\t35\t35\t75\t1\tFALSE\n",
      "93\t85\tDodrio\tNormal\tFlying\t460\t60\t110\t70\t60\t60\t100\t1\tFALSE\n",
      "94\t86\tSeel\tWater\t\t325\t65\t45\t55\t45\t70\t45\t1\tFALSE\n",
      "95\t87\tDewgong\tWater\tIce\t475\t90\t70\t80\t70\t95\t70\t1\tFALSE\n",
      "96\t88\tGrimer\tPoison\t\t325\t80\t80\t50\t40\t50\t25\t1\tFALSE\n",
      "97\t89\tMuk\tPoison\t\t500\t105\t105\t75\t65\t100\t50\t1\tFALSE\n",
      "98\t90\tShellder\tWater\t\t305\t30\t65\t100\t45\t25\t40\t1\tFALSE\n",
      "99\t91\tCloyster\tWater\tIce\t525\t50\t95\t180\t85\t45\t70\t1\tFALSE\n",
      "100\t92\tGastly\tGhost\tPoison\t310\t30\t35\t30\t100\t35\t80\t1\tFALSE\n",
      "101\t93\tHaunter\tGhost\tPoison\t405\t45\t50\t45\t115\t55\t95\t1\tFALSE\n",
      "102\t94\tGengar\tGhost\tPoison\t500\t60\t65\t60\t130\t75\t110\t1\tFALSE\n",
      "103\t94\tGengarMega Gengar\tGhost\tPoison\t600\t60\t65\t80\t170\t95\t130\t1\tFALSE\n",
      "104\t95\tOnix\tRock\tGround\t385\t35\t45\t160\t30\t45\t70\t1\tFALSE\n",
      "105\t96\tDrowzee\tPsychic\t\t328\t60\t48\t45\t43\t90\t42\t1\tFALSE\n",
      "106\t97\tHypno\tPsychic\t\t483\t85\t73\t70\t73\t115\t67\t1\tFALSE\n",
      "107\t98\tKrabby\tWater\t\t325\t30\t105\t90\t25\t25\t50\t1\tFALSE\n",
      "108\t99\tKingler\tWater\t\t475\t55\t130\t115\t50\t50\t75\t1\tFALSE\n",
      "109\t100\tVoltorb\tElectric\t\t330\t40\t30\t50\t55\t55\t100\t1\tFALSE\n",
      "110\t101\tElectrode\tElectric\t\t480\t60\t50\t70\t80\t80\t140\t1\tFALSE\n",
      "111\t102\tExeggcute\tGrass\tPsychic\t325\t60\t40\t80\t60\t45\t40\t1\tFALSE\n",
      "112\t103\tExeggutor\tGrass\tPsychic\t520\t95\t95\t85\t125\t65\t55\t1\tFALSE\n",
      "113\t104\tCubone\tGround\t\t320\t50\t50\t95\t40\t50\t35\t1\tFALSE\n",
      "114\t105\tMarowak\tGround\t\t425\t60\t80\t110\t50\t80\t45\t1\tFALSE\n",
      "115\t106\tHitmonlee\tFighting\t\t455\t50\t120\t53\t35\t110\t87\t1\tFALSE\n",
      "116\t107\tHitmonchan\tFighting\t\t455\t50\t105\t79\t35\t110\t76\t1\tFALSE\n",
      "117\t108\tLickitung\tNormal\t\t385\t90\t55\t75\t60\t75\t30\t1\tFALSE\n",
      "118\t109\tKoffing\tPoison\t\t340\t40\t65\t95\t60\t45\t35\t1\tFALSE\n",
      "119\t110\tWeezing\tPoison\t\t490\t65\t90\t120\t85\t70\t60\t1\tFALSE\n",
      "120\t111\tRhyhorn\tGround\tRock\t345\t80\t85\t95\t30\t30\t25\t1\tFALSE\n",
      "121\t112\tRhydon\tGround\tRock\t485\t105\t130\t120\t45\t45\t40\t1\tFALSE\n",
      "122\t113\tChansey\tNormal\t\t450\t250\t5\t5\t35\t105\t50\t1\tFALSE\n",
      "123\t114\tTangela\tGrass\t\t435\t65\t55\t115\t100\t40\t60\t1\tFALSE\n",
      "124\t115\tKangaskhan\tNormal\t\t490\t105\t95\t80\t40\t80\t90\t1\tFALSE\n",
      "125\t115\tKangaskhanMega Kangaskhan\tNormal\t\t590\t105\t125\t100\t60\t100\t100\t1\tFALSE\n",
      "126\t116\tHorsea\tWater\t\t295\t30\t40\t70\t70\t25\t60\t1\tFALSE\n",
      "127\t117\tSeadra\tWater\t\t440\t55\t65\t95\t95\t45\t85\t1\tFALSE\n",
      "128\t118\tGoldeen\tWater\t\t320\t45\t67\t60\t35\t50\t63\t1\tFALSE\n",
      "129\t119\tSeaking\tWater\t\t450\t80\t92\t65\t65\t80\t68\t1\tFALSE\n",
      "130\t120\tStaryu\tWater\t\t340\t30\t45\t55\t70\t55\t85\t1\tFALSE\n",
      "131\t121\tStarmie\tWater\tPsychic\t520\t60\t75\t85\t100\t85\t115\t1\tFALSE\n",
      "132\t122\tMr. Mime\tPsychic\tFairy\t460\t40\t45\t65\t100\t120\t90\t1\tFALSE\n",
      "133\t123\tScyther\tBug\tFlying\t500\t70\t110\t80\t55\t80\t105\t1\tFALSE\n",
      "134\t124\tJynx\tIce\tPsychic\t455\t65\t50\t35\t115\t95\t95\t1\tFALSE\n",
      "135\t125\tElectabuzz\tElectric\t\t490\t65\t83\t57\t95\t85\t105\t1\tFALSE\n",
      "136\t126\tMagmar\tFire\t\t495\t65\t95\t57\t100\t85\t93\t1\tFALSE\n",
      "137\t127\tPinsir\tBug\t\t500\t65\t125\t100\t55\t70\t85\t1\tFALSE\n",
      "138\t127\tPinsirMega Pinsir\tBug\tFlying\t600\t65\t155\t120\t65\t90\t105\t1\tFALSE\n",
      "139\t128\tTauros\tNormal\t\t490\t75\t100\t95\t40\t70\t110\t1\tFALSE\n",
      "140\t129\tMagikarp\tWater\t\t200\t20\t10\t55\t15\t20\t80\t1\tFALSE\n",
      "141\t130\tGyarados\tWater\tFlying\t540\t95\t125\t79\t60\t100\t81\t1\tFALSE\n",
      "142\t130\tGyaradosMega Gyarados\tWater\tDark\t640\t95\t155\t109\t70\t130\t81\t1\tFALSE\n",
      "143\t131\tLapras\tWater\tIce\t535\t130\t85\t80\t85\t95\t60\t1\tFALSE\n",
      "144\t132\tDitto\tNormal\t\t288\t48\t48\t48\t48\t48\t48\t1\tFALSE\n",
      "145\t133\tEevee\tNormal\t\t325\t55\t55\t50\t45\t65\t55\t1\tFALSE\n",
      "146\t134\tVaporeon\tWater\t\t525\t130\t65\t60\t110\t95\t65\t1\tFALSE\n",
      "147\t135\tJolteon\tElectric\t\t525\t65\t65\t60\t110\t95\t130\t1\tFALSE\n",
      "148\t136\tFlareon\tFire\t\t525\t65\t130\t60\t95\t110\t65\t1\tFALSE\n",
      "149\t137\tPorygon\tNormal\t\t395\t65\t60\t70\t85\t75\t40\t1\tFALSE\n",
      "150\t138\tOmanyte\tRock\tWater\t355\t35\t40\t100\t90\t55\t35\t1\tFALSE\n",
      "151\t139\tOmastar\tRock\tWater\t495\t70\t60\t125\t115\t70\t55\t1\tFALSE\n",
      "152\t140\tKabuto\tRock\tWater\t355\t30\t80\t90\t55\t45\t55\t1\tFALSE\n",
      "153\t141\tKabutops\tRock\tWater\t495\t60\t115\t105\t65\t70\t80\t1\tFALSE\n",
      "154\t142\tAerodactyl\tRock\tFlying\t515\t80\t105\t65\t60\t75\t130\t1\tFALSE\n",
      "155\t142\tAerodactylMega Aerodactyl\tRock\tFlying\t615\t80\t135\t85\t70\t95\t150\t1\tFALSE\n",
      "156\t143\tSnorlax\tNormal\t\t540\t160\t110\t65\t65\t110\t30\t1\tFALSE\n",
      "157\t144\tArticuno\tIce\tFlying\t580\t90\t85\t100\t95\t125\t85\t1\tTRUE\n",
      "158\t145\tZapdos\tElectric\tFlying\t580\t90\t90\t85\t125\t90\t100\t1\tTRUE\n",
      "159\t146\tMoltres\tFire\tFlying\t580\t90\t100\t90\t125\t85\t90\t1\tTRUE\n",
      "160\t147\tDratini\tDragon\t\t300\t41\t64\t45\t50\t50\t50\t1\tFALSE\n",
      "161\t148\tDragonair\tDragon\t\t420\t61\t84\t65\t70\t70\t70\t1\tFALSE\n",
      "162\t149\tDragonite\tDragon\tFlying\t600\t91\t134\t95\t100\t100\t80\t1\tFALSE\n",
      "163\t150\tMewtwo\tPsychic\t\t680\t106\t110\t90\t154\t90\t130\t1\tTRUE\n",
      "164\t150\tMewtwoMega Mewtwo X\tPsychic\tFighting\t780\t106\t190\t100\t154\t100\t130\t1\tTRUE\n",
      "165\t150\tMewtwoMega Mewtwo Y\tPsychic\t\t780\t106\t150\t70\t194\t120\t140\t1\tTRUE\n",
      "166\t151\tMew\tPsychic\t\t600\t100\t100\t100\t100\t100\t100\t1\tFALSE\n",
      "167\t152\tChikorita\tGrass\t\t318\t45\t49\t65\t49\t65\t45\t2\tFALSE\n",
      "168\t153\tBayleef\tGrass\t\t405\t60\t62\t80\t63\t80\t60\t2\tFALSE\n",
      "169\t154\tMeganium\tGrass\t\t525\t80\t82\t100\t83\t100\t80\t2\tFALSE\n",
      "170\t155\tCyndaquil\tFire\t\t309\t39\t52\t43\t60\t50\t65\t2\tFALSE\n",
      "171\t156\tQuilava\tFire\t\t405\t58\t64\t58\t80\t65\t80\t2\tFALSE\n",
      "172\t157\tTyphlosion\tFire\t\t534\t78\t84\t78\t109\t85\t100\t2\tFALSE\n",
      "173\t158\tTotodile\tWater\t\t314\t50\t65\t64\t44\t48\t43\t2\tFALSE\n",
      "174\t159\tCroconaw\tWater\t\t405\t65\t80\t80\t59\t63\t58\t2\tFALSE\n",
      "175\t160\tFeraligatr\tWater\t\t530\t85\t105\t100\t79\t83\t78\t2\tFALSE\n",
      "176\t161\tSentret\tNormal\t\t215\t35\t46\t34\t35\t45\t20\t2\tFALSE\n",
      "177\t162\tFurret\tNormal\t\t415\t85\t76\t64\t45\t55\t90\t2\tFALSE\n",
      "178\t163\tHoothoot\tNormal\tFlying\t262\t60\t30\t30\t36\t56\t50\t2\tFALSE\n",
      "179\t164\tNoctowl\tNormal\tFlying\t442\t100\t50\t50\t76\t96\t70\t2\tFALSE\n",
      "180\t165\tLedyba\tBug\tFlying\t265\t40\t20\t30\t40\t80\t55\t2\tFALSE\n",
      "181\t166\tLedian\tBug\tFlying\t390\t55\t35\t50\t55\t110\t85\t2\tFALSE\n",
      "182\t167\tSpinarak\tBug\tPoison\t250\t40\t60\t40\t40\t40\t30\t2\tFALSE\n",
      "183\t168\tAriados\tBug\tPoison\t390\t70\t90\t70\t60\t60\t40\t2\tFALSE\n",
      "184\t169\tCrobat\tPoison\tFlying\t535\t85\t90\t80\t70\t80\t130\t2\tFALSE\n",
      "185\t170\tChinchou\tWater\tElectric\t330\t75\t38\t38\t56\t56\t67\t2\tFALSE\n",
      "186\t171\tLanturn\tWater\tElectric\t460\t125\t58\t58\t76\t76\t67\t2\tFALSE\n",
      "187\t172\tPichu\tElectric\t\t205\t20\t40\t15\t35\t35\t60\t2\tFALSE\n",
      "188\t173\tCleffa\tFairy\t\t218\t50\t25\t28\t45\t55\t15\t2\tFALSE\n",
      "189\t174\tIgglybuff\tNormal\tFairy\t210\t90\t30\t15\t40\t20\t15\t2\tFALSE\n",
      "190\t175\tTogepi\tFairy\t\t245\t35\t20\t65\t40\t65\t20\t2\tFALSE\n",
      "191\t176\tTogetic\tFairy\tFlying\t405\t55\t40\t85\t80\t105\t40\t2\tFALSE\n",
      "192\t177\tNatu\tPsychic\tFlying\t320\t40\t50\t45\t70\t45\t70\t2\tFALSE\n",
      "193\t178\tXatu\tPsychic\tFlying\t470\t65\t75\t70\t95\t70\t95\t2\tFALSE\n",
      "194\t179\tMareep\tElectric\t\t280\t55\t40\t40\t65\t45\t35\t2\tFALSE\n",
      "195\t180\tFlaaffy\tElectric\t\t365\t70\t55\t55\t80\t60\t45\t2\tFALSE\n",
      "196\t181\tAmpharos\tElectric\t\t510\t90\t75\t85\t115\t90\t55\t2\tFALSE\n",
      "197\t181\tAmpharosMega Ampharos\tElectric\tDragon\t610\t90\t95\t105\t165\t110\t45\t2\tFALSE\n",
      "198\t182\tBellossom\tGrass\t\t490\t75\t80\t95\t90\t100\t50\t2\tFALSE\n",
      "199\t183\tMarill\tWater\tFairy\t250\t70\t20\t50\t20\t50\t40\t2\tFALSE\n",
      "200\t184\tAzumarill\tWater\tFairy\t420\t100\t50\t80\t60\t80\t50\t2\tFALSE\n",
      "201\t185\tSudowoodo\tRock\t\t410\t70\t100\t115\t30\t65\t30\t2\tFALSE\n",
      "202\t186\tPolitoed\tWater\t\t500\t90\t75\t75\t90\t100\t70\t2\tFALSE\n",
      "203\t187\tHoppip\tGrass\tFlying\t250\t35\t35\t40\t35\t55\t50\t2\tFALSE\n",
      "204\t188\tSkiploom\tGrass\tFlying\t340\t55\t45\t50\t45\t65\t80\t2\tFALSE\n",
      "205\t189\tJumpluff\tGrass\tFlying\t460\t75\t55\t70\t55\t95\t110\t2\tFALSE\n",
      "206\t190\tAipom\tNormal\t\t360\t55\t70\t55\t40\t55\t85\t2\tFALSE\n",
      "207\t191\tSunkern\tGrass\t\t180\t30\t30\t30\t30\t30\t30\t2\tFALSE\n",
      "208\t192\tSunflora\tGrass\t\t425\t75\t75\t55\t105\t85\t30\t2\tFALSE\n",
      "209\t193\tYanma\tBug\tFlying\t390\t65\t65\t45\t75\t45\t95\t2\tFALSE\n",
      "210\t194\tWooper\tWater\tGround\t210\t55\t45\t45\t25\t25\t15\t2\tFALSE\n",
      "211\t195\tQuagsire\tWater\tGround\t430\t95\t85\t85\t65\t65\t35\t2\tFALSE\n",
      "212\t196\tEspeon\tPsychic\t\t525\t65\t65\t60\t130\t95\t110\t2\tFALSE\n",
      "213\t197\tUmbreon\tDark\t\t525\t95\t65\t110\t60\t130\t65\t2\tFALSE\n",
      "214\t198\tMurkrow\tDark\tFlying\t405\t60\t85\t42\t85\t42\t91\t2\tFALSE\n",
      "215\t199\tSlowking\tWater\tPsychic\t490\t95\t75\t80\t100\t110\t30\t2\tFALSE\n",
      "216\t200\tMisdreavus\tGhost\t\t435\t60\t60\t60\t85\t85\t85\t2\tFALSE\n",
      "217\t201\tUnown\tPsychic\t\t336\t48\t72\t48\t72\t48\t48\t2\tFALSE\n",
      "218\t202\tWobbuffet\tPsychic\t\t405\t190\t33\t58\t33\t58\t33\t2\tFALSE\n",
      "219\t203\tGirafarig\tNormal\tPsychic\t455\t70\t80\t65\t90\t65\t85\t2\tFALSE\n",
      "220\t204\tPineco\tBug\t\t290\t50\t65\t90\t35\t35\t15\t2\tFALSE\n",
      "221\t205\tForretress\tBug\tSteel\t465\t75\t90\t140\t60\t60\t40\t2\tFALSE\n",
      "222\t206\tDunsparce\tNormal\t\t415\t100\t70\t70\t65\t65\t45\t2\tFALSE\n",
      "223\t207\tGligar\tGround\tFlying\t430\t65\t75\t105\t35\t65\t85\t2\tFALSE\n",
      "224\t208\tSteelix\tSteel\tGround\t510\t75\t85\t200\t55\t65\t30\t2\tFALSE\n",
      "225\t208\tSteelixMega Steelix\tSteel\tGround\t610\t75\t125\t230\t55\t95\t30\t2\tFALSE\n",
      "226\t209\tSnubbull\tFairy\t\t300\t60\t80\t50\t40\t40\t30\t2\tFALSE\n",
      "227\t210\tGranbull\tFairy\t\t450\t90\t120\t75\t60\t60\t45\t2\tFALSE\n",
      "228\t211\tQwilfish\tWater\tPoison\t430\t65\t95\t75\t55\t55\t85\t2\tFALSE\n",
      "229\t212\tScizor\tBug\tSteel\t500\t70\t130\t100\t55\t80\t65\t2\tFALSE\n",
      "230\t212\tScizorMega Scizor\tBug\tSteel\t600\t70\t150\t140\t65\t100\t75\t2\tFALSE\n",
      "231\t213\tShuckle\tBug\tRock\t505\t20\t10\t230\t10\t230\t5\t2\tFALSE\n",
      "232\t214\tHeracross\tBug\tFighting\t500\t80\t125\t75\t40\t95\t85\t2\tFALSE\n",
      "233\t214\tHeracrossMega Heracross\tBug\tFighting\t600\t80\t185\t115\t40\t105\t75\t2\tFALSE\n",
      "234\t215\tSneasel\tDark\tIce\t430\t55\t95\t55\t35\t75\t115\t2\tFALSE\n",
      "235\t216\tTeddiursa\tNormal\t\t330\t60\t80\t50\t50\t50\t40\t2\tFALSE\n",
      "236\t217\tUrsaring\tNormal\t\t500\t90\t130\t75\t75\t75\t55\t2\tFALSE\n",
      "237\t218\tSlugma\tFire\t\t250\t40\t40\t40\t70\t40\t20\t2\tFALSE\n",
      "238\t219\tMagcargo\tFire\tRock\t410\t50\t50\t120\t80\t80\t30\t2\tFALSE\n",
      "239\t220\tSwinub\tIce\tGround\t250\t50\t50\t40\t30\t30\t50\t2\tFALSE\n",
      "240\t221\tPiloswine\tIce\tGround\t450\t100\t100\t80\t60\t60\t50\t2\tFALSE\n",
      "241\t222\tCorsola\tWater\tRock\t380\t55\t55\t85\t65\t85\t35\t2\tFALSE\n",
      "242\t223\tRemoraid\tWater\t\t300\t35\t65\t35\t65\t35\t65\t2\tFALSE\n",
      "243\t224\tOctillery\tWater\t\t480\t75\t105\t75\t105\t75\t45\t2\tFALSE\n",
      "244\t225\tDelibird\tIce\tFlying\t330\t45\t55\t45\t65\t45\t75\t2\tFALSE\n",
      "245\t226\tMantine\tWater\tFlying\t465\t65\t40\t70\t80\t140\t70\t2\tFALSE\n",
      "246\t227\tSkarmory\tSteel\tFlying\t465\t65\t80\t140\t40\t70\t70\t2\tFALSE\n",
      "247\t228\tHoundour\tDark\tFire\t330\t45\t60\t30\t80\t50\t65\t2\tFALSE\n",
      "248\t229\tHoundoom\tDark\tFire\t500\t75\t90\t50\t110\t80\t95\t2\tFALSE\n",
      "249\t229\tHoundoomMega Houndoom\tDark\tFire\t600\t75\t90\t90\t140\t90\t115\t2\tFALSE\n",
      "250\t230\tKingdra\tWater\tDragon\t540\t75\t95\t95\t95\t95\t85\t2\tFALSE\n",
      "251\t231\tPhanpy\tGround\t\t330\t90\t60\t60\t40\t40\t40\t2\tFALSE\n",
      "252\t232\tDonphan\tGround\t\t500\t90\t120\t120\t60\t60\t50\t2\tFALSE\n",
      "253\t233\tPorygon2\tNormal\t\t515\t85\t80\t90\t105\t95\t60\t2\tFALSE\n",
      "254\t234\tStantler\tNormal\t\t465\t73\t95\t62\t85\t65\t85\t2\tFALSE\n",
      "255\t235\tSmeargle\tNormal\t\t250\t55\t20\t35\t20\t45\t75\t2\tFALSE\n",
      "256\t236\tTyrogue\tFighting\t\t210\t35\t35\t35\t35\t35\t35\t2\tFALSE\n",
      "257\t237\tHitmontop\tFighting\t\t455\t50\t95\t95\t35\t110\t70\t2\tFALSE\n",
      "258\t238\tSmoochum\tIce\tPsychic\t305\t45\t30\t15\t85\t65\t65\t2\tFALSE\n",
      "259\t239\tElekid\tElectric\t\t360\t45\t63\t37\t65\t55\t95\t2\tFALSE\n",
      "260\t240\tMagby\tFire\t\t365\t45\t75\t37\t70\t55\t83\t2\tFALSE\n",
      "261\t241\tMiltank\tNormal\t\t490\t95\t80\t105\t40\t70\t100\t2\tFALSE\n",
      "262\t242\tBlissey\tNormal\t\t540\t255\t10\t10\t75\t135\t55\t2\tFALSE\n",
      "263\t243\tRaikou\tElectric\t\t580\t90\t85\t75\t115\t100\t115\t2\tTRUE\n",
      "264\t244\tEntei\tFire\t\t580\t115\t115\t85\t90\t75\t100\t2\tTRUE\n",
      "265\t245\tSuicune\tWater\t\t580\t100\t75\t115\t90\t115\t85\t2\tTRUE\n",
      "266\t246\tLarvitar\tRock\tGround\t300\t50\t64\t50\t45\t50\t41\t2\tFALSE\n",
      "267\t247\tPupitar\tRock\tGround\t410\t70\t84\t70\t65\t70\t51\t2\tFALSE\n",
      "268\t248\tTyranitar\tRock\tDark\t600\t100\t134\t110\t95\t100\t61\t2\tFALSE\n",
      "269\t248\tTyranitarMega Tyranitar\tRock\tDark\t700\t100\t164\t150\t95\t120\t71\t2\tFALSE\n",
      "270\t249\tLugia\tPsychic\tFlying\t680\t106\t90\t130\t90\t154\t110\t2\tTRUE\n",
      "271\t250\tHo-oh\tFire\tFlying\t680\t106\t130\t90\t110\t154\t90\t2\tTRUE\n",
      "272\t251\tCelebi\tPsychic\tGrass\t600\t100\t100\t100\t100\t100\t100\t2\tFALSE\n",
      "273\t252\tTreecko\tGrass\t\t310\t40\t45\t35\t65\t55\t70\t3\tFALSE\n",
      "274\t253\tGrovyle\tGrass\t\t405\t50\t65\t45\t85\t65\t95\t3\tFALSE\n",
      "275\t254\tSceptile\tGrass\t\t530\t70\t85\t65\t105\t85\t120\t3\tFALSE\n",
      "276\t254\tSceptileMega Sceptile\tGrass\tDragon\t630\t70\t110\t75\t145\t85\t145\t3\tFALSE\n",
      "277\t255\tTorchic\tFire\t\t310\t45\t60\t40\t70\t50\t45\t3\tFALSE\n",
      "278\t256\tCombusken\tFire\tFighting\t405\t60\t85\t60\t85\t60\t55\t3\tFALSE\n",
      "279\t257\tBlaziken\tFire\tFighting\t530\t80\t120\t70\t110\t70\t80\t3\tFALSE\n",
      "280\t257\tBlazikenMega Blaziken\tFire\tFighting\t630\t80\t160\t80\t130\t80\t100\t3\tFALSE\n",
      "281\t258\tMudkip\tWater\t\t310\t50\t70\t50\t50\t50\t40\t3\tFALSE\n",
      "282\t259\tMarshtomp\tWater\tGround\t405\t70\t85\t70\t60\t70\t50\t3\tFALSE\n",
      "283\t260\tSwampert\tWater\tGround\t535\t100\t110\t90\t85\t90\t60\t3\tFALSE\n",
      "284\t260\tSwampertMega Swampert\tWater\tGround\t635\t100\t150\t110\t95\t110\t70\t3\tFALSE\n",
      "285\t261\tPoochyena\tDark\t\t220\t35\t55\t35\t30\t30\t35\t3\tFALSE\n",
      "286\t262\tMightyena\tDark\t\t420\t70\t90\t70\t60\t60\t70\t3\tFALSE\n",
      "287\t263\tZigzagoon\tNormal\t\t240\t38\t30\t41\t30\t41\t60\t3\tFALSE\n",
      "288\t264\tLinoone\tNormal\t\t420\t78\t70\t61\t50\t61\t100\t3\tFALSE\n",
      "289\t265\tWurmple\tBug\t\t195\t45\t45\t35\t20\t30\t20\t3\tFALSE\n",
      "290\t266\tSilcoon\tBug\t\t205\t50\t35\t55\t25\t25\t15\t3\tFALSE\n",
      "291\t267\tBeautifly\tBug\tFlying\t395\t60\t70\t50\t100\t50\t65\t3\tFALSE\n",
      "292\t268\tCascoon\tBug\t\t205\t50\t35\t55\t25\t25\t15\t3\tFALSE\n",
      "293\t269\tDustox\tBug\tPoison\t385\t60\t50\t70\t50\t90\t65\t3\tFALSE\n",
      "294\t270\tLotad\tWater\tGrass\t220\t40\t30\t30\t40\t50\t30\t3\tFALSE\n",
      "295\t271\tLombre\tWater\tGrass\t340\t60\t50\t50\t60\t70\t50\t3\tFALSE\n",
      "296\t272\tLudicolo\tWater\tGrass\t480\t80\t70\t70\t90\t100\t70\t3\tFALSE\n",
      "297\t273\tSeedot\tGrass\t\t220\t40\t40\t50\t30\t30\t30\t3\tFALSE\n",
      "298\t274\tNuzleaf\tGrass\tDark\t340\t70\t70\t40\t60\t40\t60\t3\tFALSE\n",
      "299\t275\tShiftry\tGrass\tDark\t480\t90\t100\t60\t90\t60\t80\t3\tFALSE\n",
      "300\t276\tTaillow\tNormal\tFlying\t270\t40\t55\t30\t30\t30\t85\t3\tFALSE\n",
      "301\t277\tSwellow\tNormal\tFlying\t430\t60\t85\t60\t50\t50\t125\t3\tFALSE\n",
      "302\t278\tWingull\tWater\tFlying\t270\t40\t30\t30\t55\t30\t85\t3\tFALSE\n",
      "303\t279\tPelipper\tWater\tFlying\t430\t60\t50\t100\t85\t70\t65\t3\tFALSE\n",
      "304\t280\tRalts\tPsychic\tFairy\t198\t28\t25\t25\t45\t35\t40\t3\tFALSE\n",
      "305\t281\tKirlia\tPsychic\tFairy\t278\t38\t35\t35\t65\t55\t50\t3\tFALSE\n",
      "306\t282\tGardevoir\tPsychic\tFairy\t518\t68\t65\t65\t125\t115\t80\t3\tFALSE\n",
      "307\t282\tGardevoirMega Gardevoir\tPsychic\tFairy\t618\t68\t85\t65\t165\t135\t100\t3\tFALSE\n",
      "308\t283\tSurskit\tBug\tWater\t269\t40\t30\t32\t50\t52\t65\t3\tFALSE\n",
      "309\t284\tMasquerain\tBug\tFlying\t414\t70\t60\t62\t80\t82\t60\t3\tFALSE\n",
      "310\t285\tShroomish\tGrass\t\t295\t60\t40\t60\t40\t60\t35\t3\tFALSE\n",
      "311\t286\tBreloom\tGrass\tFighting\t460\t60\t130\t80\t60\t60\t70\t3\tFALSE\n",
      "312\t287\tSlakoth\tNormal\t\t280\t60\t60\t60\t35\t35\t30\t3\tFALSE\n",
      "313\t288\tVigoroth\tNormal\t\t440\t80\t80\t80\t55\t55\t90\t3\tFALSE\n",
      "314\t289\tSlaking\tNormal\t\t670\t150\t160\t100\t95\t65\t100\t3\tFALSE\n",
      "315\t290\tNincada\tBug\tGround\t266\t31\t45\t90\t30\t30\t40\t3\tFALSE\n",
      "316\t291\tNinjask\tBug\tFlying\t456\t61\t90\t45\t50\t50\t160\t3\tFALSE\n",
      "317\t292\tShedinja\tBug\tGhost\t236\t1\t90\t45\t30\t30\t40\t3\tFALSE\n",
      "318\t293\tWhismur\tNormal\t\t240\t64\t51\t23\t51\t23\t28\t3\tFALSE\n",
      "319\t294\tLoudred\tNormal\t\t360\t84\t71\t43\t71\t43\t48\t3\tFALSE\n",
      "320\t295\tExploud\tNormal\t\t490\t104\t91\t63\t91\t73\t68\t3\tFALSE\n",
      "321\t296\tMakuhita\tFighting\t\t237\t72\t60\t30\t20\t30\t25\t3\tFALSE\n",
      "322\t297\tHariyama\tFighting\t\t474\t144\t120\t60\t40\t60\t50\t3\tFALSE\n",
      "323\t298\tAzurill\tNormal\tFairy\t190\t50\t20\t40\t20\t40\t20\t3\tFALSE\n",
      "324\t299\tNosepass\tRock\t\t375\t30\t45\t135\t45\t90\t30\t3\tFALSE\n",
      "325\t300\tSkitty\tNormal\t\t260\t50\t45\t45\t35\t35\t50\t3\tFALSE\n",
      "326\t301\tDelcatty\tNormal\t\t380\t70\t65\t65\t55\t55\t70\t3\tFALSE\n",
      "327\t302\tSableye\tDark\tGhost\t380\t50\t75\t75\t65\t65\t50\t3\tFALSE\n",
      "328\t302\tSableyeMega Sableye\tDark\tGhost\t480\t50\t85\t125\t85\t115\t20\t3\tFALSE\n",
      "329\t303\tMawile\tSteel\tFairy\t380\t50\t85\t85\t55\t55\t50\t3\tFALSE\n",
      "330\t303\tMawileMega Mawile\tSteel\tFairy\t480\t50\t105\t125\t55\t95\t50\t3\tFALSE\n",
      "331\t304\tAron\tSteel\tRock\t330\t50\t70\t100\t40\t40\t30\t3\tFALSE\n",
      "332\t305\tLairon\tSteel\tRock\t430\t60\t90\t140\t50\t50\t40\t3\tFALSE\n",
      "333\t306\tAggron\tSteel\tRock\t530\t70\t110\t180\t60\t60\t50\t3\tFALSE\n",
      "334\t306\tAggronMega Aggron\tSteel\t\t630\t70\t140\t230\t60\t80\t50\t3\tFALSE\n",
      "335\t307\tMeditite\tFighting\tPsychic\t280\t30\t40\t55\t40\t55\t60\t3\tFALSE\n",
      "336\t308\tMedicham\tFighting\tPsychic\t410\t60\t60\t75\t60\t75\t80\t3\tFALSE\n",
      "337\t308\tMedichamMega Medicham\tFighting\tPsychic\t510\t60\t100\t85\t80\t85\t100\t3\tFALSE\n",
      "338\t309\tElectrike\tElectric\t\t295\t40\t45\t40\t65\t40\t65\t3\tFALSE\n",
      "339\t310\tManectric\tElectric\t\t475\t70\t75\t60\t105\t60\t105\t3\tFALSE\n",
      "340\t310\tManectricMega Manectric\tElectric\t\t575\t70\t75\t80\t135\t80\t135\t3\tFALSE\n",
      "341\t311\tPlusle\tElectric\t\t405\t60\t50\t40\t85\t75\t95\t3\tFALSE\n",
      "342\t312\tMinun\tElectric\t\t405\t60\t40\t50\t75\t85\t95\t3\tFALSE\n",
      "343\t313\tVolbeat\tBug\t\t400\t65\t73\t55\t47\t75\t85\t3\tFALSE\n",
      "344\t314\tIllumise\tBug\t\t400\t65\t47\t55\t73\t75\t85\t3\tFALSE\n",
      "345\t315\tRoselia\tGrass\tPoison\t400\t50\t60\t45\t100\t80\t65\t3\tFALSE\n",
      "346\t316\tGulpin\tPoison\t\t302\t70\t43\t53\t43\t53\t40\t3\tFALSE\n",
      "347\t317\tSwalot\tPoison\t\t467\t100\t73\t83\t73\t83\t55\t3\tFALSE\n",
      "348\t318\tCarvanha\tWater\tDark\t305\t45\t90\t20\t65\t20\t65\t3\tFALSE\n",
      "349\t319\tSharpedo\tWater\tDark\t460\t70\t120\t40\t95\t40\t95\t3\tFALSE\n",
      "350\t319\tSharpedoMega Sharpedo\tWater\tDark\t560\t70\t140\t70\t110\t65\t105\t3\tFALSE\n",
      "351\t320\tWailmer\tWater\t\t400\t130\t70\t35\t70\t35\t60\t3\tFALSE\n",
      "352\t321\tWailord\tWater\t\t500\t170\t90\t45\t90\t45\t60\t3\tFALSE\n",
      "353\t322\tNumel\tFire\tGround\t305\t60\t60\t40\t65\t45\t35\t3\tFALSE\n",
      "354\t323\tCamerupt\tFire\tGround\t460\t70\t100\t70\t105\t75\t40\t3\tFALSE\n",
      "355\t323\tCameruptMega Camerupt\tFire\tGround\t560\t70\t120\t100\t145\t105\t20\t3\tFALSE\n",
      "356\t324\tTorkoal\tFire\t\t470\t70\t85\t140\t85\t70\t20\t3\tFALSE\n",
      "357\t325\tSpoink\tPsychic\t\t330\t60\t25\t35\t70\t80\t60\t3\tFALSE\n",
      "358\t326\tGrumpig\tPsychic\t\t470\t80\t45\t65\t90\t110\t80\t3\tFALSE\n",
      "359\t327\tSpinda\tNormal\t\t360\t60\t60\t60\t60\t60\t60\t3\tFALSE\n",
      "360\t328\tTrapinch\tGround\t\t290\t45\t100\t45\t45\t45\t10\t3\tFALSE\n",
      "361\t329\tVibrava\tGround\tDragon\t340\t50\t70\t50\t50\t50\t70\t3\tFALSE\n",
      "362\t330\tFlygon\tGround\tDragon\t520\t80\t100\t80\t80\t80\t100\t3\tFALSE\n",
      "363\t331\tCacnea\tGrass\t\t335\t50\t85\t40\t85\t40\t35\t3\tFALSE\n",
      "364\t332\tCacturne\tGrass\tDark\t475\t70\t115\t60\t115\t60\t55\t3\tFALSE\n",
      "365\t333\tSwablu\tNormal\tFlying\t310\t45\t40\t60\t40\t75\t50\t3\tFALSE\n",
      "366\t334\tAltaria\tDragon\tFlying\t490\t75\t70\t90\t70\t105\t80\t3\tFALSE\n",
      "367\t334\tAltariaMega Altaria\tDragon\tFairy\t590\t75\t110\t110\t110\t105\t80\t3\tFALSE\n",
      "368\t335\tZangoose\tNormal\t\t458\t73\t115\t60\t60\t60\t90\t3\tFALSE\n",
      "369\t336\tSeviper\tPoison\t\t458\t73\t100\t60\t100\t60\t65\t3\tFALSE\n",
      "370\t337\tLunatone\tRock\tPsychic\t440\t70\t55\t65\t95\t85\t70\t3\tFALSE\n",
      "371\t338\tSolrock\tRock\tPsychic\t440\t70\t95\t85\t55\t65\t70\t3\tFALSE\n",
      "372\t339\tBarboach\tWater\tGround\t288\t50\t48\t43\t46\t41\t60\t3\tFALSE\n",
      "373\t340\tWhiscash\tWater\tGround\t468\t110\t78\t73\t76\t71\t60\t3\tFALSE\n",
      "374\t341\tCorphish\tWater\t\t308\t43\t80\t65\t50\t35\t35\t3\tFALSE\n",
      "375\t342\tCrawdaunt\tWater\tDark\t468\t63\t120\t85\t90\t55\t55\t3\tFALSE\n",
      "376\t343\tBaltoy\tGround\tPsychic\t300\t40\t40\t55\t40\t70\t55\t3\tFALSE\n",
      "377\t344\tClaydol\tGround\tPsychic\t500\t60\t70\t105\t70\t120\t75\t3\tFALSE\n",
      "378\t345\tLileep\tRock\tGrass\t355\t66\t41\t77\t61\t87\t23\t3\tFALSE\n",
      "379\t346\tCradily\tRock\tGrass\t495\t86\t81\t97\t81\t107\t43\t3\tFALSE\n",
      "380\t347\tAnorith\tRock\tBug\t355\t45\t95\t50\t40\t50\t75\t3\tFALSE\n",
      "381\t348\tArmaldo\tRock\tBug\t495\t75\t125\t100\t70\t80\t45\t3\tFALSE\n",
      "382\t349\tFeebas\tWater\t\t200\t20\t15\t20\t10\t55\t80\t3\tFALSE\n",
      "383\t350\tMilotic\tWater\t\t540\t95\t60\t79\t100\t125\t81\t3\tFALSE\n",
      "384\t351\tCastform\tNormal\t\t420\t70\t70\t70\t70\t70\t70\t3\tFALSE\n",
      "385\t352\tKecleon\tNormal\t\t440\t60\t90\t70\t60\t120\t40\t3\tFALSE\n",
      "386\t353\tShuppet\tGhost\t\t295\t44\t75\t35\t63\t33\t45\t3\tFALSE\n",
      "387\t354\tBanette\tGhost\t\t455\t64\t115\t65\t83\t63\t65\t3\tFALSE\n",
      "388\t354\tBanetteMega Banette\tGhost\t\t555\t64\t165\t75\t93\t83\t75\t3\tFALSE\n",
      "389\t355\tDuskull\tGhost\t\t295\t20\t40\t90\t30\t90\t25\t3\tFALSE\n",
      "390\t356\tDusclops\tGhost\t\t455\t40\t70\t130\t60\t130\t25\t3\tFALSE\n",
      "391\t357\tTropius\tGrass\tFlying\t460\t99\t68\t83\t72\t87\t51\t3\tFALSE\n",
      "392\t358\tChimecho\tPsychic\t\t425\t65\t50\t70\t95\t80\t65\t3\tFALSE\n",
      "393\t359\tAbsol\tDark\t\t465\t65\t130\t60\t75\t60\t75\t3\tFALSE\n",
      "394\t359\tAbsolMega Absol\tDark\t\t565\t65\t150\t60\t115\t60\t115\t3\tFALSE\n",
      "395\t360\tWynaut\tPsychic\t\t260\t95\t23\t48\t23\t48\t23\t3\tFALSE\n",
      "396\t361\tSnorunt\tIce\t\t300\t50\t50\t50\t50\t50\t50\t3\tFALSE\n",
      "397\t362\tGlalie\tIce\t\t480\t80\t80\t80\t80\t80\t80\t3\tFALSE\n",
      "398\t362\tGlalieMega Glalie\tIce\t\t580\t80\t120\t80\t120\t80\t100\t3\tFALSE\n",
      "399\t363\tSpheal\tIce\tWater\t290\t70\t40\t50\t55\t50\t25\t3\tFALSE\n",
      "400\t364\tSealeo\tIce\tWater\t410\t90\t60\t70\t75\t70\t45\t3\tFALSE\n",
      "401\t365\tWalrein\tIce\tWater\t530\t110\t80\t90\t95\t90\t65\t3\tFALSE\n",
      "402\t366\tClamperl\tWater\t\t345\t35\t64\t85\t74\t55\t32\t3\tFALSE\n",
      "403\t367\tHuntail\tWater\t\t485\t55\t104\t105\t94\t75\t52\t3\tFALSE\n",
      "404\t368\tGorebyss\tWater\t\t485\t55\t84\t105\t114\t75\t52\t3\tFALSE\n",
      "405\t369\tRelicanth\tWater\tRock\t485\t100\t90\t130\t45\t65\t55\t3\tFALSE\n",
      "406\t370\tLuvdisc\tWater\t\t330\t43\t30\t55\t40\t65\t97\t3\tFALSE\n",
      "407\t371\tBagon\tDragon\t\t300\t45\t75\t60\t40\t30\t50\t3\tFALSE\n",
      "408\t372\tShelgon\tDragon\t\t420\t65\t95\t100\t60\t50\t50\t3\tFALSE\n",
      "409\t373\tSalamence\tDragon\tFlying\t600\t95\t135\t80\t110\t80\t100\t3\tFALSE\n",
      "410\t373\tSalamenceMega Salamence\tDragon\tFlying\t700\t95\t145\t130\t120\t90\t120\t3\tFALSE\n",
      "411\t374\tBeldum\tSteel\tPsychic\t300\t40\t55\t80\t35\t60\t30\t3\tFALSE\n",
      "412\t375\tMetang\tSteel\tPsychic\t420\t60\t75\t100\t55\t80\t50\t3\tFALSE\n",
      "413\t376\tMetagross\tSteel\tPsychic\t600\t80\t135\t130\t95\t90\t70\t3\tFALSE\n",
      "414\t376\tMetagrossMega Metagross\tSteel\tPsychic\t700\t80\t145\t150\t105\t110\t110\t3\tFALSE\n",
      "415\t377\tRegirock\tRock\t\t580\t80\t100\t200\t50\t100\t50\t3\tTRUE\n",
      "416\t378\tRegice\tIce\t\t580\t80\t50\t100\t100\t200\t50\t3\tTRUE\n",
      "417\t379\tRegisteel\tSteel\t\t580\t80\t75\t150\t75\t150\t50\t3\tTRUE\n",
      "418\t380\tLatias\tDragon\tPsychic\t600\t80\t80\t90\t110\t130\t110\t3\tTRUE\n",
      "419\t380\tLatiasMega Latias\tDragon\tPsychic\t700\t80\t100\t120\t140\t150\t110\t3\tTRUE\n",
      "420\t381\tLatios\tDragon\tPsychic\t600\t80\t90\t80\t130\t110\t110\t3\tTRUE\n",
      "421\t381\tLatiosMega Latios\tDragon\tPsychic\t700\t80\t130\t100\t160\t120\t110\t3\tTRUE\n",
      "422\t382\tKyogre\tWater\t\t670\t100\t100\t90\t150\t140\t90\t3\tTRUE\n",
      "423\t382\tKyogrePrimal Kyogre\tWater\t\t770\t100\t150\t90\t180\t160\t90\t3\tTRUE\n",
      "424\t383\tGroudon\tGround\t\t670\t100\t150\t140\t100\t90\t90\t3\tTRUE\n",
      "425\t383\tGroudonPrimal Groudon\tGround\tFire\t770\t100\t180\t160\t150\t90\t90\t3\tTRUE\n",
      "426\t384\tRayquaza\tDragon\tFlying\t680\t105\t150\t90\t150\t90\t95\t3\tTRUE\n",
      "427\t384\tRayquazaMega Rayquaza\tDragon\tFlying\t780\t105\t180\t100\t180\t100\t115\t3\tTRUE\n",
      "428\t385\tJirachi\tSteel\tPsychic\t600\t100\t100\t100\t100\t100\t100\t3\tTRUE\n",
      "429\t386\tDeoxysNormal Forme\tPsychic\t\t600\t50\t150\t50\t150\t50\t150\t3\tTRUE\n",
      "430\t386\tDeoxysAttack Forme\tPsychic\t\t600\t50\t180\t20\t180\t20\t150\t3\tTRUE\n",
      "431\t386\tDeoxysDefense Forme\tPsychic\t\t600\t50\t70\t160\t70\t160\t90\t3\tTRUE\n",
      "432\t386\tDeoxysSpeed Forme\tPsychic\t\t600\t50\t95\t90\t95\t90\t180\t3\tTRUE\n",
      "433\t387\tTurtwig\tGrass\t\t318\t55\t68\t64\t45\t55\t31\t4\tFALSE\n",
      "434\t388\tGrotle\tGrass\t\t405\t75\t89\t85\t55\t65\t36\t4\tFALSE\n",
      "435\t389\tTorterra\tGrass\tGround\t525\t95\t109\t105\t75\t85\t56\t4\tFALSE\n",
      "436\t390\tChimchar\tFire\t\t309\t44\t58\t44\t58\t44\t61\t4\tFALSE\n",
      "437\t391\tMonferno\tFire\tFighting\t405\t64\t78\t52\t78\t52\t81\t4\tFALSE\n",
      "438\t392\tInfernape\tFire\tFighting\t534\t76\t104\t71\t104\t71\t108\t4\tFALSE\n",
      "439\t393\tPiplup\tWater\t\t314\t53\t51\t53\t61\t56\t40\t4\tFALSE\n",
      "440\t394\tPrinplup\tWater\t\t405\t64\t66\t68\t81\t76\t50\t4\tFALSE\n",
      "441\t395\tEmpoleon\tWater\tSteel\t530\t84\t86\t88\t111\t101\t60\t4\tFALSE\n",
      "442\t396\tStarly\tNormal\tFlying\t245\t40\t55\t30\t30\t30\t60\t4\tFALSE\n",
      "443\t397\tStaravia\tNormal\tFlying\t340\t55\t75\t50\t40\t40\t80\t4\tFALSE\n",
      "444\t398\tStaraptor\tNormal\tFlying\t485\t85\t120\t70\t50\t60\t100\t4\tFALSE\n",
      "445\t399\tBidoof\tNormal\t\t250\t59\t45\t40\t35\t40\t31\t4\tFALSE\n",
      "446\t400\tBibarel\tNormal\tWater\t410\t79\t85\t60\t55\t60\t71\t4\tFALSE\n",
      "447\t401\tKricketot\tBug\t\t194\t37\t25\t41\t25\t41\t25\t4\tFALSE\n",
      "448\t402\tKricketune\tBug\t\t384\t77\t85\t51\t55\t51\t65\t4\tFALSE\n",
      "449\t403\tShinx\tElectric\t\t263\t45\t65\t34\t40\t34\t45\t4\tFALSE\n",
      "450\t404\tLuxio\tElectric\t\t363\t60\t85\t49\t60\t49\t60\t4\tFALSE\n",
      "451\t405\tLuxray\tElectric\t\t523\t80\t120\t79\t95\t79\t70\t4\tFALSE\n",
      "452\t406\tBudew\tGrass\tPoison\t280\t40\t30\t35\t50\t70\t55\t4\tFALSE\n",
      "453\t407\tRoserade\tGrass\tPoison\t515\t60\t70\t65\t125\t105\t90\t4\tFALSE\n",
      "454\t408\tCranidos\tRock\t\t350\t67\t125\t40\t30\t30\t58\t4\tFALSE\n",
      "455\t409\tRampardos\tRock\t\t495\t97\t165\t60\t65\t50\t58\t4\tFALSE\n",
      "456\t410\tShieldon\tRock\tSteel\t350\t30\t42\t118\t42\t88\t30\t4\tFALSE\n",
      "457\t411\tBastiodon\tRock\tSteel\t495\t60\t52\t168\t47\t138\t30\t4\tFALSE\n",
      "458\t412\tBurmy\tBug\t\t224\t40\t29\t45\t29\t45\t36\t4\tFALSE\n",
      "459\t413\tWormadamPlant Cloak\tBug\tGrass\t424\t60\t59\t85\t79\t105\t36\t4\tFALSE\n",
      "460\t413\tWormadamSandy Cloak\tBug\tGround\t424\t60\t79\t105\t59\t85\t36\t4\tFALSE\n",
      "461\t413\tWormadamTrash Cloak\tBug\tSteel\t424\t60\t69\t95\t69\t95\t36\t4\tFALSE\n",
      "462\t414\tMothim\tBug\tFlying\t424\t70\t94\t50\t94\t50\t66\t4\tFALSE\n",
      "463\t415\tCombee\tBug\tFlying\t244\t30\t30\t42\t30\t42\t70\t4\tFALSE\n",
      "464\t416\tVespiquen\tBug\tFlying\t474\t70\t80\t102\t80\t102\t40\t4\tFALSE\n",
      "465\t417\tPachirisu\tElectric\t\t405\t60\t45\t70\t45\t90\t95\t4\tFALSE\n",
      "466\t418\tBuizel\tWater\t\t330\t55\t65\t35\t60\t30\t85\t4\tFALSE\n",
      "467\t419\tFloatzel\tWater\t\t495\t85\t105\t55\t85\t50\t115\t4\tFALSE\n",
      "468\t420\tCherubi\tGrass\t\t275\t45\t35\t45\t62\t53\t35\t4\tFALSE\n",
      "469\t421\tCherrim\tGrass\t\t450\t70\t60\t70\t87\t78\t85\t4\tFALSE\n",
      "470\t422\tShellos\tWater\t\t325\t76\t48\t48\t57\t62\t34\t4\tFALSE\n",
      "471\t423\tGastrodon\tWater\tGround\t475\t111\t83\t68\t92\t82\t39\t4\tFALSE\n",
      "472\t424\tAmbipom\tNormal\t\t482\t75\t100\t66\t60\t66\t115\t4\tFALSE\n",
      "473\t425\tDrifloon\tGhost\tFlying\t348\t90\t50\t34\t60\t44\t70\t4\tFALSE\n",
      "474\t426\tDrifblim\tGhost\tFlying\t498\t150\t80\t44\t90\t54\t80\t4\tFALSE\n",
      "475\t427\tBuneary\tNormal\t\t350\t55\t66\t44\t44\t56\t85\t4\tFALSE\n",
      "476\t428\tLopunny\tNormal\t\t480\t65\t76\t84\t54\t96\t105\t4\tFALSE\n",
      "477\t428\tLopunnyMega Lopunny\tNormal\tFighting\t580\t65\t136\t94\t54\t96\t135\t4\tFALSE\n",
      "478\t429\tMismagius\tGhost\t\t495\t60\t60\t60\t105\t105\t105\t4\tFALSE\n",
      "479\t430\tHonchkrow\tDark\tFlying\t505\t100\t125\t52\t105\t52\t71\t4\tFALSE\n",
      "480\t431\tGlameow\tNormal\t\t310\t49\t55\t42\t42\t37\t85\t4\tFALSE\n",
      "481\t432\tPurugly\tNormal\t\t452\t71\t82\t64\t64\t59\t112\t4\tFALSE\n",
      "482\t433\tChingling\tPsychic\t\t285\t45\t30\t50\t65\t50\t45\t4\tFALSE\n",
      "483\t434\tStunky\tPoison\tDark\t329\t63\t63\t47\t41\t41\t74\t4\tFALSE\n",
      "484\t435\tSkuntank\tPoison\tDark\t479\t103\t93\t67\t71\t61\t84\t4\tFALSE\n",
      "485\t436\tBronzor\tSteel\tPsychic\t300\t57\t24\t86\t24\t86\t23\t4\tFALSE\n",
      "486\t437\tBronzong\tSteel\tPsychic\t500\t67\t89\t116\t79\t116\t33\t4\tFALSE\n",
      "487\t438\tBonsly\tRock\t\t290\t50\t80\t95\t10\t45\t10\t4\tFALSE\n",
      "488\t439\tMime Jr.\tPsychic\tFairy\t310\t20\t25\t45\t70\t90\t60\t4\tFALSE\n",
      "489\t440\tHappiny\tNormal\t\t220\t100\t5\t5\t15\t65\t30\t4\tFALSE\n",
      "490\t441\tChatot\tNormal\tFlying\t411\t76\t65\t45\t92\t42\t91\t4\tFALSE\n",
      "491\t442\tSpiritomb\tGhost\tDark\t485\t50\t92\t108\t92\t108\t35\t4\tFALSE\n",
      "492\t443\tGible\tDragon\tGround\t300\t58\t70\t45\t40\t45\t42\t4\tFALSE\n",
      "493\t444\tGabite\tDragon\tGround\t410\t68\t90\t65\t50\t55\t82\t4\tFALSE\n",
      "494\t445\tGarchomp\tDragon\tGround\t600\t108\t130\t95\t80\t85\t102\t4\tFALSE\n",
      "495\t445\tGarchompMega Garchomp\tDragon\tGround\t700\t108\t170\t115\t120\t95\t92\t4\tFALSE\n",
      "496\t446\tMunchlax\tNormal\t\t390\t135\t85\t40\t40\t85\t5\t4\tFALSE\n",
      "497\t447\tRiolu\tFighting\t\t285\t40\t70\t40\t35\t40\t60\t4\tFALSE\n",
      "498\t448\tLucario\tFighting\tSteel\t525\t70\t110\t70\t115\t70\t90\t4\tFALSE\n",
      "499\t448\tLucarioMega Lucario\tFighting\tSteel\t625\t70\t145\t88\t140\t70\t112\t4\tFALSE\n",
      "500\t449\tHippopotas\tGround\t\t330\t68\t72\t78\t38\t42\t32\t4\tFALSE\n",
      "501\t450\tHippowdon\tGround\t\t525\t108\t112\t118\t68\t72\t47\t4\tFALSE\n",
      "502\t451\tSkorupi\tPoison\tBug\t330\t40\t50\t90\t30\t55\t65\t4\tFALSE\n",
      "503\t452\tDrapion\tPoison\tDark\t500\t70\t90\t110\t60\t75\t95\t4\tFALSE\n",
      "504\t453\tCroagunk\tPoison\tFighting\t300\t48\t61\t40\t61\t40\t50\t4\tFALSE\n",
      "505\t454\tToxicroak\tPoison\tFighting\t490\t83\t106\t65\t86\t65\t85\t4\tFALSE\n",
      "506\t455\tCarnivine\tGrass\t\t454\t74\t100\t72\t90\t72\t46\t4\tFALSE\n",
      "507\t456\tFinneon\tWater\t\t330\t49\t49\t56\t49\t61\t66\t4\tFALSE\n",
      "508\t457\tLumineon\tWater\t\t460\t69\t69\t76\t69\t86\t91\t4\tFALSE\n",
      "509\t458\tMantyke\tWater\tFlying\t345\t45\t20\t50\t60\t120\t50\t4\tFALSE\n",
      "510\t459\tSnover\tGrass\tIce\t334\t60\t62\t50\t62\t60\t40\t4\tFALSE\n",
      "511\t460\tAbomasnow\tGrass\tIce\t494\t90\t92\t75\t92\t85\t60\t4\tFALSE\n",
      "512\t460\tAbomasnowMega Abomasnow\tGrass\tIce\t594\t90\t132\t105\t132\t105\t30\t4\tFALSE\n",
      "513\t461\tWeavile\tDark\tIce\t510\t70\t120\t65\t45\t85\t125\t4\tFALSE\n",
      "514\t462\tMagnezone\tElectric\tSteel\t535\t70\t70\t115\t130\t90\t60\t4\tFALSE\n",
      "515\t463\tLickilicky\tNormal\t\t515\t110\t85\t95\t80\t95\t50\t4\tFALSE\n",
      "516\t464\tRhyperior\tGround\tRock\t535\t115\t140\t130\t55\t55\t40\t4\tFALSE\n",
      "517\t465\tTangrowth\tGrass\t\t535\t100\t100\t125\t110\t50\t50\t4\tFALSE\n",
      "518\t466\tElectivire\tElectric\t\t540\t75\t123\t67\t95\t85\t95\t4\tFALSE\n",
      "519\t467\tMagmortar\tFire\t\t540\t75\t95\t67\t125\t95\t83\t4\tFALSE\n",
      "520\t468\tTogekiss\tFairy\tFlying\t545\t85\t50\t95\t120\t115\t80\t4\tFALSE\n",
      "521\t469\tYanmega\tBug\tFlying\t515\t86\t76\t86\t116\t56\t95\t4\tFALSE\n",
      "522\t470\tLeafeon\tGrass\t\t525\t65\t110\t130\t60\t65\t95\t4\tFALSE\n",
      "523\t471\tGlaceon\tIce\t\t525\t65\t60\t110\t130\t95\t65\t4\tFALSE\n",
      "524\t472\tGliscor\tGround\tFlying\t510\t75\t95\t125\t45\t75\t95\t4\tFALSE\n",
      "525\t473\tMamoswine\tIce\tGround\t530\t110\t130\t80\t70\t60\t80\t4\tFALSE\n",
      "526\t474\tPorygon-Z\tNormal\t\t535\t85\t80\t70\t135\t75\t90\t4\tFALSE\n",
      "527\t475\tGallade\tPsychic\tFighting\t518\t68\t125\t65\t65\t115\t80\t4\tFALSE\n",
      "528\t475\tGalladeMega Gallade\tPsychic\tFighting\t618\t68\t165\t95\t65\t115\t110\t4\tFALSE\n",
      "529\t476\tProbopass\tRock\tSteel\t525\t60\t55\t145\t75\t150\t40\t4\tFALSE\n",
      "530\t477\tDusknoir\tGhost\t\t525\t45\t100\t135\t65\t135\t45\t4\tFALSE\n",
      "531\t478\tFroslass\tIce\tGhost\t480\t70\t80\t70\t80\t70\t110\t4\tFALSE\n",
      "532\t479\tRotom\tElectric\tGhost\t440\t50\t50\t77\t95\t77\t91\t4\tFALSE\n",
      "533\t479\tRotomHeat Rotom\tElectric\tFire\t520\t50\t65\t107\t105\t107\t86\t4\tFALSE\n",
      "534\t479\tRotomWash Rotom\tElectric\tWater\t520\t50\t65\t107\t105\t107\t86\t4\tFALSE\n",
      "535\t479\tRotomFrost Rotom\tElectric\tIce\t520\t50\t65\t107\t105\t107\t86\t4\tFALSE\n",
      "536\t479\tRotomFan Rotom\tElectric\tFlying\t520\t50\t65\t107\t105\t107\t86\t4\tFALSE\n",
      "537\t479\tRotomMow Rotom\tElectric\tGrass\t520\t50\t65\t107\t105\t107\t86\t4\tFALSE\n",
      "538\t480\tUxie\tPsychic\t\t580\t75\t75\t130\t75\t130\t95\t4\tTRUE\n",
      "539\t481\tMesprit\tPsychic\t\t580\t80\t105\t105\t105\t105\t80\t4\tTRUE\n",
      "540\t482\tAzelf\tPsychic\t\t580\t75\t125\t70\t125\t70\t115\t4\tTRUE\n",
      "541\t483\tDialga\tSteel\tDragon\t680\t100\t120\t120\t150\t100\t90\t4\tTRUE\n",
      "542\t484\tPalkia\tWater\tDragon\t680\t90\t120\t100\t150\t120\t100\t4\tTRUE\n",
      "543\t485\tHeatran\tFire\tSteel\t600\t91\t90\t106\t130\t106\t77\t4\tTRUE\n",
      "544\t486\tRegigigas\tNormal\t\t670\t110\t160\t110\t80\t110\t100\t4\tTRUE\n",
      "545\t487\tGiratinaAltered Forme\tGhost\tDragon\t680\t150\t100\t120\t100\t120\t90\t4\tTRUE\n",
      "546\t487\tGiratinaOrigin Forme\tGhost\tDragon\t680\t150\t120\t100\t120\t100\t90\t4\tTRUE\n",
      "547\t488\tCresselia\tPsychic\t\t600\t120\t70\t120\t75\t130\t85\t4\tFALSE\n",
      "548\t489\tPhione\tWater\t\t480\t80\t80\t80\t80\t80\t80\t4\tFALSE\n",
      "549\t490\tManaphy\tWater\t\t600\t100\t100\t100\t100\t100\t100\t4\tFALSE\n",
      "550\t491\tDarkrai\tDark\t\t600\t70\t90\t90\t135\t90\t125\t4\tTRUE\n",
      "551\t492\tShayminLand Forme\tGrass\t\t600\t100\t100\t100\t100\t100\t100\t4\tTRUE\n",
      "552\t492\tShayminSky Forme\tGrass\tFlying\t600\t100\t103\t75\t120\t75\t127\t4\tTRUE\n",
      "553\t493\tArceus\tNormal\t\t720\t120\t120\t120\t120\t120\t120\t4\tTRUE\n",
      "554\t494\tVictini\tPsychic\tFire\t600\t100\t100\t100\t100\t100\t100\t5\tTRUE\n",
      "555\t495\tSnivy\tGrass\t\t308\t45\t45\t55\t45\t55\t63\t5\tFALSE\n",
      "556\t496\tServine\tGrass\t\t413\t60\t60\t75\t60\t75\t83\t5\tFALSE\n",
      "557\t497\tSerperior\tGrass\t\t528\t75\t75\t95\t75\t95\t113\t5\tFALSE\n",
      "558\t498\tTepig\tFire\t\t308\t65\t63\t45\t45\t45\t45\t5\tFALSE\n",
      "559\t499\tPignite\tFire\tFighting\t418\t90\t93\t55\t70\t55\t55\t5\tFALSE\n",
      "560\t500\tEmboar\tFire\tFighting\t528\t110\t123\t65\t100\t65\t65\t5\tFALSE\n",
      "561\t501\tOshawott\tWater\t\t308\t55\t55\t45\t63\t45\t45\t5\tFALSE\n",
      "562\t502\tDewott\tWater\t\t413\t75\t75\t60\t83\t60\t60\t5\tFALSE\n",
      "563\t503\tSamurott\tWater\t\t528\t95\t100\t85\t108\t70\t70\t5\tFALSE\n",
      "564\t504\tPatrat\tNormal\t\t255\t45\t55\t39\t35\t39\t42\t5\tFALSE\n",
      "565\t505\tWatchog\tNormal\t\t420\t60\t85\t69\t60\t69\t77\t5\tFALSE\n",
      "566\t506\tLillipup\tNormal\t\t275\t45\t60\t45\t25\t45\t55\t5\tFALSE\n",
      "567\t507\tHerdier\tNormal\t\t370\t65\t80\t65\t35\t65\t60\t5\tFALSE\n",
      "568\t508\tStoutland\tNormal\t\t500\t85\t110\t90\t45\t90\t80\t5\tFALSE\n",
      "569\t509\tPurrloin\tDark\t\t281\t41\t50\t37\t50\t37\t66\t5\tFALSE\n",
      "570\t510\tLiepard\tDark\t\t446\t64\t88\t50\t88\t50\t106\t5\tFALSE\n",
      "571\t511\tPansage\tGrass\t\t316\t50\t53\t48\t53\t48\t64\t5\tFALSE\n",
      "572\t512\tSimisage\tGrass\t\t498\t75\t98\t63\t98\t63\t101\t5\tFALSE\n",
      "573\t513\tPansear\tFire\t\t316\t50\t53\t48\t53\t48\t64\t5\tFALSE\n",
      "574\t514\tSimisear\tFire\t\t498\t75\t98\t63\t98\t63\t101\t5\tFALSE\n",
      "575\t515\tPanpour\tWater\t\t316\t50\t53\t48\t53\t48\t64\t5\tFALSE\n",
      "576\t516\tSimipour\tWater\t\t498\t75\t98\t63\t98\t63\t101\t5\tFALSE\n",
      "577\t517\tMunna\tPsychic\t\t292\t76\t25\t45\t67\t55\t24\t5\tFALSE\n",
      "578\t518\tMusharna\tPsychic\t\t487\t116\t55\t85\t107\t95\t29\t5\tFALSE\n",
      "579\t519\tPidove\tNormal\tFlying\t264\t50\t55\t50\t36\t30\t43\t5\tFALSE\n",
      "580\t520\tTranquill\tNormal\tFlying\t358\t62\t77\t62\t50\t42\t65\t5\tFALSE\n",
      "581\t521\tUnfezant\tNormal\tFlying\t488\t80\t115\t80\t65\t55\t93\t5\tFALSE\n",
      "582\t522\tBlitzle\tElectric\t\t295\t45\t60\t32\t50\t32\t76\t5\tFALSE\n",
      "583\t523\tZebstrika\tElectric\t\t497\t75\t100\t63\t80\t63\t116\t5\tFALSE\n",
      "584\t524\tRoggenrola\tRock\t\t280\t55\t75\t85\t25\t25\t15\t5\tFALSE\n",
      "585\t525\tBoldore\tRock\t\t390\t70\t105\t105\t50\t40\t20\t5\tFALSE\n",
      "586\t526\tGigalith\tRock\t\t515\t85\t135\t130\t60\t80\t25\t5\tFALSE\n",
      "587\t527\tWoobat\tPsychic\tFlying\t313\t55\t45\t43\t55\t43\t72\t5\tFALSE\n",
      "588\t528\tSwoobat\tPsychic\tFlying\t425\t67\t57\t55\t77\t55\t114\t5\tFALSE\n",
      "589\t529\tDrilbur\tGround\t\t328\t60\t85\t40\t30\t45\t68\t5\tFALSE\n",
      "590\t530\tExcadrill\tGround\tSteel\t508\t110\t135\t60\t50\t65\t88\t5\tFALSE\n",
      "591\t531\tAudino\tNormal\t\t445\t103\t60\t86\t60\t86\t50\t5\tFALSE\n",
      "592\t531\tAudinoMega Audino\tNormal\tFairy\t545\t103\t60\t126\t80\t126\t50\t5\tFALSE\n",
      "593\t532\tTimburr\tFighting\t\t305\t75\t80\t55\t25\t35\t35\t5\tFALSE\n",
      "594\t533\tGurdurr\tFighting\t\t405\t85\t105\t85\t40\t50\t40\t5\tFALSE\n",
      "595\t534\tConkeldurr\tFighting\t\t505\t105\t140\t95\t55\t65\t45\t5\tFALSE\n",
      "596\t535\tTympole\tWater\t\t294\t50\t50\t40\t50\t40\t64\t5\tFALSE\n",
      "597\t536\tPalpitoad\tWater\tGround\t384\t75\t65\t55\t65\t55\t69\t5\tFALSE\n",
      "598\t537\tSeismitoad\tWater\tGround\t509\t105\t95\t75\t85\t75\t74\t5\tFALSE\n",
      "599\t538\tThroh\tFighting\t\t465\t120\t100\t85\t30\t85\t45\t5\tFALSE\n",
      "600\t539\tSawk\tFighting\t\t465\t75\t125\t75\t30\t75\t85\t5\tFALSE\n",
      "601\t540\tSewaddle\tBug\tGrass\t310\t45\t53\t70\t40\t60\t42\t5\tFALSE\n",
      "602\t541\tSwadloon\tBug\tGrass\t380\t55\t63\t90\t50\t80\t42\t5\tFALSE\n",
      "603\t542\tLeavanny\tBug\tGrass\t500\t75\t103\t80\t70\t80\t92\t5\tFALSE\n",
      "604\t543\tVenipede\tBug\tPoison\t260\t30\t45\t59\t30\t39\t57\t5\tFALSE\n",
      "605\t544\tWhirlipede\tBug\tPoison\t360\t40\t55\t99\t40\t79\t47\t5\tFALSE\n",
      "606\t545\tScolipede\tBug\tPoison\t485\t60\t100\t89\t55\t69\t112\t5\tFALSE\n",
      "607\t546\tCottonee\tGrass\tFairy\t280\t40\t27\t60\t37\t50\t66\t5\tFALSE\n",
      "608\t547\tWhimsicott\tGrass\tFairy\t480\t60\t67\t85\t77\t75\t116\t5\tFALSE\n",
      "609\t548\tPetilil\tGrass\t\t280\t45\t35\t50\t70\t50\t30\t5\tFALSE\n",
      "610\t549\tLilligant\tGrass\t\t480\t70\t60\t75\t110\t75\t90\t5\tFALSE\n",
      "611\t550\tBasculin\tWater\t\t460\t70\t92\t65\t80\t55\t98\t5\tFALSE\n",
      "612\t551\tSandile\tGround\tDark\t292\t50\t72\t35\t35\t35\t65\t5\tFALSE\n",
      "613\t552\tKrokorok\tGround\tDark\t351\t60\t82\t45\t45\t45\t74\t5\tFALSE\n",
      "614\t553\tKrookodile\tGround\tDark\t519\t95\t117\t80\t65\t70\t92\t5\tFALSE\n",
      "615\t554\tDarumaka\tFire\t\t315\t70\t90\t45\t15\t45\t50\t5\tFALSE\n",
      "616\t555\tDarmanitanStandard Mode\tFire\t\t480\t105\t140\t55\t30\t55\t95\t5\tFALSE\n",
      "617\t555\tDarmanitanZen Mode\tFire\tPsychic\t540\t105\t30\t105\t140\t105\t55\t5\tFALSE\n",
      "618\t556\tMaractus\tGrass\t\t461\t75\t86\t67\t106\t67\t60\t5\tFALSE\n",
      "619\t557\tDwebble\tBug\tRock\t325\t50\t65\t85\t35\t35\t55\t5\tFALSE\n",
      "620\t558\tCrustle\tBug\tRock\t475\t70\t95\t125\t65\t75\t45\t5\tFALSE\n",
      "621\t559\tScraggy\tDark\tFighting\t348\t50\t75\t70\t35\t70\t48\t5\tFALSE\n",
      "622\t560\tScrafty\tDark\tFighting\t488\t65\t90\t115\t45\t115\t58\t5\tFALSE\n",
      "623\t561\tSigilyph\tPsychic\tFlying\t490\t72\t58\t80\t103\t80\t97\t5\tFALSE\n",
      "624\t562\tYamask\tGhost\t\t303\t38\t30\t85\t55\t65\t30\t5\tFALSE\n",
      "625\t563\tCofagrigus\tGhost\t\t483\t58\t50\t145\t95\t105\t30\t5\tFALSE\n",
      "626\t564\tTirtouga\tWater\tRock\t355\t54\t78\t103\t53\t45\t22\t5\tFALSE\n",
      "627\t565\tCarracosta\tWater\tRock\t495\t74\t108\t133\t83\t65\t32\t5\tFALSE\n",
      "628\t566\tArchen\tRock\tFlying\t401\t55\t112\t45\t74\t45\t70\t5\tFALSE\n",
      "629\t567\tArcheops\tRock\tFlying\t567\t75\t140\t65\t112\t65\t110\t5\tFALSE\n",
      "630\t568\tTrubbish\tPoison\t\t329\t50\t50\t62\t40\t62\t65\t5\tFALSE\n",
      "631\t569\tGarbodor\tPoison\t\t474\t80\t95\t82\t60\t82\t75\t5\tFALSE\n",
      "632\t570\tZorua\tDark\t\t330\t40\t65\t40\t80\t40\t65\t5\tFALSE\n",
      "633\t571\tZoroark\tDark\t\t510\t60\t105\t60\t120\t60\t105\t5\tFALSE\n",
      "634\t572\tMinccino\tNormal\t\t300\t55\t50\t40\t40\t40\t75\t5\tFALSE\n",
      "635\t573\tCinccino\tNormal\t\t470\t75\t95\t60\t65\t60\t115\t5\tFALSE\n",
      "636\t574\tGothita\tPsychic\t\t290\t45\t30\t50\t55\t65\t45\t5\tFALSE\n",
      "637\t575\tGothorita\tPsychic\t\t390\t60\t45\t70\t75\t85\t55\t5\tFALSE\n",
      "638\t576\tGothitelle\tPsychic\t\t490\t70\t55\t95\t95\t110\t65\t5\tFALSE\n",
      "639\t577\tSolosis\tPsychic\t\t290\t45\t30\t40\t105\t50\t20\t5\tFALSE\n",
      "640\t578\tDuosion\tPsychic\t\t370\t65\t40\t50\t125\t60\t30\t5\tFALSE\n",
      "641\t579\tReuniclus\tPsychic\t\t490\t110\t65\t75\t125\t85\t30\t5\tFALSE\n",
      "642\t580\tDucklett\tWater\tFlying\t305\t62\t44\t50\t44\t50\t55\t5\tFALSE\n",
      "643\t581\tSwanna\tWater\tFlying\t473\t75\t87\t63\t87\t63\t98\t5\tFALSE\n",
      "644\t582\tVanillite\tIce\t\t305\t36\t50\t50\t65\t60\t44\t5\tFALSE\n",
      "645\t583\tVanillish\tIce\t\t395\t51\t65\t65\t80\t75\t59\t5\tFALSE\n",
      "646\t584\tVanilluxe\tIce\t\t535\t71\t95\t85\t110\t95\t79\t5\tFALSE\n",
      "647\t585\tDeerling\tNormal\tGrass\t335\t60\t60\t50\t40\t50\t75\t5\tFALSE\n",
      "648\t586\tSawsbuck\tNormal\tGrass\t475\t80\t100\t70\t60\t70\t95\t5\tFALSE\n",
      "649\t587\tEmolga\tElectric\tFlying\t428\t55\t75\t60\t75\t60\t103\t5\tFALSE\n",
      "650\t588\tKarrablast\tBug\t\t315\t50\t75\t45\t40\t45\t60\t5\tFALSE\n",
      "651\t589\tEscavalier\tBug\tSteel\t495\t70\t135\t105\t60\t105\t20\t5\tFALSE\n",
      "652\t590\tFoongus\tGrass\tPoison\t294\t69\t55\t45\t55\t55\t15\t5\tFALSE\n",
      "653\t591\tAmoonguss\tGrass\tPoison\t464\t114\t85\t70\t85\t80\t30\t5\tFALSE\n",
      "654\t592\tFrillish\tWater\tGhost\t335\t55\t40\t50\t65\t85\t40\t5\tFALSE\n",
      "655\t593\tJellicent\tWater\tGhost\t480\t100\t60\t70\t85\t105\t60\t5\tFALSE\n",
      "656\t594\tAlomomola\tWater\t\t470\t165\t75\t80\t40\t45\t65\t5\tFALSE\n",
      "657\t595\tJoltik\tBug\tElectric\t319\t50\t47\t50\t57\t50\t65\t5\tFALSE\n",
      "658\t596\tGalvantula\tBug\tElectric\t472\t70\t77\t60\t97\t60\t108\t5\tFALSE\n",
      "659\t597\tFerroseed\tGrass\tSteel\t305\t44\t50\t91\t24\t86\t10\t5\tFALSE\n",
      "660\t598\tFerrothorn\tGrass\tSteel\t489\t74\t94\t131\t54\t116\t20\t5\tFALSE\n",
      "661\t599\tKlink\tSteel\t\t300\t40\t55\t70\t45\t60\t30\t5\tFALSE\n",
      "662\t600\tKlang\tSteel\t\t440\t60\t80\t95\t70\t85\t50\t5\tFALSE\n",
      "663\t601\tKlinklang\tSteel\t\t520\t60\t100\t115\t70\t85\t90\t5\tFALSE\n",
      "664\t602\tTynamo\tElectric\t\t275\t35\t55\t40\t45\t40\t60\t5\tFALSE\n",
      "665\t603\tEelektrik\tElectric\t\t405\t65\t85\t70\t75\t70\t40\t5\tFALSE\n",
      "666\t604\tEelektross\tElectric\t\t515\t85\t115\t80\t105\t80\t50\t5\tFALSE\n",
      "667\t605\tElgyem\tPsychic\t\t335\t55\t55\t55\t85\t55\t30\t5\tFALSE\n",
      "668\t606\tBeheeyem\tPsychic\t\t485\t75\t75\t75\t125\t95\t40\t5\tFALSE\n",
      "669\t607\tLitwick\tGhost\tFire\t275\t50\t30\t55\t65\t55\t20\t5\tFALSE\n",
      "670\t608\tLampent\tGhost\tFire\t370\t60\t40\t60\t95\t60\t55\t5\tFALSE\n",
      "671\t609\tChandelure\tGhost\tFire\t520\t60\t55\t90\t145\t90\t80\t5\tFALSE\n",
      "672\t610\tAxew\tDragon\t\t320\t46\t87\t60\t30\t40\t57\t5\tFALSE\n",
      "673\t611\tFraxure\tDragon\t\t410\t66\t117\t70\t40\t50\t67\t5\tFALSE\n",
      "674\t612\tHaxorus\tDragon\t\t540\t76\t147\t90\t60\t70\t97\t5\tFALSE\n",
      "675\t613\tCubchoo\tIce\t\t305\t55\t70\t40\t60\t40\t40\t5\tFALSE\n",
      "676\t614\tBeartic\tIce\t\t485\t95\t110\t80\t70\t80\t50\t5\tFALSE\n",
      "677\t615\tCryogonal\tIce\t\t485\t70\t50\t30\t95\t135\t105\t5\tFALSE\n",
      "678\t616\tShelmet\tBug\t\t305\t50\t40\t85\t40\t65\t25\t5\tFALSE\n",
      "679\t617\tAccelgor\tBug\t\t495\t80\t70\t40\t100\t60\t145\t5\tFALSE\n",
      "680\t618\tStunfisk\tGround\tElectric\t471\t109\t66\t84\t81\t99\t32\t5\tFALSE\n",
      "681\t619\tMienfoo\tFighting\t\t350\t45\t85\t50\t55\t50\t65\t5\tFALSE\n",
      "682\t620\tMienshao\tFighting\t\t510\t65\t125\t60\t95\t60\t105\t5\tFALSE\n",
      "683\t621\tDruddigon\tDragon\t\t485\t77\t120\t90\t60\t90\t48\t5\tFALSE\n",
      "684\t622\tGolett\tGround\tGhost\t303\t59\t74\t50\t35\t50\t35\t5\tFALSE\n",
      "685\t623\tGolurk\tGround\tGhost\t483\t89\t124\t80\t55\t80\t55\t5\tFALSE\n",
      "686\t624\tPawniard\tDark\tSteel\t340\t45\t85\t70\t40\t40\t60\t5\tFALSE\n",
      "687\t625\tBisharp\tDark\tSteel\t490\t65\t125\t100\t60\t70\t70\t5\tFALSE\n",
      "688\t626\tBouffalant\tNormal\t\t490\t95\t110\t95\t40\t95\t55\t5\tFALSE\n",
      "689\t627\tRufflet\tNormal\tFlying\t350\t70\t83\t50\t37\t50\t60\t5\tFALSE\n",
      "690\t628\tBraviary\tNormal\tFlying\t510\t100\t123\t75\t57\t75\t80\t5\tFALSE\n",
      "691\t629\tVullaby\tDark\tFlying\t370\t70\t55\t75\t45\t65\t60\t5\tFALSE\n",
      "692\t630\tMandibuzz\tDark\tFlying\t510\t110\t65\t105\t55\t95\t80\t5\tFALSE\n",
      "693\t631\tHeatmor\tFire\t\t484\t85\t97\t66\t105\t66\t65\t5\tFALSE\n",
      "694\t632\tDurant\tBug\tSteel\t484\t58\t109\t112\t48\t48\t109\t5\tFALSE\n",
      "695\t633\tDeino\tDark\tDragon\t300\t52\t65\t50\t45\t50\t38\t5\tFALSE\n",
      "696\t634\tZweilous\tDark\tDragon\t420\t72\t85\t70\t65\t70\t58\t5\tFALSE\n",
      "697\t635\tHydreigon\tDark\tDragon\t600\t92\t105\t90\t125\t90\t98\t5\tFALSE\n",
      "698\t636\tLarvesta\tBug\tFire\t360\t55\t85\t55\t50\t55\t60\t5\tFALSE\n",
      "699\t637\tVolcarona\tBug\tFire\t550\t85\t60\t65\t135\t105\t100\t5\tFALSE\n",
      "700\t638\tCobalion\tSteel\tFighting\t580\t91\t90\t129\t90\t72\t108\t5\tTRUE\n",
      "701\t639\tTerrakion\tRock\tFighting\t580\t91\t129\t90\t72\t90\t108\t5\tTRUE\n",
      "702\t640\tVirizion\tGrass\tFighting\t580\t91\t90\t72\t90\t129\t108\t5\tTRUE\n",
      "703\t641\tTornadusIncarnate Forme\tFlying\t\t580\t79\t115\t70\t125\t80\t111\t5\tTRUE\n",
      "704\t641\tTornadusTherian Forme\tFlying\t\t580\t79\t100\t80\t110\t90\t121\t5\tTRUE\n",
      "705\t642\tThundurusIncarnate Forme\tElectric\tFlying\t580\t79\t115\t70\t125\t80\t111\t5\tTRUE\n",
      "706\t642\tThundurusTherian Forme\tElectric\tFlying\t580\t79\t105\t70\t145\t80\t101\t5\tTRUE\n",
      "707\t643\tReshiram\tDragon\tFire\t680\t100\t120\t100\t150\t120\t90\t5\tTRUE\n",
      "708\t644\tZekrom\tDragon\tElectric\t680\t100\t150\t120\t120\t100\t90\t5\tTRUE\n",
      "709\t645\tLandorusIncarnate Forme\tGround\tFlying\t600\t89\t125\t90\t115\t80\t101\t5\tTRUE\n",
      "710\t645\tLandorusTherian Forme\tGround\tFlying\t600\t89\t145\t90\t105\t80\t91\t5\tTRUE\n",
      "711\t646\tKyurem\tDragon\tIce\t660\t125\t130\t90\t130\t90\t95\t5\tTRUE\n",
      "712\t646\tKyuremBlack Kyurem\tDragon\tIce\t700\t125\t170\t100\t120\t90\t95\t5\tTRUE\n",
      "713\t646\tKyuremWhite Kyurem\tDragon\tIce\t700\t125\t120\t90\t170\t100\t95\t5\tTRUE\n",
      "714\t647\tKeldeoOrdinary Forme\tWater\tFighting\t580\t91\t72\t90\t129\t90\t108\t5\tFALSE\n",
      "715\t647\tKeldeoResolute Forme\tWater\tFighting\t580\t91\t72\t90\t129\t90\t108\t5\tFALSE\n",
      "716\t648\tMeloettaAria Forme\tNormal\tPsychic\t600\t100\t77\t77\t128\t128\t90\t5\tFALSE\n",
      "717\t648\tMeloettaPirouette Forme\tNormal\tFighting\t600\t100\t128\t90\t77\t77\t128\t5\tFALSE\n",
      "718\t649\tGenesect\tBug\tSteel\t600\t71\t120\t95\t120\t95\t99\t5\tFALSE\n",
      "719\t650\tChespin\tGrass\t\t313\t56\t61\t65\t48\t45\t38\t6\tFALSE\n",
      "720\t651\tQuilladin\tGrass\t\t405\t61\t78\t95\t56\t58\t57\t6\tFALSE\n",
      "721\t652\tChesnaught\tGrass\tFighting\t530\t88\t107\t122\t74\t75\t64\t6\tFALSE\n",
      "722\t653\tFennekin\tFire\t\t307\t40\t45\t40\t62\t60\t60\t6\tFALSE\n",
      "723\t654\tBraixen\tFire\t\t409\t59\t59\t58\t90\t70\t73\t6\tFALSE\n",
      "724\t655\tDelphox\tFire\tPsychic\t534\t75\t69\t72\t114\t100\t104\t6\tFALSE\n",
      "725\t656\tFroakie\tWater\t\t314\t41\t56\t40\t62\t44\t71\t6\tFALSE\n",
      "726\t657\tFrogadier\tWater\t\t405\t54\t63\t52\t83\t56\t97\t6\tFALSE\n",
      "727\t658\tGreninja\tWater\tDark\t530\t72\t95\t67\t103\t71\t122\t6\tFALSE\n",
      "728\t659\tBunnelby\tNormal\t\t237\t38\t36\t38\t32\t36\t57\t6\tFALSE\n",
      "729\t660\tDiggersby\tNormal\tGround\t423\t85\t56\t77\t50\t77\t78\t6\tFALSE\n",
      "730\t661\tFletchling\tNormal\tFlying\t278\t45\t50\t43\t40\t38\t62\t6\tFALSE\n",
      "731\t662\tFletchinder\tFire\tFlying\t382\t62\t73\t55\t56\t52\t84\t6\tFALSE\n",
      "732\t663\tTalonflame\tFire\tFlying\t499\t78\t81\t71\t74\t69\t126\t6\tFALSE\n",
      "733\t664\tScatterbug\tBug\t\t200\t38\t35\t40\t27\t25\t35\t6\tFALSE\n",
      "734\t665\tSpewpa\tBug\t\t213\t45\t22\t60\t27\t30\t29\t6\tFALSE\n",
      "735\t666\tVivillon\tBug\tFlying\t411\t80\t52\t50\t90\t50\t89\t6\tFALSE\n",
      "736\t667\tLitleo\tFire\tNormal\t369\t62\t50\t58\t73\t54\t72\t6\tFALSE\n",
      "737\t668\tPyroar\tFire\tNormal\t507\t86\t68\t72\t109\t66\t106\t6\tFALSE\n",
      "738\t669\tFlab??b??\tFairy\t\t303\t44\t38\t39\t61\t79\t42\t6\tFALSE\n",
      "739\t670\tFloette\tFairy\t\t371\t54\t45\t47\t75\t98\t52\t6\tFALSE\n",
      "740\t671\tFlorges\tFairy\t\t552\t78\t65\t68\t112\t154\t75\t6\tFALSE\n",
      "741\t672\tSkiddo\tGrass\t\t350\t66\t65\t48\t62\t57\t52\t6\tFALSE\n",
      "742\t673\tGogoat\tGrass\t\t531\t123\t100\t62\t97\t81\t68\t6\tFALSE\n",
      "743\t674\tPancham\tFighting\t\t348\t67\t82\t62\t46\t48\t43\t6\tFALSE\n",
      "744\t675\tPangoro\tFighting\tDark\t495\t95\t124\t78\t69\t71\t58\t6\tFALSE\n",
      "745\t676\tFurfrou\tNormal\t\t472\t75\t80\t60\t65\t90\t102\t6\tFALSE\n",
      "746\t677\tEspurr\tPsychic\t\t355\t62\t48\t54\t63\t60\t68\t6\tFALSE\n",
      "747\t678\tMeowsticMale\tPsychic\t\t466\t74\t48\t76\t83\t81\t104\t6\tFALSE\n",
      "748\t678\tMeowsticFemale\tPsychic\t\t466\t74\t48\t76\t83\t81\t104\t6\tFALSE\n",
      "749\t679\tHonedge\tSteel\tGhost\t325\t45\t80\t100\t35\t37\t28\t6\tFALSE\n",
      "750\t680\tDoublade\tSteel\tGhost\t448\t59\t110\t150\t45\t49\t35\t6\tFALSE\n",
      "751\t681\tAegislashBlade Forme\tSteel\tGhost\t520\t60\t150\t50\t150\t50\t60\t6\tFALSE\n",
      "752\t681\tAegislashShield Forme\tSteel\tGhost\t520\t60\t50\t150\t50\t150\t60\t6\tFALSE\n",
      "753\t682\tSpritzee\tFairy\t\t341\t78\t52\t60\t63\t65\t23\t6\tFALSE\n",
      "754\t683\tAromatisse\tFairy\t\t462\t101\t72\t72\t99\t89\t29\t6\tFALSE\n",
      "755\t684\tSwirlix\tFairy\t\t341\t62\t48\t66\t59\t57\t49\t6\tFALSE\n",
      "756\t685\tSlurpuff\tFairy\t\t480\t82\t80\t86\t85\t75\t72\t6\tFALSE\n",
      "757\t686\tInkay\tDark\tPsychic\t288\t53\t54\t53\t37\t46\t45\t6\tFALSE\n",
      "758\t687\tMalamar\tDark\tPsychic\t482\t86\t92\t88\t68\t75\t73\t6\tFALSE\n",
      "759\t688\tBinacle\tRock\tWater\t306\t42\t52\t67\t39\t56\t50\t6\tFALSE\n",
      "760\t689\tBarbaracle\tRock\tWater\t500\t72\t105\t115\t54\t86\t68\t6\tFALSE\n",
      "761\t690\tSkrelp\tPoison\tWater\t320\t50\t60\t60\t60\t60\t30\t6\tFALSE\n",
      "762\t691\tDragalge\tPoison\tDragon\t494\t65\t75\t90\t97\t123\t44\t6\tFALSE\n",
      "763\t692\tClauncher\tWater\t\t330\t50\t53\t62\t58\t63\t44\t6\tFALSE\n",
      "764\t693\tClawitzer\tWater\t\t500\t71\t73\t88\t120\t89\t59\t6\tFALSE\n",
      "765\t694\tHelioptile\tElectric\tNormal\t289\t44\t38\t33\t61\t43\t70\t6\tFALSE\n",
      "766\t695\tHeliolisk\tElectric\tNormal\t481\t62\t55\t52\t109\t94\t109\t6\tFALSE\n",
      "767\t696\tTyrunt\tRock\tDragon\t362\t58\t89\t77\t45\t45\t48\t6\tFALSE\n",
      "768\t697\tTyrantrum\tRock\tDragon\t521\t82\t121\t119\t69\t59\t71\t6\tFALSE\n",
      "769\t698\tAmaura\tRock\tIce\t362\t77\t59\t50\t67\t63\t46\t6\tFALSE\n",
      "770\t699\tAurorus\tRock\tIce\t521\t123\t77\t72\t99\t92\t58\t6\tFALSE\n",
      "771\t700\tSylveon\tFairy\t\t525\t95\t65\t65\t110\t130\t60\t6\tFALSE\n",
      "772\t701\tHawlucha\tFighting\tFlying\t500\t78\t92\t75\t74\t63\t118\t6\tFALSE\n",
      "773\t702\tDedenne\tElectric\tFairy\t431\t67\t58\t57\t81\t67\t101\t6\tFALSE\n",
      "774\t703\tCarbink\tRock\tFairy\t500\t50\t50\t150\t50\t150\t50\t6\tFALSE\n",
      "775\t704\tGoomy\tDragon\t\t300\t45\t50\t35\t55\t75\t40\t6\tFALSE\n",
      "776\t705\tSliggoo\tDragon\t\t452\t68\t75\t53\t83\t113\t60\t6\tFALSE\n",
      "777\t706\tGoodra\tDragon\t\t600\t90\t100\t70\t110\t150\t80\t6\tFALSE\n",
      "778\t707\tKlefki\tSteel\tFairy\t470\t57\t80\t91\t80\t87\t75\t6\tFALSE\n",
      "779\t708\tPhantump\tGhost\tGrass\t309\t43\t70\t48\t50\t60\t38\t6\tFALSE\n",
      "780\t709\tTrevenant\tGhost\tGrass\t474\t85\t110\t76\t65\t82\t56\t6\tFALSE\n",
      "781\t710\tPumpkabooAverage Size\tGhost\tGrass\t335\t49\t66\t70\t44\t55\t51\t6\tFALSE\n",
      "782\t710\tPumpkabooSmall Size\tGhost\tGrass\t335\t44\t66\t70\t44\t55\t56\t6\tFALSE\n",
      "783\t710\tPumpkabooLarge Size\tGhost\tGrass\t335\t54\t66\t70\t44\t55\t46\t6\tFALSE\n",
      "784\t710\tPumpkabooSuper Size\tGhost\tGrass\t335\t59\t66\t70\t44\t55\t41\t6\tFALSE\n",
      "785\t711\tGourgeistAverage Size\tGhost\tGrass\t494\t65\t90\t122\t58\t75\t84\t6\tFALSE\n",
      "786\t711\tGourgeistSmall Size\tGhost\tGrass\t494\t55\t85\t122\t58\t75\t99\t6\tFALSE\n",
      "787\t711\tGourgeistLarge Size\tGhost\tGrass\t494\t75\t95\t122\t58\t75\t69\t6\tFALSE\n",
      "788\t711\tGourgeistSuper Size\tGhost\tGrass\t494\t85\t100\t122\t58\t75\t54\t6\tFALSE\n",
      "789\t712\tBergmite\tIce\t\t304\t55\t69\t85\t32\t35\t28\t6\tFALSE\n",
      "790\t713\tAvalugg\tIce\t\t514\t95\t117\t184\t44\t46\t28\t6\tFALSE\n",
      "791\t714\tNoibat\tFlying\tDragon\t245\t40\t30\t35\t45\t40\t55\t6\tFALSE\n",
      "792\t715\tNoivern\tFlying\tDragon\t535\t85\t70\t80\t97\t80\t123\t6\tFALSE\n",
      "793\t716\tXerneas\tFairy\t\t680\t126\t131\t95\t131\t98\t99\t6\tTRUE\n",
      "794\t717\tYveltal\tDark\tFlying\t680\t126\t131\t95\t131\t98\t99\t6\tTRUE\n",
      "795\t718\tZygarde50% Forme\tDragon\tGround\t600\t108\t100\t121\t81\t95\t95\t6\tTRUE\n",
      "796\t719\tDiancie\tRock\tFairy\t600\t50\t100\t150\t100\t150\t50\t6\tTRUE\n",
      "797\t719\tDiancieMega Diancie\tRock\tFairy\t700\t50\t160\t110\t160\t110\t110\t6\tTRUE\n",
      "798\t720\tHoopaHoopa Confined\tPsychic\tGhost\t600\t80\t110\t60\t150\t130\t70\t6\tTRUE\n",
      "799\t720\tHoopaHoopa Unbound\tPsychic\tDark\t680\t80\t160\t60\t170\t130\t80\t6\tTRUE\n",
      "800\t721\tVolcanion\tFire\tWater\t600\t80\t110\t120\t130\t90\t70\t6\tTRUE\n"
     ]
    }
   ],
   "source": [
    "f = 'Pokemon.txt'\n",
    "with open(f, 'r') as fraw:\n",
    "    line = fraw.readline()\n",
    "    while line:\n",
    "        print(\"{}\".format(line.strip()))\n",
    "        line = fraw.readline()"
   ]
  },
  {
   "cell_type": "markdown",
   "metadata": {},
   "source": [
    "![NLPPipeline](http://whitneyontheweb.com/images/pipeline1.png \"NLP Pipeline\")\n",
    "\n",
    "When we tokenize a string we produce a list (of words), and this is Python's ```<list>``` type\n",
    "\n",
    "|```Method``` | Functionality | \n",
    "|-----|-----|-----|\n",
    "|```s.find(t)``` | index of first instance of string t inside s (-1 if not found) | \n",
    "|```s.rfind(t)``` | index of last instance of string t inside s (-1 if not found) | \n",
    "|```s.index(t)``` | like s.find(t) except it raises ValueError if not found | \n",
    "|```s.rindex(t)``` | like s.rfind(t) except it raises ValueError if not found | \n",
    "|```s.join(text)``` | combine the words of the text into a string using s as the glue | \n",
    "|```s.split(t)``` | split s into a list wherever a t is found (whitespace by default) | \n",
    "|```s.splitlines()``` | split s into a list of strings, one per line | \n",
    "|```s.lower()``` | a lowercased version of the string s | \n",
    "|```s.upper()``` | an uppercased version of the string s | \n",
    "|```s.title()``` | a titlecased version of the string s | \n",
    "|```s.strip()``` | a copy of s without leading or trailing whitespace | \n",
    "|```s.replace(t, u)``` | replace instances of t with u inside s | \n",
    "\n",
    "## _Regular Expressions_\n",
    "\n",
    "Regexes are pattern matching expressions."
   ]
  },
  {
   "cell_type": "code",
   "execution_count": 17,
   "metadata": {
    "collapsed": false
   },
   "outputs": [
    {
     "name": "stdout",
     "output_type": "stream",
     "text": [
      "['abjectly', 'adjuster', 'dejected', 'dejectly', 'injector', 'majestic', 'objectee', 'objector', 'rejecter', 'rejector', 'unjilted', 'unjolted', 'unjustly']\n"
     ]
    }
   ],
   "source": [
    "import re\n",
    "wordlist = [w for w in nltk.corpus.words.words('en') if w.islower()]\n",
    "#[w for w in wordlist if re.search('ed$', w)]\n",
    "print([w for w in wordlist if re.search('^..j..t..$', w)])"
   ]
  },
  {
   "cell_type": "markdown",
   "metadata": {},
   "source": [
    "The T9 system is used for entering text on mobile phones\n",
    "\n",
    "* Two or more words that are entered with the same sequence of keystrokes are known as **textonyms**\n",
    " - Note that the + and * symbols are sometimes referred to as **Kleene closures**, or simply **closures**"
   ]
  },
  {
   "cell_type": "code",
   "execution_count": 14,
   "metadata": {
    "collapsed": false
   },
   "outputs": [
    {
     "data": {
      "text/plain": [
       "['ace', 'bad', 'bae', 'cad']"
      ]
     },
     "execution_count": 14,
     "metadata": {},
     "output_type": "execute_result"
    }
   ],
   "source": [
    "[w for w in wordlist if re.search('^[abc][abc][def]$', w)]"
   ]
  },
  {
   "cell_type": "markdown",
   "metadata": {},
   "source": [
    "Regular expressions are great for extracting parts of words, amoung other things.\n",
    "\n",
    "|```Operator``` | Behavior | \n",
    "|-----|-----|-----|\n",
    "|```.``` | Wildcard, matches any character | \n",
    "|```^abc``` | Matches some pattern abc at the start of a string | \n",
    "|```abc$``` | Matches some pattern abc at the end of a string | \n",
    "|```[abc]``` | Matches one of a set of characters | \n",
    "|```[A-Z0-9]``` | Matches one of a range of characters | \n",
    "|```ed\\ing\\s``` | Matches one of the specified strings (disjunction) | \n",
    "|```*``` | Zero or more of previous item, e.g. a*, [a-z]* (also known as Kleene Closure) | \n",
    "|```+``` | One or more of previous item, e.g. a+, [a-z]+ | \n",
    "|```?``` | Zero or one of the previous item (i.e. optional), e.g. a?, [a-z]? | \n",
    "|```{n}``` | Exactly n repeats where n is a non-negative integer | \n",
    "|```{n,}``` | At least n repeats | \n",
    "|```{,n}``` | No more than n repeats | \n",
    "|```{m,n}``` | At least m and no more than n repeats | \n",
    "|```a(b\\c)+``` | Parentheses that indicate the scope of the operators | \n",
    "\n",
    "### _Extracting Word Pieces_ \n",
    "The re.findall() (\"find all\") method finds all (non-overlapping) matches of the given regular expression"
   ]
  },
  {
   "cell_type": "code",
   "execution_count": 16,
   "metadata": {
    "collapsed": false
   },
   "outputs": [
    {
     "name": "stdout",
     "output_type": "stream",
     "text": [
      "['u', 'e', 'a', 'i', 'a', 'i', 'i', 'i', 'e', 'i', 'a', 'i', 'o', 'i', 'o', 'u']\n"
     ]
    }
   ],
   "source": [
    "word = 'supercalifragilisticexpialidocious'\n",
    "print(re.findall(r'[aeiou]', word))"
   ]
  },
  {
   "cell_type": "markdown",
   "metadata": {
    "collapsed": true
   },
   "source": [
    "Let's look for all sequences of two or more vowels in some text, and determine their relative frequency"
   ]
  },
  {
   "cell_type": "code",
   "execution_count": 18,
   "metadata": {
    "collapsed": false
   },
   "outputs": [
    {
     "data": {
      "text/plain": [
       "[('io', 549),\n",
       " ('ea', 476),\n",
       " ('ie', 331),\n",
       " ('ou', 329),\n",
       " ('ai', 261),\n",
       " ('ia', 253),\n",
       " ('ee', 217),\n",
       " ('oo', 174),\n",
       " ('ua', 109),\n",
       " ('au', 106),\n",
       " ('ue', 105),\n",
       " ('ui', 95)]"
      ]
     },
     "execution_count": 18,
     "metadata": {},
     "output_type": "execute_result"
    }
   ],
   "source": [
    "wsj = sorted(set(nltk.corpus.treebank.words()))\n",
    "fd = nltk.FreqDist(vs for word in wsj\n",
    "                   for vs in re.findall(r'[aeiou]{2,}', word))\n",
    "\n",
    "fd.most_common(12)"
   ]
  },
  {
   "cell_type": "code",
   "execution_count": 40,
   "metadata": {
    "collapsed": false
   },
   "outputs": [
    {
     "data": {
      "text/plain": [
       "[2009, 12, 31]"
      ]
     },
     "execution_count": 40,
     "metadata": {},
     "output_type": "execute_result"
    }
   ],
   "source": [
    "[int(n) for n in re.findall(r'\\d+', '2009-12-31')]"
   ]
  },
  {
   "cell_type": "code",
   "execution_count": 17,
   "metadata": {
    "collapsed": false
   },
   "outputs": [
    {
     "name": "stdout",
     "output_type": "stream",
     "text": [
      "vry trd of sttng by hr sstr on the bnk , and of hvng nthng to do .\n",
      "Once or twce she hd ppd into the bk hr sstr ws rdng , bt it hd no\n",
      "pctrs or cnvrstns in it , `` and wht is the use of a bk , '' thght\n",
      "Alce , `` wtht pctrs or cnvrstns ? '' So she ws cnsdrng in hr own mnd\n",
      "( as wll as\n"
     ]
    }
   ],
   "source": [
    "regexp = r'^[AEIOUaeiou]+|[AEIOUaeiou]+$|[^AEIOUaeiou]'\n",
    "\n",
    "def compress(word):\n",
    "    pieces = re.findall(regexp, word)\n",
    "    return ''.join(pieces)\n",
    "\n",
    "print(nltk.tokenwrap(compress(w) for w in tokens[10:85]))"
   ]
  },
  {
   "cell_type": "code",
   "execution_count": 41,
   "metadata": {
    "collapsed": false
   },
   "outputs": [
    {
     "name": "stdout",
     "output_type": "stream",
     "text": [
      "[('process', 'es')]\n",
      "------------------------------------------------------------------\n",
      "['very', 'tir', 'of', 'sitt', 'by', 'her', 'sister', 'on', 'the', 'bank', ',', 'and', 'of', 'hav', 'noth', 'to', 'do', '.', 'Once', 'or', 'twice', 'she', 'had', 'peep', 'into', 'the', 'book', 'her', 'sister', 'wa', 'read', ',', 'but', 'it', 'had', 'no', 'pictur', 'or', 'conversation', 'in', 'it', ',', '``', 'and', 'what', 'i', 'the', 'use', 'of', 'a', 'book', ',', \"''\", 'thought', 'Alice', ',', '``', 'without', 'pictur', 'or', 'conversation', '?', \"''\", 'So', 'she', 'wa', 'consider', 'in', 'her', 'own', 'mind', '(', 'a', 'well', 'a']\n"
     ]
    }
   ],
   "source": [
    "print(re.findall(r'^(.*?)(ing|ly|ed|ious|ies|ive|es|s|ment)$', 'processes'))\n",
    "line()\n",
    "\n",
    "def stem(word):\n",
    "    regexp = r'^(.*?)(ing|ly|ed|ious|ies|ive|es|s|ment)?$'\n",
    "    stem, suffix = re.findall(regexp, word)[0]\n",
    "    return stem\n",
    "\n",
    "print([stem(t) for t in tokens[10:85]])\n"
   ]
  },
  {
   "cell_type": "markdown",
   "metadata": {},
   "source": [
    "It is easy to build search patterns when the linguistic phenomenon we're studying is tied to particular words. In some cases, a little creativity will go a long way. For instance, searching a large text corpus for expressions of the form x and other ys allows us to discover hypernyms"
   ]
  },
  {
   "cell_type": "code",
   "execution_count": 42,
   "metadata": {
    "collapsed": false
   },
   "outputs": [
    {
     "name": "stdout",
     "output_type": "stream",
     "text": [
      "speed and other activities; water and other liquids; tomb and other\n",
      "landmarks; Statues and other monuments; pearls and other jewels;\n",
      "charts and other items; roads and other features; figures and other\n",
      "objects; military and other areas; demands and other factors;\n",
      "abstracts and other compilations; iron and other metals\n"
     ]
    }
   ],
   "source": [
    "from nltk.corpus import brown\n",
    "hobbies_learned = nltk.Text(brown.words(categories=['hobbies', 'learned']))\n",
    "hobbies_learned.findall(r\"<\\w*> <and> <other> <\\w*s>\")"
   ]
  },
  {
   "cell_type": "markdown",
   "metadata": {},
   "source": [
    "There are also some prebuilt word stemmers that handle this work more as expected"
   ]
  },
  {
   "cell_type": "code",
   "execution_count": 45,
   "metadata": {
    "collapsed": false
   },
   "outputs": [
    {
     "name": "stdout",
     "output_type": "stream",
     "text": [
      "['veri', 'tire', 'of', 'sit', 'by', 'her', 'sister', 'on', 'the', 'bank', ',', 'and', 'of', 'have', 'noth', 'to', 'do', '.', 'onc', 'or', 'twice', 'she', 'had', 'peep', 'into', 'the', 'book', 'her', 'sister', 'wa', 'read', ',', 'but', 'it', 'had', 'no', 'pictur', 'or', 'convers', 'in', 'it', ',', '``', 'and', 'what', 'is', 'the', 'use', 'of', 'a', 'book', ',', \"''\", 'thought', 'alic', ',', '``', 'without', 'pictur', 'or', 'convers', '?', \"''\", 'So', 'she', 'wa', 'consid', 'in', 'her', 'own', 'mind', '(', 'as', 'well', 'as', 'she', 'could', ',', 'for', 'the', 'day', 'made', 'her', 'feel', 'veri', 'sleepi', 'and', 'stupid', ')', ',', 'whether', 'the', 'pleasur', 'of', 'make', 'a', 'daisy-chain', 'would', 'be', 'worth', 'the', 'troubl', 'of', 'get', 'up', 'and', 'pick', 'the', 'daisi', ',', 'when', 'suddenli', 'a', 'white', 'rabbit', 'with', 'pink', 'eye', 'ran', 'close', 'by', 'her', '.', 'there', 'wa', 'noth', 'so', 'veri', 'remark', 'in', 'that', ',', 'nor', 'did', 'alic', 'think', 'it', 'so', 'veri', 'much', 'out', 'of', 'the', 'way', 'to', 'hear', 'the', 'rabbit', 'say', 'to', 'itself', ',', '``', 'Oh', 'dear', '!', 'Oh', 'dear', '!', 'I', 'shall', 'be', 'too', 'late', '!', \"''\", 'but', 'when', 'the', 'rabbit', 'actual', 'took', 'a', 'watch', 'out', 'of', 'it', 'waistcoat-pocket', 'and', 'look', 'at', 'it', 'and', 'then', 'hurri', 'on', ',', 'alic', 'start', 'to']\n"
     ]
    }
   ],
   "source": [
    "porter = nltk.PorterStemmer()\n",
    "print([porter.stem(t) for t in tokens[10:200]])"
   ]
  },
  {
   "cell_type": "markdown",
   "metadata": {},
   "source": [
    "### Lemmatization\n",
    "\n",
    "* The WordNet lemmatizer only removes affixes if the resulting word is in its dictionary\n",
    "* The WordNet lemmatizer is a good choice if you want to compile the vocabulary of some texts and want a list of valid lemmas (or lexicon headwords)"
   ]
  },
  {
   "cell_type": "code",
   "execution_count": 46,
   "metadata": {
    "collapsed": false
   },
   "outputs": [
    {
     "name": "stdout",
     "output_type": "stream",
     "text": [
      "['very', 'tired', 'of', 'sitting', 'by', 'her', 'sister', 'on', 'the', 'bank', ',', 'and', 'of', 'having', 'nothing', 'to', 'do', '.', 'Once', 'or', 'twice', 'she', 'had', 'peeped', 'into', 'the', 'book', 'her', 'sister', 'wa', 'reading', ',', 'but', 'it', 'had', 'no', 'picture', 'or', 'conversation', 'in', 'it', ',', '``', 'and', 'what', 'is', 'the', 'use', 'of', 'a', 'book', ',', \"''\", 'thought', 'Alice', ',', '``', 'without', 'picture', 'or', 'conversation', '?', \"''\", 'So', 'she', 'wa', 'considering', 'in', 'her', 'own', 'mind', '(', 'a', 'well', 'a', 'she', 'could', ',', 'for', 'the', 'day', 'made', 'her', 'feel', 'very', 'sleepy', 'and', 'stupid', ')', ',', 'whether', 'the', 'pleasure', 'of', 'making', 'a', 'daisy-chain', 'would', 'be', 'worth', 'the', 'trouble', 'of', 'getting', 'up', 'and', 'picking', 'the', 'daisy', ',', 'when', 'suddenly', 'a', 'White', 'Rabbit', 'with', 'pink', 'eye', 'ran', 'close', 'by', 'her', '.', 'There', 'wa', 'nothing', 'so', 'very', 'remarkable', 'in', 'that', ',', 'nor', 'did', 'Alice', 'think', 'it', 'so', 'very', 'much', 'out', 'of', 'the', 'way', 'to', 'hear', 'the', 'Rabbit', 'say', 'to', 'itself', ',', '``', 'Oh', 'dear', '!', 'Oh', 'dear', '!', 'I', 'shall', 'be', 'too', 'late', '!', \"''\", 'But', 'when', 'the', 'Rabbit', 'actually', 'took', 'a', 'watch', 'out', 'of', 'it', 'waistcoat-pocket', 'and', 'looked', 'at', 'it', 'and', 'then', 'hurried', 'on', ',', 'Alice', 'started', 'to']\n"
     ]
    }
   ],
   "source": [
    "wnl = nltk.WordNetLemmatizer()\n",
    "print([wnl.lemmatize(t)  for t in tokens[10:200]])"
   ]
  },
  {
   "cell_type": "markdown",
   "metadata": {},
   "source": [
    "## Tokenizing Text\n",
    "\n",
    "The very simplest method for tokenizing text is to split on whitespace\n",
    "\n",
    " - When using a regular expression, you must also account for tabs and new lines\n",
    " - This can be further refined into splitting the text on anything other than a word character"
   ]
  },
  {
   "cell_type": "code",
   "execution_count": 54,
   "metadata": {
    "collapsed": false
   },
   "outputs": [
    {
     "name": "stdout",
     "output_type": "stream",
     "text": [
      "['I', 'DOWN', 'THE', 'RABBIT', 'HOLE', 'Alice', 'was', 'beginning', 'to', 'get', 'very', 'tired', 'of', 'sitting', 'by', 'her', 'sister', 'on', 'the', 'bank', 'and', 'of', 'having', 'nothing', 'to', 'do', 'Once', 'or', 'twice', 'she', 'had', 'peeped', 'into', 'the', 'book', 'her', 'sister', 'was', 'reading', 'but', 'it', 'had', 'no', 'pictures', 'or', 'conversations', 'in', 'it', 'and', 'what', 'is', 'the', 'use', 'of', 'a', 'book', 'thought', 'Alice', 'without', 'pictures', 'or', 'conversations', 'So', 'she', 'was', 'considering', 'in', 'her', 'own', 'mind', 'as', 'well', 'as', 'she', 'could']\n"
     ]
    }
   ],
   "source": [
    "re_split_raw = re.split(r'[ \\W]+', raw)\n",
    "\n",
    "print(re_split_raw[:75])"
   ]
  },
  {
   "cell_type": "markdown",
   "metadata": {},
   "source": [
    "| Symbol | Function | \n",
    "|-----|-----|-----|\n",
    "| \\b | Word boundary (zero width) | \n",
    "| \\d | Any decimal digit (equivalent to [0-9]) | \n",
    "| \\D | Any non-digit character (equivalent to [^0-9]) | \n",
    "| \\s | Any whitespace character (equivalent to [ \\t\\n\\r\\f\\v]) | \n",
    "| \\S | Any non-whitespace character (equivalent to [^ \\t\\n\\r\\f\\v]) | \n",
    "| \\w | Any alphanumeric character (equivalent to [a-zA-Z0-9_]) | \n",
    "| \\W | Any non-alphanumeric character (equivalent to [^a-zA-Z0-9_]) | \n",
    "| \\t | The tab character | \n",
    "| \\n | The newline character | \n"
   ]
  },
  {
   "cell_type": "code",
   "execution_count": null,
   "metadata": {
    "collapsed": true
   },
   "outputs": [],
   "source": []
  },
  {
   "cell_type": "code",
   "execution_count": null,
   "metadata": {
    "collapsed": true
   },
   "outputs": [],
   "source": []
  },
  {
   "cell_type": "code",
   "execution_count": null,
   "metadata": {
    "collapsed": true
   },
   "outputs": [],
   "source": []
  },
  {
   "cell_type": "code",
   "execution_count": null,
   "metadata": {
    "collapsed": true
   },
   "outputs": [],
   "source": []
  },
  {
   "cell_type": "code",
   "execution_count": null,
   "metadata": {
    "collapsed": true
   },
   "outputs": [],
   "source": []
  },
  {
   "cell_type": "code",
   "execution_count": null,
   "metadata": {
    "collapsed": true
   },
   "outputs": [],
   "source": []
  }
 ],
 "metadata": {
  "kernelspec": {
   "display_name": "Python 3",
   "language": "python",
   "name": "python3"
  },
  "language_info": {
   "codemirror_mode": {
    "name": "ipython",
    "version": 3
   },
   "file_extension": ".py",
   "mimetype": "text/x-python",
   "name": "python",
   "nbconvert_exporter": "python",
   "pygments_lexer": "ipython3",
   "version": "3.6.0"
  }
 },
 "nbformat": 4,
 "nbformat_minor": 2
}
