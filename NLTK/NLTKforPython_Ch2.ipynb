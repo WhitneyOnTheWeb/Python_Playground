{
 "cells": [
  {
   "cell_type": "markdown",
   "metadata": {},
   "source": [
    "# NLTK for Python Test Bed\n",
    "## Chapter 2:  Text Corpora and Lexical Resources\n",
    "### Using examples from http://www.nltk.org\n",
    "##### Whitney King  (1/7/2018)"
   ]
  },
  {
   "cell_type": "code",
   "execution_count": 1,
   "metadata": {
    "collapsed": true
   },
   "outputs": [],
   "source": [
    "import nltk\n",
    "import pandas as pd\n",
    "#nltk.download()"
   ]
  },
  {
   "cell_type": "markdown",
   "metadata": {},
   "source": [
    "## _Project Gutenberg Corpora_\n",
    "\n",
    "Thousands of full texts of established literature, though it is important to consider these texts lack the informality of many conversations\n",
    "\n",
    "**Corpora** are large bodies of linguistic data (singular term is **corpus**)"
   ]
  },
  {
   "cell_type": "code",
   "execution_count": 2,
   "metadata": {
    "collapsed": false
   },
   "outputs": [
    {
     "data": {
      "text/plain": [
       "['austen-emma.txt',\n",
       " 'austen-persuasion.txt',\n",
       " 'austen-sense.txt',\n",
       " 'bible-kjv.txt',\n",
       " 'blake-poems.txt',\n",
       " 'bryant-stories.txt',\n",
       " 'burgess-busterbrown.txt',\n",
       " 'carroll-alice.txt',\n",
       " 'chesterton-ball.txt',\n",
       " 'chesterton-brown.txt',\n",
       " 'chesterton-thursday.txt',\n",
       " 'edgeworth-parents.txt',\n",
       " 'melville-moby_dick.txt',\n",
       " 'milton-paradise.txt',\n",
       " 'shakespeare-caesar.txt',\n",
       " 'shakespeare-hamlet.txt',\n",
       " 'shakespeare-macbeth.txt',\n",
       " 'whitman-leaves.txt']"
      ]
     },
     "execution_count": 2,
     "metadata": {},
     "output_type": "execute_result"
    }
   ],
   "source": [
    "#Import sample text used in NLTK corpora examples from Project Gutenberg Files\n",
    "from nltk.corpus import gutenberg\n",
    "gutenberg.fileids()"
   ]
  },
  {
   "cell_type": "code",
   "execution_count": 3,
   "metadata": {
    "collapsed": false
   },
   "outputs": [],
   "source": [
    "#Define custom functions\n",
    "\n",
    "def line():\n",
    "    print(\"------------------------------------------------------------------\")"
   ]
  },
  {
   "cell_type": "code",
   "execution_count": 4,
   "metadata": {
    "collapsed": false
   },
   "outputs": [
    {
     "name": "stdout",
     "output_type": "stream",
     "text": [
      "Total Words:  192427\n",
      "------------------------------------------------------------------\n",
      "Displaying 25 of 37 matches:\n",
      "er father , was sometimes taken by surprize at his being still able to pity ` \n",
      "hem do the other any good .\" \" You surprize me ! Emma must do Harriet good : a\n",
      "Knightley actually looked red with surprize and displeasure , as he stood up ,\n",
      "r . Elton , and found to his great surprize , that Mr . Elton was actually on \n",
      "d aid .\" Emma saw Mrs . Weston ' s surprize , and felt that it must be great ,\n",
      "father was quite taken up with the surprize of so sudden a journey , and his f\n",
      "y , in all the favouring warmth of surprize and conjecture . She was , moreove\n",
      "he appeared , to have her share of surprize , introduction , and pleasure . Th\n",
      "ir plans ; and it was an agreeable surprize to her , therefore , to perceive t\n",
      "talking aunt had taken me quite by surprize , it must have been the death of m\n",
      "f all the dialogue which ensued of surprize , and inquiry , and congratulation\n",
      " the present . They might chuse to surprize her .\" Mrs . Cole had many to agre\n",
      "the mode of it , the mystery , the surprize , is more like a young woman ' s s\n",
      " to her song took her agreeably by surprize -- a second , slightly but correct\n",
      "\" \" Oh ! no -- there is nothing to surprize one at all .-- A pretty fortune ; \n",
      "t to be considered . Emma ' s only surprize was that Jane Fairfax should accep\n",
      "of your admiration may take you by surprize some day or other .\" Mr . Knightle\n",
      "ation for her will ever take me by surprize .-- I never had a thought of her i\n",
      " expected by the best judges , for surprize -- but there was great joy . Mr . \n",
      " sound of at first , without great surprize . \" So unreasonably early !\" she w\n",
      "d Frank Churchill , with a look of surprize and displeasure .-- \" That is easy\n",
      "; and Emma could imagine with what surprize and mortification she must be retu\n",
      "tled that Jane should go . Quite a surprize to me ! I had not the least idea !\n",
      " . It is impossible to express our surprize . He came to speak to his father o\n",
      "g engaged !\" Emma even jumped with surprize ;-- and , horror - struck , exclai\n"
     ]
    }
   ],
   "source": [
    "emma = gutenberg.words('austen-emma.txt')\n",
    "emma_text = nltk.Text(emma)\n",
    "print('Total Words: ', len(emma))\n",
    "line()\n",
    "emma_text.concordance('surprize')"
   ]
  },
  {
   "cell_type": "markdown",
   "metadata": {},
   "source": [
    "A function can be used to display descriptive statistics about each of the corpora\n",
    "* The ```raw()``` function returns the contents of the file without any linguistic processing"
   ]
  },
  {
   "cell_type": "code",
   "execution_count": 5,
   "metadata": {
    "collapsed": false
   },
   "outputs": [
    {
     "ename": "SyntaxError",
     "evalue": "invalid syntax (<ipython-input-5-52e776031df0>, line 7)",
     "output_type": "error",
     "traceback": [
      "\u001b[0;36m  File \u001b[0;32m\"<ipython-input-5-52e776031df0>\"\u001b[0;36m, line \u001b[0;32m7\u001b[0m\n\u001b[0;31m    print(round(num_chars/num_words), round(num_words/num_sents), round(num_words/num_vocab), fid)line()\u001b[0m\n\u001b[0m                                                                                                     ^\u001b[0m\n\u001b[0;31mSyntaxError\u001b[0m\u001b[0;31m:\u001b[0m invalid syntax\n"
     ]
    }
   ],
   "source": [
    "print(\"c w  sent   file\")\n",
    "for fid in gutenberg.fileids():\n",
    "    num_chars = len(gutenberg.raw(fid))\n",
    "    num_words = len(gutenberg.words(fid))\n",
    "    num_sents = len(gutenberg.sents(fid))\n",
    "    num_vocab = len(set(w.lower() for w in gutenberg.raw(fid)))\n",
    "    print(round(num_chars/num_words), round(num_words/num_sents), round(num_words/num_vocab), fid)line()"
   ]
  },
  {
   "cell_type": "code",
   "execution_count": null,
   "metadata": {
    "collapsed": false
   },
   "outputs": [],
   "source": [
    "bible_sents = gutenberg.sents('bible-kjv.txt')\n",
    "print(bible_sents)\n",
    "line()\n",
    "print(bible_sents[1000])"
   ]
  },
  {
   "cell_type": "markdown",
   "metadata": {
    "collapsed": true
   },
   "source": [
    "## _Web and Chat Text Corpora_"
   ]
  },
  {
   "cell_type": "code",
   "execution_count": 6,
   "metadata": {
    "collapsed": false
   },
   "outputs": [
    {
     "name": "stdout",
     "output_type": "stream",
     "text": [
      "firefox.txt Cookie Manager: \"Don't allow sites that set removed cookies to se ...\n",
      "grail.txt SCENE 1: [wind] [clop clop clop] \n",
      "KING ARTHUR: Whoa there!  [clop ...\n",
      "overheard.txt White guy: So, do you have any plans for this evening?\n",
      "Asian girl ...\n",
      "pirates.txt PIRATES OF THE CARRIBEAN: DEAD MAN'S CHEST, by Ted Elliott & Terr ...\n",
      "singles.txt 25 SEXY MALE, seeks attrac older single lady, for discreet encoun ...\n",
      "wine.txt Lovely delicate, fragrant Rhone wine. Polished leather and strawb ...\n"
     ]
    }
   ],
   "source": [
    "from nltk.corpus import webtext\n",
    "for fileid in webtext.fileids():\n",
    "    print(fileid, webtext.raw(fileid)[:65], '...')"
   ]
  },
  {
   "cell_type": "code",
   "execution_count": 7,
   "metadata": {
    "collapsed": false
   },
   "outputs": [
    {
     "data": {
      "text/plain": [
       "['i',\n",
       " 'do',\n",
       " \"n't\",\n",
       " 'want',\n",
       " 'hot',\n",
       " 'pics',\n",
       " 'of',\n",
       " 'a',\n",
       " 'female',\n",
       " ',',\n",
       " 'I',\n",
       " 'can',\n",
       " 'look',\n",
       " 'in',\n",
       " 'a',\n",
       " 'mirror',\n",
       " '.']"
      ]
     },
     "execution_count": 7,
     "metadata": {},
     "output_type": "execute_result"
    }
   ],
   "source": [
    "from nltk.corpus import nps_chat\n",
    "chatroom = nps_chat.posts('10-19-20s_706posts.xml')\n",
    "chatroom[123]"
   ]
  },
  {
   "cell_type": "markdown",
   "metadata": {
    "collapsed": true
   },
   "source": [
    "## _Brown Corpus_\n",
    "\n",
    "Million-word electronic corpus of English, created at Brown University in 1961, using text from 500 different sources categorized by genre"
   ]
  },
  {
   "cell_type": "code",
   "execution_count": 8,
   "metadata": {
    "collapsed": false
   },
   "outputs": [
    {
     "name": "stdout",
     "output_type": "stream",
     "text": [
      "['adventure', 'belles_lettres', 'editorial', 'fiction', 'government', 'hobbies', 'humor', 'learned', 'lore', 'mystery', 'news', 'religion', 'reviews', 'romance', 'science_fiction']\n",
      "------------------------------------------------------------------\n",
      "[['The', 'Fulton', 'County', 'Grand', 'Jury', 'said', 'Friday', 'an', 'investigation', 'of', \"Atlanta's\", 'recent', 'primary', 'election', 'produced', '``', 'no', 'evidence', \"''\", 'that', 'any', 'irregularities', 'took', 'place', '.'], ['The', 'jury', 'further', 'said', 'in', 'term-end', 'presentments', 'that', 'the', 'City', 'Executive', 'Committee', ',', 'which', 'had', 'over-all', 'charge', 'of', 'the', 'election', ',', '``', 'deserves', 'the', 'praise', 'and', 'thanks', 'of', 'the', 'City', 'of', 'Atlanta', \"''\", 'for', 'the', 'manner', 'in', 'which', 'the', 'election', 'was', 'conducted', '.'], ...]\n",
      "------------------------------------------------------------------\n",
      "['The', 'Fulton', 'County', 'Grand', 'Jury', 'said', ...]\n",
      "------------------------------------------------------------------\n",
      "['Does', 'our', 'society', 'have', 'a', 'runaway', ',', ...]\n"
     ]
    }
   ],
   "source": [
    "from nltk.corpus import brown\n",
    "print(brown.categories())\n",
    "line()\n",
    "print(brown.sents(categories=['news', 'editorial', 'reviews']))\n",
    "line()\n",
    "print(brown.words(categories='news'))\n",
    "line()\n",
    "print(brown.words(fileids=['cg22']))"
   ]
  },
  {
   "cell_type": "markdown",
   "metadata": {},
   "source": [
    "This is a great resource for linguistic inqueries known as **stylistics**; or the systematic differences between genres"
   ]
  },
  {
   "cell_type": "code",
   "execution_count": 9,
   "metadata": {
    "collapsed": false
   },
   "outputs": [
    {
     "ename": "NameError",
     "evalue": "name 'FreqDist' is not defined",
     "output_type": "error",
     "traceback": [
      "\u001b[0;31m---------------------------------------------------------------------------\u001b[0m",
      "\u001b[0;31mNameError\u001b[0m                                 Traceback (most recent call last)",
      "\u001b[0;32m<ipython-input-9-e7b9adc0e746>\u001b[0m in \u001b[0;36m<module>\u001b[0;34m()\u001b[0m\n\u001b[1;32m      1\u001b[0m \u001b[0mhumor_text\u001b[0m \u001b[1;33m=\u001b[0m \u001b[0mbrown\u001b[0m\u001b[1;33m.\u001b[0m\u001b[0mwords\u001b[0m\u001b[1;33m(\u001b[0m\u001b[0mcategories\u001b[0m\u001b[1;33m=\u001b[0m\u001b[1;34m'humor'\u001b[0m\u001b[1;33m)\u001b[0m\u001b[1;33m\u001b[0m\u001b[0m\n\u001b[0;32m----> 2\u001b[0;31m \u001b[0mfdBrownHumor\u001b[0m \u001b[1;33m=\u001b[0m \u001b[0mFreqDist\u001b[0m\u001b[1;33m(\u001b[0m\u001b[0mw\u001b[0m\u001b[1;33m.\u001b[0m\u001b[0mlower\u001b[0m\u001b[1;33m(\u001b[0m\u001b[1;33m)\u001b[0m \u001b[1;32mfor\u001b[0m \u001b[0mw\u001b[0m \u001b[1;32min\u001b[0m \u001b[0mhumor_text\u001b[0m\u001b[1;33m)\u001b[0m\u001b[1;33m\u001b[0m\u001b[0m\n\u001b[0m\u001b[1;32m      3\u001b[0m \u001b[0mmodals\u001b[0m \u001b[1;33m=\u001b[0m \u001b[1;33m[\u001b[0m\u001b[1;34m'can'\u001b[0m\u001b[1;33m,\u001b[0m \u001b[1;34m'could'\u001b[0m\u001b[1;33m,\u001b[0m \u001b[1;34m'may'\u001b[0m\u001b[1;33m,\u001b[0m \u001b[1;34m'might'\u001b[0m\u001b[1;33m,\u001b[0m \u001b[1;34m'must'\u001b[0m\u001b[1;33m,\u001b[0m \u001b[1;34m'will'\u001b[0m\u001b[1;33m]\u001b[0m\u001b[1;33m\u001b[0m\u001b[0m\n\u001b[1;32m      4\u001b[0m \u001b[1;32mfor\u001b[0m \u001b[0mm\u001b[0m \u001b[1;32min\u001b[0m \u001b[0mmodals\u001b[0m\u001b[1;33m:\u001b[0m\u001b[1;33m\u001b[0m\u001b[0m\n\u001b[1;32m      5\u001b[0m     \u001b[0mprint\u001b[0m\u001b[1;33m(\u001b[0m\u001b[0mm\u001b[0m \u001b[1;33m+\u001b[0m \u001b[1;34m':'\u001b[0m\u001b[1;33m,\u001b[0m \u001b[0mfdBrownHumor\u001b[0m\u001b[1;33m[\u001b[0m\u001b[0mm\u001b[0m\u001b[1;33m]\u001b[0m\u001b[1;33m,\u001b[0m \u001b[0mend\u001b[0m\u001b[1;33m=\u001b[0m\u001b[1;34m' '\u001b[0m\u001b[1;33m)\u001b[0m \u001b[1;31m# end=' ' ensures that the output is all on a single line\u001b[0m\u001b[1;33m\u001b[0m\u001b[0m\n",
      "\u001b[0;31mNameError\u001b[0m: name 'FreqDist' is not defined"
     ]
    }
   ],
   "source": [
    "humor_text = brown.words(categories='humor')\n",
    "fdBrownHumor = FreqDist(w.lower() for w in humor_text)\n",
    "modals = ['can', 'could', 'may', 'might', 'must', 'will']\n",
    "for m in modals:\n",
    "    print(m + ':', fdBrownHumor[m], end=' ') # end=' ' ensures that the output is all on a single line"
   ]
  },
  {
   "cell_type": "markdown",
   "metadata": {},
   "source": [
    "#### _Conditional Frequency Distributions_\n",
    "\n",
    "Conditional Frequency Distributions will word obtain counts for each genre of interest"
   ]
  },
  {
   "cell_type": "code",
   "execution_count": 10,
   "metadata": {
    "collapsed": false
   },
   "outputs": [
    {
     "name": "stdout",
     "output_type": "stream",
     "text": [
      "                  can could   may might  must  will \n",
      "           news    93    86    66    38    50   389 \n",
      "       religion    82    59    78    12    54    71 \n",
      "        hobbies   268    58   131    22    83   264 \n",
      "science_fiction    16    49     4    12     8    16 \n",
      "        romance    74   193    11    51    45    43 \n",
      "          humor    16    30     8     8     9    13 \n"
     ]
    }
   ],
   "source": [
    "cfd = nltk.ConditionalFreqDist(\n",
    "          (genre, word)\n",
    "           for genre in brown.categories()\n",
    "           for word in brown.words(categories=genre))\n",
    "genres = ['news', 'religion', 'hobbies', 'science_fiction', 'romance', 'humor']\n",
    "modals = ['can', 'could', 'may', 'might', 'must', 'will']\n",
    "cfd.tabulate(conditions=genres, samples=modals)"
   ]
  },
  {
   "cell_type": "markdown",
   "metadata": {},
   "source": [
    "## _Reuters Corpus_\n",
    "\n",
    "10,788 news documents totaling 1.3 million words, classified into 90 different topics, which have been divided into two sets, *training*, and *test*\n",
    "* These can be used to to run against classifiers for with machine learning algorithms"
   ]
  },
  {
   "cell_type": "code",
   "execution_count": 11,
   "metadata": {
    "collapsed": false
   },
   "outputs": [
    {
     "name": "stdout",
     "output_type": "stream",
     "text": [
      "['test/14826', 'test/14828', 'test/14829', 'test/14832', 'test/14833', 'test/14839', 'test/14840', 'test/14841', 'test/14842', 'test/14843', 'test/14844', 'test/14849', 'test/14852', 'test/14854', 'test/14858', 'test/14859', 'test/14860', 'test/14861', 'test/14862', 'test/14863', 'test/14865', 'test/14867', 'test/14872', 'test/14873'] ...\n",
      "------------------------------------------------------------------\n",
      "['acq', 'alum', 'barley', 'bop', 'carcass', 'castor-oil', 'cocoa', 'coconut', 'coconut-oil', 'coffee', 'copper', 'copra-cake', 'corn', 'cotton', 'cotton-oil', 'cpi', 'cpu', 'crude', 'dfl', 'dlr', 'dmk', 'earn', 'fuel', 'gas', 'gnp', 'gold', 'grain', 'groundnut', 'groundnut-oil', 'heat', 'hog', 'housing', 'income', 'instal-debt', 'interest', 'ipi', 'iron-steel', 'jet', 'jobs', 'l-cattle', 'lead', 'lei', 'lin-oil', 'livestock', 'lumber', 'meal-feed', 'money-fx', 'money-supply', 'naphtha', 'nat-gas', 'nickel', 'nkr', 'nzdlr', 'oat', 'oilseed', 'orange', 'palladium', 'palm-oil', 'palmkernel', 'pet-chem', 'platinum', 'potato', 'propane', 'rand', 'rape-oil', 'rapeseed', 'reserves', 'retail', 'rice', 'rubber', 'rye', 'ship', 'silver', 'sorghum', 'soy-meal', 'soy-oil', 'soybean', 'strategic-metal', 'sugar', 'sun-meal', 'sun-oil', 'sunseed', 'tea', 'tin', 'trade', 'veg-oil', 'wheat', 'wpi', 'yen', 'zinc']\n",
      "------------------------------------------------------------------\n",
      "['earn', 'interest']\n",
      "------------------------------------------------------------------\n",
      "['test/14858', 'test/15254', 'test/15642', 'test/15798', 'test/16118', 'test/16379', 'test/16564', 'test/16784', 'test/18034', 'test/18099', 'test/18276', 'test/18277', 'test/18352', 'test/18482', 'test/18534', 'test/18540', 'test/18664', 'test/18665', 'test/18672', 'test/18911', 'test/19269', 'test/20441', 'test/20462', 'test/20511', 'test/21367', 'training/10124', 'training/10334', 'training/10373', 'training/10602', 'training/10604', 'training/10616', 'training/1110', 'training/11278', 'training/11544', 'training/121', 'training/12257', 'training/12372', 'training/12376', 'training/12737', 'training/13149', 'training/13380', 'training/13382', 'training/1372', 'training/1393', 'training/1398', 'training/1407', 'training/1557', 'training/1772', 'training/1970', 'training/2226', 'training/2389', 'training/2448', 'training/2495', 'training/2618', 'training/2978', 'training/3084', 'training/3318', 'training/3901', 'training/4022', 'training/4101', 'training/4503', 'training/4514', 'training/4577', 'training/4631', 'training/4636', 'training/5009', 'training/5031', 'training/5445', 'training/5487', 'training/5812', 'training/5896', 'training/6269', 'training/6317', 'training/6804', 'training/7005', 'training/7006', 'training/7015', 'training/7036', 'training/7098', 'training/7099', 'training/8574', 'training/8800', 'training/9060', 'training/9754']\n",
      "------------------------------------------------------------------\n",
      "['FRENCH', 'FREE', 'MARKET', 'CEREAL', 'EXPORT', 'BIDS', 'DETAILED', 'French', 'operators', 'have', 'requested', 'licences', 'to', 'export']\n",
      "------------------------------------------------------------------\n",
      "['THAI', 'TRADE', 'DEFICIT', 'WIDENS', 'IN', 'FIRST', ...]\n"
     ]
    }
   ],
   "source": [
    "from nltk.corpus import reuters\n",
    "print(list(reuters.fileids()[:24]), '...')\n",
    "line()\n",
    "print(reuters.categories())\n",
    "line()\n",
    "print(reuters.categories(['training/9861', 'training/9841']))\n",
    "line()\n",
    "print(reuters.fileids(['income', 'carcass']))\n",
    "line()\n",
    "print(reuters.words('training/9865')[:14])\n",
    "line()\n",
    "print(reuters.words(categories=['barley', 'corn']))"
   ]
  },
  {
   "cell_type": "markdown",
   "metadata": {},
   "source": [
    "## _Inaugural Address Corpus_\n",
    "\n",
    "Collection of texts featuring the 55 different presidential addresses across a time dimension"
   ]
  },
  {
   "cell_type": "code",
   "execution_count": 12,
   "metadata": {
    "collapsed": false
   },
   "outputs": [
    {
     "name": "stdout",
     "output_type": "stream",
     "text": [
      "['1789-Washington.txt', '1793-Washington.txt', '1797-Adams.txt', '1801-Jefferson.txt', '1805-Jefferson.txt', '1809-Madison.txt', '1813-Madison.txt', '1817-Monroe.txt', '1821-Monroe.txt', '1825-Adams.txt', '1829-Jackson.txt', '1833-Jackson.txt', '1837-VanBuren.txt', '1841-Harrison.txt', '1845-Polk.txt', '1849-Taylor.txt', '1853-Pierce.txt', '1857-Buchanan.txt', '1861-Lincoln.txt', '1865-Lincoln.txt', '1869-Grant.txt', '1873-Grant.txt', '1877-Hayes.txt', '1881-Garfield.txt', '1885-Cleveland.txt', '1889-Harrison.txt', '1893-Cleveland.txt', '1897-McKinley.txt', '1901-McKinley.txt', '1905-Roosevelt.txt', '1909-Taft.txt', '1913-Wilson.txt', '1917-Wilson.txt', '1921-Harding.txt', '1925-Coolidge.txt', '1929-Hoover.txt', '1933-Roosevelt.txt', '1937-Roosevelt.txt', '1941-Roosevelt.txt', '1945-Roosevelt.txt', '1949-Truman.txt', '1953-Eisenhower.txt', '1957-Eisenhower.txt', '1961-Kennedy.txt', '1965-Johnson.txt', '1969-Nixon.txt', '1973-Nixon.txt', '1977-Carter.txt', '1981-Reagan.txt', '1985-Reagan.txt', '1989-Bush.txt', '1993-Clinton.txt', '1997-Clinton.txt', '2001-Bush.txt', '2005-Bush.txt', '2009-Obama.txt']\n",
      "------------------------------------------------------------------\n",
      "['1789', '1793', '1797', '1801', '1805', '1809', '1813', '1817', '1821', '1825', '1829', '1833', '1837', '1841', '1845', '1849', '1853', '1857', '1861', '1865', '1869', '1873', '1877', '1881', '1885', '1889', '1893', '1897', '1901', '1905', '1909', '1913', '1917', '1921', '1925', '1929', '1933', '1937', '1941', '1945', '1949', '1953', '1957', '1961', '1965', '1969', '1973', '1977', '1981', '1985', '1989', '1993', '1997', '2001', '2005', '2009']\n"
     ]
    }
   ],
   "source": [
    "from nltk.corpus import inaugural\n",
    "print(inaugural.fileids())\n",
    "line()\n",
    "address_years = [fileid[:4] for fileid in inaugural.fileids()] # Extracts year from flat file name\n",
    "print(list(address_years))"
   ]
  },
  {
   "cell_type": "markdown",
   "metadata": {},
   "source": [
    "This lends itself well to visualizing the frequency of usage of a particular word over time"
   ]
  },
  {
   "cell_type": "code",
   "execution_count": 13,
   "metadata": {
    "collapsed": false
   },
   "outputs": [
    {
     "data": {
      "image/png": "[encoded data removed]",
      "text/plain": [
       "<matplotlib.figure.Figure at 0x17e1b2667b8>"
      ]
     },
     "metadata": {},
     "output_type": "display_data"
    }
   ],
   "source": [
    "cfd_inaug = nltk.ConditionalFreqDist(\n",
    "                (target, fileid[:4])\n",
    "                 for fileid in inaugural.fileids()\n",
    "                 for w in inaugural.words(fileid)\n",
    "                 for target in ['business', 'individual']\n",
    "                 if w.lower().startswith(target))\n",
    "cfd_inaug.plot()"
   ]
  },
  {
   "cell_type": "markdown",
   "metadata": {},
   "source": [
    "## _Annotated Text Corpora_\n",
    "\n",
    "Many text corpora contain linguistic annotations, representing POS tags, named entities, syntactic structures, semantic roles, and so forth\n",
    "* Much of which are freely available directly through NLTK, including the below:\n",
    "\n",
    "|Corpus | Compiler | Contents |\n",
    "|-----|-----|-----|\n",
    "|Brown Corpus | Francis, Kucera | 15 genres, 1.15M words, tagged, categorized |\n",
    "|CESS Treebanks | CLiC-UB | 1M words, tagged and parsed (Catalan, Spanish) |\n",
    "|Chat-80 Data Files | Pereira & Warren | World Geographic Database |\n",
    "|CMU Pronouncing Dictionary | CMU | 127k entries |\n",
    "|CoNLL 2000 Chunking Data | CoNLL | 270k words, tagged and chunked |\n",
    "|CoNLL 2002 Named Entity | CoNLL | 700k words, pos- and named-entity-tagged (Dutch, Spanish) |\n",
    "|CoNLL 2007 Dependency Treebanks (sel) | CoNLL | 150k words, dependency parsed (Basque, Catalan) |\n",
    "|Dependency Treebank | Narad | Dependency parsed version of Penn Treebank sample |\n",
    "|FrameNet | Fillmore, Baker et al | 10k word senses, 170k manually annotated sentences |\n",
    "|Floresta Treebank | Diana Santos et al | 9k sentences, tagged and parsed (Portuguese) |\n",
    "|Gazetteer Lists | Various | Lists of cities and countries |\n",
    "|Genesis Corpus | Misc web sources | 6 texts, 200k words, 6 languages |\n",
    "|Gutenberg (selections) | Hart, Newby, et al | 18 texts, 2M words |\n",
    "|Inaugural Address Corpus | CSpan | US Presidential Inaugural Addresses (1789-present) |\n",
    "|Indian POS-Tagged Corpus | Kumaran et al | 60k words, tagged (Bangla, Hindi, Marathi, Telugu) |\n",
    "|MacMorpho Corpus | NILC, USP, Brazil | 1M words, tagged (Brazilian Portuguese) |\n",
    "|Movie Reviews | Pang, Lee | 2k movie reviews with sentiment polarity classification |\n",
    "|Names Corpus | Kantrowitz, Ross | 8k male and female names |\n",
    "|NIST 1999 Info Extr (selections) | Garofolo | 63k words, newswire and named-entity SGML markup |\n",
    "|Nombank | Meyers | 115k propositions, 1400 noun frames |\n",
    "|NPS Chat Corpus | Forsyth, Martell | 10k IM chat posts, POS-tagged and dialogue-act tagged |\n",
    "|Open Multilingual WordNet | Bond et al | 15 languages, aligned to English WordNet |\n",
    "|PP Attachment Corpus | Ratnaparkhi | 28k prepositional phrases, tagged as noun or verb modifiers |\n",
    "|Proposition Bank | Palmer | 113k propositions, 3300 verb frames |\n",
    "|Question Classification | Li, Roth | 6k questions, categorized |\n",
    "|Reuters Corpus | Reuters | 1.3M words, 10k news documents, categorized |\n",
    "|Roget's Thesaurus | Project Gutenberg | 200k words, formatted text |\n",
    "|RTE Textual Entailment | Dagan et al | 8k sentence pairs, categorized |\n",
    "|SEMCOR | Rus, Mihalcea | 880k words, part-of-speech and sense tagged |\n",
    "|Senseval 2 Corpus | Pedersen | 600k words, part-of-speech and sense tagged |\n",
    "|SentiWordNet | Esuli, Sebastiani | sentiment scores for 145k WordNet synonym sets |\n",
    "|Shakespeare texts (selections) | Bosak | 8 books in XML format |\n",
    "|State of the Union Corpus | CSPAN | 485k words, formatted text |\n",
    "|Stopwords Corpus | Porter et al | 2,400 stopwords for 11 languages |\n",
    "|Swadesh Corpus | Wiktionary | comparative wordlists in 24 languages |\n",
    "|Switchboard Corpus (selections) | LDC | 36 phonecalls, transcribed, parsed |\n",
    "|Univ Decl of Human Rights | United Nations | 480k words, 300+ languages |\n",
    "|Penn Treebank (selections) | LDC | 40k words, tagged and parsed |\n",
    "|TIMIT Corpus (selections) | NIST/LDC | audio files and transcripts for 16 speakers |\n",
    "|VerbNet 2.1 | Palmer et al | 5k verbs, hierarchically organized, linked to WordNet |\n",
    "|Wordlist Corpus | OpenOffice.org et al | 960k words and 20k affixes for 8 languages |\n",
    "|WordNet 3.0 (English) | Miller, Fellbaum | 145k synonym sets |\n",
    "\n",
    "\n",
    "## _Corpora in Other Languages_\n",
    "\n",
    "NLTK comes with corpora for many languages, though in some cases they must be manipulated with Python before use\n",
    "* Unfortunately many languages don't have a lot of substantial corpora at this time"
   ]
  },
  {
   "cell_type": "code",
   "execution_count": 14,
   "metadata": {
    "collapsed": false
   },
   "outputs": [
    {
     "name": "stdout",
     "output_type": "stream",
     "text": [
      "['El', 'grupo', 'estatal', 'Electricité_de_France', ...]\n",
      "------------------------------------------------------------------\n",
      "['Um', 'revivalismo', 'refrescante', 'O', '7_e_Meio', ...]\n",
      "------------------------------------------------------------------\n",
      "['पूर्ण', 'प्रतिबंध', 'हटाओ', ':', 'इराक', 'संयुक्त', ...]\n",
      "------------------------------------------------------------------\n",
      "['Abkhaz-Cyrillic+Abkh', 'Abkhaz-UTF8', 'Achehnese-Latin1', 'Achuar-Shiwiar-Latin1', 'Adja-UTF8', 'Afaan_Oromo_Oromiffa-Latin1', 'Afrikaans-Latin1', 'Aguaruna-Latin1', 'Akuapem_Twi-UTF8', 'Albanian_Shqip-Latin1', 'Amahuaca', 'Amahuaca-Latin1', 'Amarakaeri-Latin1', 'Amuesha-Yanesha-UTF8', 'Arabela-Latin1', 'Arabic_Alarabia-Arabic', 'Asante-UTF8', 'Ashaninca-Latin1', 'Asheninca-Latin1', 'Asturian_Bable-Latin1', 'Aymara-Latin1', 'Balinese-Latin1', 'Bambara-UTF8', 'Baoule-UTF8'] ...\n",
      "------------------------------------------------------------------\n",
      "['Saben', 'umat', 'manungsa', 'lair', 'kanthi', 'hak', ...]\n"
     ]
    }
   ],
   "source": [
    "print(nltk.corpus.cess_esp.words())\n",
    "line()\n",
    "print(nltk.corpus.floresta.words())\n",
    "line()\n",
    "print(nltk.corpus.indian.words('hindi.pos'))\n",
    "line()\n",
    "print(nltk.corpus.udhr.fileids()[:24], '...')\n",
    "line()\n",
    "print(nltk.corpus.udhr.words('Javanese-Latin1')[11:])"
   ]
  },
  {
   "cell_type": "markdown",
   "metadata": {},
   "source": [
    "```udhr``` contains the Universal Declaration of Human Rights in over 300 languages"
   ]
  },
  {
   "cell_type": "code",
   "execution_count": 15,
   "metadata": {
    "collapsed": false
   },
   "outputs": [
    {
     "data": {
      "image/png": "[encoded data removed]",
      "text/plain": [
       "<matplotlib.figure.Figure at 0x17e1b74a550>"
      ]
     },
     "metadata": {},
     "output_type": "display_data"
    }
   ],
   "source": [
    "from nltk.corpus import udhr\n",
    "langs = ['Chickasaw', 'English', 'German_Deutsch',\n",
    "         'Greenlandic_Inuktikut', 'Hungarian_Magyar', 'Ibibio_Efik']\n",
    "cfd_langs = nltk.ConditionalFreqDist(\n",
    "                 (lang, len(word))\n",
    "            for lang in langs\n",
    "            for word in udhr.words(lang + '-Latin1'))\n",
    "cfd_langs.plot(cumulative=True)"
   ]
  },
  {
   "cell_type": "markdown",
   "metadata": {},
   "source": [
    "## _Text Corpus Structure_\n",
    "\n",
    "![TextCorpusStructure](http://whitneyontheweb.com/images/text-corpus-structure.png \"Text Corpus Structure\")\n",
    "\n",
    "|Example | Description | \n",
    "|-----|-----|-----|\n",
    "|```fileids()``` | the files of the corpus | \n",
    "|```fileids([categories])``` | the files of the corpus corresponding to these categories | \n",
    "|```categories()``` | the categories of the corpus | \n",
    "|```categories([fileids])``` | the categories of the corpus corresponding to these files | \n",
    "|```raw()``` | the raw content of the corpus | \n",
    "|```raw(fileids=[f1,f2,f3])``` | the raw content of the specified files | \n",
    "|```raw(categories=[c1,c2])``` | the raw content of the specified categories | \n",
    "|```words()``` | the words of the whole corpus | \n",
    "|```words(fileids=[f1,f2,f3])``` | the words of the specified fileids | \n",
    "|```words(categories=[c1,c2])``` | the words of the specified categories | \n",
    "|```sents()``` | the sentences of the whole corpus | \n",
    "|```sents(fileids=[f1,f2,f3])``` | the sentences of the specified fileids | \n",
    "|```sents(categories=[c1,c2])``` | the sentences of the specified categories | \n",
    "|```abspath(fileid)``` | the location of the given file on disk | \n",
    "|```encoding(fileid)``` | the encoding of the file (if known) | \n",
    "|```open(fileid)``` | open a stream for reading the given corpus file | \n",
    "|```root``` | if the path to the root of locally installed corpus | \n",
    "|```readme()``` | the contents of the README file of the corpus | \n",
    "\n"
   ]
  },
  {
   "cell_type": "markdown",
   "metadata": {},
   "source": [
    "## _Loading a Custom Corpus_\n",
    "\n",
    "Individual corpora can easily be worked on in Python with the help of NLTK's ```PlaintextCorpusReader```"
   ]
  },
  {
   "cell_type": "code",
   "execution_count": 16,
   "metadata": {
    "collapsed": false
   },
   "outputs": [
    {
     "name": "stdout",
     "output_type": "stream",
     "text": [
      "['Aggron', 'Azumarill', 'Beautifly', 'Bisharp', 'Bronzor', 'Chatot', 'Dedenne', 'Delibird', 'Drowzee', 'Elgyem', 'Farfetch', 'Garchomp', 'Gastrodon', 'GiratinaAltered', 'Grass', 'Gulpin', 'GyaradosMega', 'Ivysaur', 'Klink', 'Kyogre', 'Legendary', 'Marill', 'MeowsticMale', 'Metagross', 'Metang', 'Monferno', 'Mothim', 'Mr', 'Munna', 'Nidorina', 'Number', 'Omastar', 'Phanpy', 'Regice', 'Rhyhorn', 'Scizor', 'Seadra', 'Sentret', 'Slakoth', 'Smeargle', 'Snorlax', 'Solrock', 'Staryu', 'SteelixMega', 'Venomoth'] ...\n"
     ]
    }
   ],
   "source": [
    "from nltk.corpus import PlaintextCorpusReader\n",
    "corpus_root = '/data'\n",
    "wordlists = PlaintextCorpusReader(corpus_root, '.*')\n",
    "wordlists.fileids()\n",
    "print([w for w in sorted(list(set(wordlists.words('Pokemon.csv')))[:100]) if w.isalpha()], \"...\")"
   ]
  },
  {
   "cell_type": "markdown",
   "metadata": {},
   "source": [
    "## _Conditional Frequency Distributions_\n",
    "\n",
    "A **conditional frequency distribution** is a collection of frequency distributions, each one for a different \"condition\"\n",
    "\n",
    "* Frequency distributions count observable events, such as the appearance of words in a text\n",
    " - A conditional frequency distribution needs to pair each event with a condition\n",
    " - The condition will often be the category of the text"
   ]
  },
  {
   "cell_type": "code",
   "execution_count": 17,
   "metadata": {
    "collapsed": false
   },
   "outputs": [
    {
     "name": "stdout",
     "output_type": "stream",
     "text": [
      "170576\n",
      "[('news', 'The'), ('news', 'Fulton'), ('news', 'County'), ('news', 'Grand')]\n",
      "[('romance', 'afraid'), ('romance', 'not'), ('romance', \"''\"), ('romance', '.')]\n",
      "------------------------------------------------------------------\n",
      "<ConditionalFreqDist with 2 conditions>\n",
      "['news', 'romance']\n",
      "------------------------------------------------------------------\n",
      "['rippled', 'remove', 'swooping', 'Bancroft', 'this', 'I', 'devil', 'hell', 'featured', 'Number', 'mirror', 'deciding', 'concluded', 'Henh', 'annoyance', 'had', 'Goose', 'engine', 'millions', 'confused', 'Yes', 'Toward', 'piling', 'coal']\n"
     ]
    }
   ],
   "source": [
    "cfdGenreWord = nltk.ConditionalFreqDist(\n",
    "                   (genre, word)\n",
    "                    for genre in brown.categories()\n",
    "                    for word in brown.words(categories=genre))\n",
    "\n",
    "genre_word = [(genre, word)\n",
    "               for genre in ['news', 'romance']\n",
    "               for word in brown.words(categories=genre)]\n",
    "\n",
    "print(len(genre_word))\n",
    "print(genre_word[:4])\n",
    "print(genre_word[-4:])\n",
    "line()\n",
    "cfdGenreWord = nltk.ConditionalFreqDist(genre_word)\n",
    "print(cfdGenreWord)\n",
    "print(cfdGenreWord.conditions())\n",
    "line()\n",
    "print(list(set([w for w in cfdGenreWord['romance'] if w.isalpha()]))[:24])"
   ]
  },
  {
   "cell_type": "markdown",
   "metadata": {},
   "source": [
    "* Conditional Frequency Distributions are also extremely useful for plotting and tabulating distributions\n",
    "* The ```generate_model()``` function contains a simple loop to generate text based on a seed word"
   ]
  },
  {
   "cell_type": "code",
   "execution_count": 18,
   "metadata": {
    "collapsed": false
   },
   "outputs": [
    {
     "name": "stdout",
     "output_type": "stream",
     "text": [
      "[('1993', 33), ('1997', 31), ('2005', 30), ('1921', 24), ('1973', 23), ('1985', 21), ('2001', 20), ('1981', 16), ('2009', 15), ('1909', 12), ('1929', 12), ('1941', 12), ('1925', 11), ('1989', 11), ('1965', 10), ('1969', 10), ('1893', 9), ('1897', 9), ('1797', 8), ('1841', 7), ('1901', 7), ('1957', 7), ('1961', 7), ('1889', 6), ('1953', 6), ('1937', 5), ('1977', 5), ('1885', 4), ('1917', 4), ('1949', 4), ('1857', 3), ('1789', 2), ('1821', 2), ('1833', 2), ('1837', 2), ('1849', 2), ('1853', 2), ('1861', 2), ('1881', 2), ('1933', 2), ('1945', 2), ('1793', 1), ('1805', 1), ('1813', 1), ('1817', 1), ('1865', 1), ('1877', 1)]\n"
     ]
    },
    {
     "data": {
      "image/png": "[encoded data removed]",
      "text/plain": [
       "<matplotlib.figure.Figure at 0x17e1b733828>"
      ]
     },
     "metadata": {},
     "output_type": "display_data"
    }
   ],
   "source": [
    "cfdInaugural = nltk.ConditionalFreqDist(\n",
    "                   (target, fileid[:4]) \n",
    "                   for fileid in inaugural.fileids()\n",
    "                   for w in inaugural.words(fileid)\n",
    "                   for target in ['america', 'citizen']\n",
    "               if w.lower().startswith(target))\n",
    "print(cfdInaugural['america'].most_common()) #Shows frequency of the word 'america' in each inaugural address\n",
    "cfdInaugural.plot(cumulative=True)"
   ]
  },
  {
   "cell_type": "markdown",
   "metadata": {},
   "source": [
    "## _Generating Random Text with Bigrams_\n",
    "\n",
    "Conditional frequency distribution can be used to create a table of bigrams (word pairs)"
   ]
  },
  {
   "cell_type": "code",
   "execution_count": 19,
   "metadata": {
    "collapsed": false
   },
   "outputs": [
    {
     "name": "stdout",
     "output_type": "stream",
     "text": [
      "------------------------------------------------------------------\n",
      "<FreqDist with 6 samples and 16 outcomes>\n",
      "------------------------------------------------------------------\n",
      "living creature that he said , and the land of the land of the land "
     ]
    }
   ],
   "source": [
    "def generate_model(cfdist, word, num=15):\n",
    "    for i in range(num):\n",
    "        print(word, end=' ')\n",
    "        word = cfdist[word].max()\n",
    "(line)\n",
    "sent = ['In', 'the', 'beginning', 'God', 'created'\n",
    "      , 'the', 'heaven', 'and', 'the', 'earth', '.']\n",
    "list(nltk.bigrams(sent))\n",
    "line()\n",
    "text = nltk.corpus.genesis.words('english-kjv.txt')\n",
    "bigrams = nltk.bigrams(text)\n",
    "cfd = nltk.ConditionalFreqDist(bigrams)\n",
    "\n",
    "print(cfd['living'])\n",
    "line()\n",
    "generate_model(cfd, 'living')"
   ]
  },
  {
   "cell_type": "markdown",
   "metadata": {},
   "source": [
    "## _Conditional Frequency Distributions Function Overview_\n",
    "\n",
    "NLTK's Conditional Frequency Distributions: commonly-used methods and idioms for defining, accessing, and visualizing a conditional frequency distribution of counters:\n",
    "\n",
    "|```Example``` | Description | \n",
    "|-----|-----|-----|\n",
    "|```cfdist = ConditionalFreqDist(pairs)``` | create a conditional frequency distribution from a list of pairs | \n",
    "|```cfdist.conditions()``` | the conditions | \n",
    "|```cfdist[condition]``` | the frequency distribution for this condition | \n",
    "|```cfdist[condition][sample]``` | frequency for the given sample for this condition | \n",
    "|```cfdist.tabulate()``` | tabulate the conditional frequency distribution | \n",
    "|```cfdist.tabulate(samples, conditions)``` | tabulation limited to the specified samples and conditions | \n",
    "|```cfdist.plot()``` | graphical plot of the conditional frequency distribution | \n",
    "|```cfdist.plot(samples, conditions)``` | graphical plot limited to the specified samples and conditions | \n",
    "|```cfdist1 < cfdist2``` | test if samples in cfdist1 occur less frequently than in cfdist2 | \n",
    "\n",
    "## _Identifying Plural Forms_\n",
    "\n",
    "Though it doesn't work for every word, plural forms of words can be (mostly) easily identified with a simple custom function"
   ]
  },
  {
   "cell_type": "code",
   "execution_count": 20,
   "metadata": {
    "collapsed": false
   },
   "outputs": [
    {
     "name": "stdout",
     "output_type": "stream",
     "text": [
      "Humen\n",
      "Mouses\n",
      "Sandwiches\n"
     ]
    }
   ],
   "source": [
    "def plural(word):\n",
    "    if word.endswith('y'):\n",
    "        return word[:-1] + 'ies'\n",
    "    elif word[-1] in 'sx' or word[-2:] in ['sh', 'ch']:\n",
    "        return word + 'es'\n",
    "    elif word.endswith('an'):\n",
    "        return word[:-2] + 'en'\n",
    "    else:\n",
    "        return word + 's'\n",
    "\n",
    "print(plural('Human'))     #Not correct\n",
    "print(plural('Mouse'))     #Not correct\n",
    "print(plural('Sandwich'))  #Correct"
   ]
  },
  {
   "cell_type": "markdown",
   "metadata": {},
   "source": [
    "## _Lexical Resources_\n",
    "\n",
    "A lexicon, or lexical resource, is a collection of words and/or phrases along with associated information such as part of speech and sense definitions\n",
    "\n",
    "* Usually created and enriched with the help of texts\n",
    " - A **lexical entry** consists of a **headword** (also known as a **lemma**) along with additional information such as the part of speech and the sense definition\n",
    " - Two distinct words having the same spelling are called **homonyms**\n",
    " \n",
    "## _Wordlist Corpora_\n",
    " \n",
    "Some corpora are simply collections of words in a list, such as the Words Corpus used by Unix spellcheckers.\n",
    " \n",
    "* Such corpora can be used to identify unusual or mis-spelt words in other corpora\n"
   ]
  },
  {
   "cell_type": "code",
   "execution_count": 21,
   "metadata": {
    "collapsed": false
   },
   "outputs": [
    {
     "name": "stdout",
     "output_type": "stream",
     "text": [
      "['abbeyland', 'abhorred', 'abilities', 'abounded', 'abridgement', 'abused', 'abuses', 'accents', 'accepting', 'accommodations', 'accompanied', 'accounted', 'accounts', 'accustomary', 'aches', 'acknowledging', 'acknowledgment', 'acknowledgments', 'acquaintances', 'acquiesced', 'acquitted', 'acquitting', 'acted', 'actions'] ...\n"
     ]
    }
   ],
   "source": [
    "def unusual_words(text):\n",
    "    text_vocab = set(w.lower() for w in text if w.isalpha())\n",
    "    english_vocab = set(w.lower() for w in nltk.corpus.words.words())\n",
    "    unusual = text_vocab - english_vocab\n",
    "    return sorted(unusual)\n",
    "\n",
    "print(list(unusual_words(nltk.corpus.gutenberg.words('austen-sense.txt')))[:24], \"...\")"
   ]
  },
  {
   "cell_type": "markdown",
   "metadata": {
    "collapsed": true
   },
   "source": [
    "Another useful corpus keeps a list of **stopwords**, which are frequently occuring, such as *the*, *to*, and *also*, so they can be easiliy filtered out."
   ]
  },
  {
   "cell_type": "code",
   "execution_count": 22,
   "metadata": {
    "collapsed": false
   },
   "outputs": [
    {
     "name": "stdout",
     "output_type": "stream",
     "text": [
      "['i', 'me', 'my', 'myself', 'we', 'our', 'ours', 'ourselves', 'you', \"you're\", \"you've\", \"you'll\", \"you'd\", 'your', 'yours', 'yourself', 'yourselves', 'he', 'him', 'his', 'himself', 'she', \"she's\", 'her', 'hers', 'herself', 'it', \"it's\", 'its', 'itself', 'they', 'them', 'their', 'theirs', 'themselves', 'what', 'which', 'who', 'whom', 'this', 'that', \"that'll\", 'these', 'those', 'am', 'is', 'are', 'was', 'were', 'be', 'been', 'being', 'have', 'has', 'had', 'having', 'do', 'does', 'did', 'doing', 'a', 'an', 'the', 'and', 'but', 'if', 'or', 'because', 'as', 'until', 'while', 'of', 'at', 'by', 'for', 'with', 'about', 'against', 'between', 'into', 'through', 'during', 'before', 'after', 'above', 'below', 'to', 'from', 'up', 'down', 'in', 'out', 'on', 'off', 'over', 'under', 'again', 'further', 'then', 'once', 'here', 'there', 'when', 'where', 'why', 'how', 'all', 'any', 'both', 'each', 'few', 'more', 'most', 'other', 'some', 'such', 'no', 'nor', 'not', 'only', 'own', 'same', 'so', 'than', 'too', 'very', 's', 't', 'can', 'will', 'just', 'don', \"don't\", 'should', \"should've\", 'now', 'd', 'll', 'm', 'o', 're', 've', 'y', 'ain', 'aren', \"aren't\", 'couldn', \"couldn't\", 'didn', \"didn't\", 'doesn', \"doesn't\", 'hadn', \"hadn't\", 'hasn', \"hasn't\", 'haven', \"haven't\", 'isn', \"isn't\", 'ma', 'mightn', \"mightn't\", 'mustn', \"mustn't\", 'needn', \"needn't\", 'shan', \"shan't\", 'shouldn', \"shouldn't\", 'wasn', \"wasn't\", 'weren', \"weren't\", 'won', \"won't\", 'wouldn', \"wouldn't\"]\n"
     ]
    }
   ],
   "source": [
    "from nltk.corpus import stopwords\n",
    "print(stopwords.words('english'))"
   ]
  },
  {
   "cell_type": "markdown",
   "metadata": {},
   "source": [
    "We can combine corpora here, and use a lexical resource to filter the content of a text corpus, or solve word puzzles."
   ]
  },
  {
   "cell_type": "code",
   "execution_count": 23,
   "metadata": {
    "collapsed": false
   },
   "outputs": [
    {
     "data": {
      "text/plain": [
       "0.735240435097661"
      ]
     },
     "execution_count": 23,
     "metadata": {},
     "output_type": "execute_result"
    }
   ],
   "source": [
    "def content_fraction(text):\n",
    "     stopwords = nltk.corpus.stopwords.words('english')\n",
    "     content = [w for w in text if w.lower() not in stopwords]\n",
    "     return len(content) / len(text)\n",
    "    \n",
    "content_fraction(nltk.corpus.reuters.words()) #Fraction of text that are not stopwords"
   ]
  },
  {
   "cell_type": "code",
   "execution_count": 24,
   "metadata": {
    "collapsed": false
   },
   "outputs": [
    {
     "data": {
      "text/plain": [
       "['glover',\n",
       " 'gorlin',\n",
       " 'govern',\n",
       " 'grovel',\n",
       " 'ignore',\n",
       " 'involver',\n",
       " 'lienor',\n",
       " 'linger',\n",
       " 'longer',\n",
       " 'lovering',\n",
       " 'noiler',\n",
       " 'overling',\n",
       " 'region',\n",
       " 'renvoi',\n",
       " 'revolving',\n",
       " 'ringle',\n",
       " 'roving',\n",
       " 'violer',\n",
       " 'virole']"
      ]
     },
     "execution_count": 24,
     "metadata": {},
     "output_type": "execute_result"
    }
   ],
   "source": [
    "puzzle_letters = nltk.FreqDist('egivrvonl')\n",
    "obligatory = 'r'\n",
    "wordlist = nltk.corpus.words.words()\n",
    "[w for w in wordlist if len(w) >= 6\n",
    "                        and obligatory in w\n",
    "                        and nltk.FreqDist(w) <= puzzle_letters]"
   ]
  },
  {
   "cell_type": "markdown",
   "metadata": {},
   "source": [
    "The **Names** Corpus lists 8,000 names split into male and female."
   ]
  },
  {
   "cell_type": "code",
   "execution_count": 25,
   "metadata": {
    "collapsed": false
   },
   "outputs": [
    {
     "name": "stdout",
     "output_type": "stream",
     "text": [
      "['Abbey', 'Abbie', 'Abby', 'Addie', 'Adrian', 'Adrien', 'Ajay', 'Alex', 'Alexis', 'Alfie', 'Ali', 'Alix', 'Allie', 'Allyn', 'Andie', 'Andrea', 'Andy', 'Angel', 'Angie', 'Ariel', 'Ashley', 'Aubrey', 'Augustine', 'Austin', 'Averil', 'Barrie', 'Barry', 'Beau', 'Bennie', 'Benny', 'Bernie', 'Bert', 'Bertie', 'Bill', 'Billie', 'Billy', 'Blair', 'Blake', 'Bo', 'Bobbie', 'Bobby', 'Brandy', 'Brett', 'Britt', 'Brook', 'Brooke', 'Brooks', 'Bryn', 'Cal', 'Cam', 'Cammy', 'Carey', 'Carlie', 'Carlin', 'Carmine', 'Carroll', 'Cary', 'Caryl', 'Casey', 'Cass', 'Cat', 'Cecil', 'Chad', 'Chris', 'Chrissy', 'Christian', 'Christie', 'Christy', 'Clair', 'Claire', 'Clare', 'Claude', 'Clem', 'Clemmie', 'Cody', 'Connie', 'Constantine', 'Corey', 'Corrie', 'Cory', 'Courtney', 'Cris', 'Daffy', 'Dale', 'Dallas', 'Dana', 'Dani', 'Daniel', 'Dannie', 'Danny', 'Darby', 'Darcy', 'Darryl', 'Daryl', 'Deane', 'Del', 'Dell', 'Demetris', 'Dennie', 'Denny', 'Devin', 'Devon', 'Dion', 'Dionis', 'Dominique', 'Donnie', 'Donny', 'Dorian', 'Dory', 'Drew', 'Eddie', 'Eddy', 'Edie', 'Elisha', 'Emmy', 'Erin', 'Esme', 'Evelyn', 'Felice', 'Fran', 'Francis', 'Frank', 'Frankie', 'Franky', 'Fred', 'Freddie', 'Freddy', 'Gabriel', 'Gabriell', 'Gail', 'Gale', 'Gay', 'Gayle', 'Gene', 'George', 'Georgia', 'Georgie', 'Geri', 'Germaine', 'Gerri', 'Gerry', 'Gill', 'Ginger', 'Glen', 'Glenn', 'Grace', 'Gretchen', 'Gus', 'Haleigh', 'Haley', 'Hannibal', 'Harley', 'Hazel', 'Heath', 'Henrie', 'Hilary', 'Hillary', 'Holly', 'Ike', 'Ikey', 'Ira', 'Isa', 'Isador', 'Isadore', 'Jackie', 'Jaime', 'Jamie', 'Jan', 'Jean', 'Jere', 'Jermaine', 'Jerrie', 'Jerry', 'Jess', 'Jesse', 'Jessie', 'Jo', 'Jodi', 'Jodie', 'Jody', 'Joey', 'Jordan', 'Juanita', 'Jude', 'Judith', 'Judy', 'Julie', 'Justin', 'Karel', 'Kellen', 'Kelley', 'Kelly', 'Kelsey', 'Kerry', 'Kim', 'Kip', 'Kirby', 'Kit', 'Kris', 'Kyle', 'Lane', 'Lanny', 'Lauren', 'Laurie', 'Lee', 'Leigh', 'Leland', 'Lesley', 'Leslie', 'Lin', 'Lind', 'Lindsay', 'Lindsey', 'Lindy', 'Lonnie', 'Loren', 'Lorne', 'Lorrie', 'Lou', 'Luce', 'Lyn', 'Lynn', 'Maddie', 'Maddy', 'Marietta', 'Marion', 'Marlo', 'Martie', 'Marty', 'Mattie', 'Matty', 'Maurise', 'Max', 'Maxie', 'Mead', 'Meade', 'Mel', 'Meredith', 'Merle', 'Merrill', 'Merry', 'Meryl', 'Michal', 'Michel', 'Michele', 'Mickie', 'Micky', 'Millicent', 'Morgan', 'Morlee', 'Muffin', 'Nat', 'Nichole', 'Nickie', 'Nicky', 'Niki', 'Nikki', 'Noel', 'Ollie', 'Page', 'Paige', 'Pat', 'Patrice', 'Patsy', 'Pattie', 'Patty', 'Pen', 'Pennie', 'Penny', 'Perry', 'Phil', 'Pooh', 'Quentin', 'Quinn', 'Randi', 'Randie', 'Randy', 'Ray', 'Regan', 'Reggie', 'Rene', 'Rey', 'Ricki', 'Rickie', 'Ricky', 'Rikki', 'Robbie', 'Robin', 'Ronnie', 'Ronny', 'Rory', 'Ruby', 'Sal', 'Sam', 'Sammy', 'Sandy', 'Sascha', 'Sasha', 'Saundra', 'Sayre', 'Scotty', 'Sean', 'Shaine', 'Shane', 'Shannon', 'Shaun', 'Shawn', 'Shay', 'Shayne', 'Shea', 'Shelby', 'Shell', 'Shelley', 'Sibyl', 'Simone', 'Sonnie', 'Sonny', 'Stacy', 'Sunny', 'Sydney', 'Tabbie', 'Tabby', 'Tallie', 'Tally', 'Tammie', 'Tammy', 'Tate', 'Ted', 'Teddie', 'Teddy', 'Terri', 'Terry', 'Theo', 'Tim', 'Timmie', 'Timmy', 'Tobe', 'Tobie', 'Toby', 'Tommie', 'Tommy', 'Tony', 'Torey', 'Trace', 'Tracey', 'Tracie', 'Tracy', 'Val', 'Vale', 'Valentine', 'Van', 'Vin', 'Vinnie', 'Vinny', 'Virgie', 'Wallie', 'Wallis', 'Wally', 'Whitney', 'Willi', 'Willie', 'Willy', 'Winnie', 'Winny', 'Wynn']\n"
     ]
    },
    {
     "data": {
      "image/png": "[encoded data removed]",
      "text/plain": [
       "<matplotlib.figure.Figure at 0x17e1d6ea048>"
      ]
     },
     "metadata": {},
     "output_type": "display_data"
    }
   ],
   "source": [
    "names = nltk.corpus.names\n",
    "male_names = names.words('male.txt')\n",
    "female_names = names.words('female.txt')\n",
    "print([w for w in male_names if w in female_names]) # Gender Neutral Names\n",
    "\n",
    "cfd = nltk.ConditionalFreqDist( ## Last letter bu gender\n",
    "          (fileid, name[-1])\n",
    "          for fileid in names.fileids()\n",
    "          for name in names.words(fileid))\n",
    "cfd.plot()"
   ]
  },
  {
   "cell_type": "markdown",
   "metadata": {},
   "source": [
    "## _Pronunciation Dictionary_\n",
    "\n",
    "NLTK includes the CMU Pronouncing Dictionary for US English, which was designed for use by speech synthesizers\n",
    "\n",
    "* For each word, this lexicon provides a list of phonetic codes — distinct labels for each contrastive sound — known as **phones**\n",
    " - Phones contain digits to represent *primary stress (1)*, *secondary stress (2)*, and *no stress (0)*\n",
    "* These could be applied to many used, such as identifying words that rhyme."
   ]
  },
  {
   "cell_type": "code",
   "execution_count": 26,
   "metadata": {
    "collapsed": false
   },
   "outputs": [
    {
     "name": "stdout",
     "output_type": "stream",
     "text": [
      "('discolorations', ['D', 'IH0', 'S', 'K', 'AH2', 'L', 'ER0', 'EY1', 'SH', 'AH0', 'N', 'Z'])\n",
      "('discolored', ['D', 'IH0', 'S', 'K', 'AH1', 'L', 'ER0', 'D'])\n",
      "('discolors', ['D', 'IH0', 'S', 'K', 'AH1', 'L', 'ER0', 'Z'])\n",
      "('discombobulate', ['D', 'IH2', 'S', 'K', 'AH0', 'M', 'B', 'AO1', 'B', 'Y', 'UW0', 'L', 'EY0', 'T'])\n",
      "('discombobulated', ['D', 'IH2', 'S', 'K', 'AH0', 'M', 'B', 'AO1', 'B', 'Y', 'UW0', 'L', 'EY0', 'T', 'AH0', 'D'])\n",
      "('discombobulates', ['D', 'IH2', 'S', 'K', 'AH0', 'M', 'B', 'AO1', 'B', 'Y', 'UW0', 'L', 'EY0', 'T', 'S'])\n",
      "('discombobulating', ['D', 'IH2', 'S', 'K', 'AH0', 'M', 'B', 'AO1', 'B', 'Y', 'UW0', 'L', 'EY0', 'T', 'IH0', 'NG'])\n",
      "('discomfort', ['D', 'IH0', 'S', 'K', 'AH1', 'M', 'F', 'ER0', 'T'])\n",
      "------------------------------------------------------------------\n",
      "[\"atlantic's\", 'audiotronics', 'avionics', 'beatniks', 'calisthenics', 'centronics', 'chamonix', 'chetniks', \"clinic's\", 'clinics', 'conics', 'conics', 'cryogenics', 'cynics', 'diasonics', \"dominic's\", 'ebonics', 'electronics', \"electronics'\", \"endotronics'\", 'endotronics', 'enix', 'environics', 'ethnics', 'eugenics', 'fibronics', 'flextronics', 'harmonics', 'hispanics', 'histrionics', 'identics', 'ionics', 'kibbutzniks', 'lasersonics', 'lumonics', 'mannix', 'mechanics', \"mechanics'\", 'microelectronics', 'minix', 'minnix', 'mnemonics', 'mnemonics', 'molonicks', 'mullenix', 'mullenix', 'mullinix', 'mulnix', \"munich's\", 'nucleonics', 'onyx', 'organics', \"panic's\", 'panics', 'penix', 'pennix', 'personics', 'phenix', \"philharmonic's\", 'phoenix', 'phonics', 'photronics', 'pinnix', 'plantronics', 'pyrotechnics', 'refuseniks', \"resnick's\", 'respironics', 'sconnix', 'siliconix', 'skolniks', 'sonics', 'sputniks', 'technics', 'tectonics', 'tektronix', 'telectronics', 'telephonics', 'tonics', 'unix', \"vinick's\", \"vinnick's\", 'vitronics']\n"
     ]
    }
   ],
   "source": [
    "entries = nltk.corpus.cmudict.entries()\n",
    "for entry in entries[32371:32379]:\n",
    "    print(entry)\n",
    "line()\n",
    "syllable = ['N', 'IH0', 'K', 'S']\n",
    "print([word for word, pron in entries if pron[-4:] == syllable]) # words that sound like 'nicks'"
   ]
  },
  {
   "cell_type": "markdown",
   "metadata": {},
   "source": [
    "Conditional frequency distribution to help us find minimally-contrasting sets of words\n",
    "\n",
    "* Here we find all the p-words consisting of three sounds, and group them according to their first and last sounds\n",
    "* Dictionaries can also be accessed by looking up particular words, using key/value pairs"
   ]
  },
  {
   "cell_type": "code",
   "execution_count": 27,
   "metadata": {
    "collapsed": false
   },
   "outputs": [
    {
     "name": "stdout",
     "output_type": "stream",
     "text": [
      "P-CH patch pautsch peach perch petsch petsche piche piech pietsch pitch pit...\n",
      "P-K pac pack paek paik pak pake paque peak peake pech peck peek perc perk ...\n",
      "P-L pahl pail paille pal pale pall paul paule paull peal peale pearl pearl...\n",
      "P-N paign pain paine pan pane pawn payne peine pen penh penn pin pine pinn...\n",
      "P-P paap paape pap pape papp paup peep pep pip pipe pipp poop pop pope pop...\n",
      "P-R paar pair par pare parr pear peer pier poor poore por pore porr pour...\n",
      "P-S pace pass pasts peace pearse pease perce pers perse pesce piece piss p...\n",
      "P-T pait pat pate patt peart peat peet peete pert pet pete pett piet piett...\n",
      "P-UW1 peru peugh pew plew plue prew pru prue prugh pshew pugh...\n",
      "P-Z p's p.'s p.s pais paiz pao's pas pause paws pays paz peas pease pei's ...\n"
     ]
    }
   ],
   "source": [
    "p3 = [(pron[0]+'-'+pron[2], word)\n",
    "      for (word, pron) in entries\n",
    "      if pron[0] == 'P' and len(pron) == 3]\n",
    "\n",
    "cfd = nltk.ConditionalFreqDist(p3)\n",
    "for template in sorted(cfd.conditions()):\n",
    "    if len(cfd[template]) > 10:\n",
    "        words = sorted(cfd[template])\n",
    "        wordstring = ' '.join(words)\n",
    "        print(template, wordstring[:70] + \"...\")"
   ]
  },
  {
   "cell_type": "markdown",
   "metadata": {
    "collapsed": true
   },
   "source": [
    "## _Comparative Wordlists_\n",
    "\n",
    "Another example of a tabular lexicon is the comparative wordlist\n",
    "\n",
    "* NLTK includes so-called Swadesh wordlists, lists of about 200 common words in several languages\n",
    "* The languages are identified using an ISO 639 two-letter code.\n",
    "* These words can be compared across languages"
   ]
  },
  {
   "cell_type": "code",
   "execution_count": 49,
   "metadata": {
    "collapsed": false
   },
   "outputs": [
    {
     "name": "stdout",
     "output_type": "stream",
     "text": [
      "['be', 'bg', 'bs', 'ca', 'cs', 'cu', 'de', 'en', 'es', 'fr', 'hr', 'it', 'la', 'mk', 'nl', 'pl', 'pt', 'ro', 'ru', 'sk', 'sl', 'sr', 'sw', 'uk']\n",
      "------------------------------------------------------------------\n",
      "['I', 'you (singular), thou', 'he', 'we', 'you (plural)', 'they', 'this', 'that', 'here', 'there', 'who', 'what', 'where', 'when', 'how', 'not', 'all', 'many', 'some', 'few', 'other', 'one', 'two', 'three', 'four', 'five', 'big', 'long', 'wide', 'thick', 'heavy', 'small', 'short', 'narrow', 'thin', 'woman', 'man (adult male)', 'man (human being)', 'child', 'wife', 'husband', 'mother', 'father', 'animal', 'fish', 'bird', 'dog', 'louse', 'snake', 'worm', 'tree', 'forest', 'stick', 'fruit', 'seed', 'leaf', 'root', 'bark (from tree)', 'flower', 'grass', 'rope', 'skin', 'meat', 'blood', 'bone', 'fat (noun)', 'egg', 'horn', 'tail', 'feather', 'hair', 'head', 'ear', 'eye', 'nose', 'mouth', 'tooth', 'tongue', 'fingernail', 'foot', 'leg', 'knee', 'hand', 'wing', 'belly', 'guts', 'neck', 'back', 'breast', 'heart', 'liver', 'drink', 'eat', 'bite', 'suck', 'spit', 'vomit', 'blow', 'breathe', 'laugh', 'see', 'hear', 'know (a fact)', 'think', 'smell', 'fear', 'sleep', 'live', 'die', 'kill', 'fight', 'hunt', 'hit', 'cut', 'split', 'stab', 'scratch', 'dig', 'swim', 'fly (verb)', 'walk', 'come', 'lie', 'sit', 'stand', 'turn', 'fall', 'give', 'hold', 'squeeze', 'rub', 'wash', 'wipe', 'pull', 'push', 'throw', 'tie', 'sew', 'count', 'say', 'sing', 'play', 'float', 'flow', 'freeze', 'swell', 'sun', 'moon', 'star', 'water', 'rain', 'river', 'lake', 'sea', 'salt', 'stone', 'sand', 'dust', 'earth', 'cloud', 'fog', 'sky', 'wind', 'snow', 'ice', 'smoke', 'fire', 'ashes', 'burn', 'road', 'mountain', 'red', 'green', 'yellow', 'white', 'black', 'night', 'day', 'year', 'warm', 'cold', 'full', 'new', 'old', 'good', 'bad', 'rotten', 'dirty', 'straight', 'round', 'sharp', 'dull', 'smooth', 'wet', 'dry', 'correct', 'near', 'far', 'right', 'left', 'at', 'in', 'with', 'and', 'if', 'because', 'name']\n",
      "------------------------------------------------------------------\n",
      "bird\n",
      "bird\n",
      "bird\n",
      "bird is the word...\n",
      "------------------------------------------------------------------\n",
      "('walk', 'gehen', 'lopen, stappen', 'caminar', 'marcher', 'andar, caminhar, passear', 'gradi')\n",
      "('rub', 'reiben', 'wrijven', 'frotar', 'frotter', 'esfregar, friccionar', 'fricare')\n",
      "('rain', 'Regen', 'regen', 'lluvia', 'pluie', 'chuva', 'pluvia')\n",
      "('fog', 'Nebel', 'mist, nevel', 'niebla', 'brouillard', 'neblina, névoa, nevoeiro, bruma', 'caligo, nebula')\n"
     ]
    }
   ],
   "source": [
    "from nltk.corpus import swadesh\n",
    "print(swadesh.fileids())\n",
    "line()\n",
    "print(swadesh.words('en'))\n",
    "line()\n",
    "\n",
    "fr2en = swadesh.entries(['fr', 'en'])    # French-English\n",
    "de2en = swadesh.entries(['de', 'en'])    # German-English\n",
    "es2en = swadesh.entries(['es', 'en'])    # Spanish-English\n",
    "\n",
    "translate = dict(fr2en)\n",
    "print(translate['oiseau'])\n",
    "translate.update(dict(de2en))\n",
    "print(translate['Vogel'])\n",
    "translate.update(dict(es2en))\n",
    "print(translate['ave, pájaro'])\n",
    "print('bird is the word...')\n",
    "line()\n",
    "\n",
    "languages = ['en', 'de', 'nl', 'es', 'fr', 'pt', 'la']\n",
    "for i in [120, 130, 150, 160]:\n",
    "    print(swadesh.entries(languages)[i])"
   ]
  },
  {
   "cell_type": "markdown",
   "metadata": {
    "collapsed": true
   },
   "source": [
    "## _Toolbox/Shoebox_\n",
    "\n",
    "Replaces the field linguist's traditional shoebox full of file cards\n",
    "\n",
    "* Toolbox file consists of a collection of entries, where each entry is made up of one or more fields\n",
    "* Most fields are optional or repeatable, which means that this kind of lexical resource cannot be treated as a table or spreadsheet"
   ]
  },
  {
   "cell_type": "code",
   "execution_count": 55,
   "metadata": {
    "collapsed": false
   },
   "outputs": [
    {
     "data": {
      "text/plain": [
       "[('kaa',\n",
       "  [('ps', 'N'),\n",
       "   ('pt', 'MASC'),\n",
       "   ('cl', 'isi'),\n",
       "   ('ge', 'cooking banana'),\n",
       "   ('tkp', 'banana bilong kukim'),\n",
       "   ('pt', 'itoo'),\n",
       "   ('sf', 'FLORA'),\n",
       "   ('dt', '12/Aug/2005'),\n",
       "   ('ex', 'Taeavi iria kaa isi kovopaueva kaparapasia.'),\n",
       "   ('xp', 'Taeavi i bin planim gaden banana bilong kukim tasol long paia.'),\n",
       "   ('xe', 'Taeavi planted banana in order to cook it.')]),\n",
       " ('kaakaaro',\n",
       "  [('ps', 'N'),\n",
       "   ('pt', 'NT'),\n",
       "   ('ge', 'mixture'),\n",
       "   ('tkp', '???'),\n",
       "   ('eng', 'mixtures'),\n",
       "   ('eng', 'charm used to keep married men and women youthful and attractive'),\n",
       "   ('cmt',\n",
       "    'Check vowel length. Is it kaakaaro or kaakaro? Does lexeme have suffix, -aro or -ro?'),\n",
       "   ('dt', '20/Nov/2006'),\n",
       "   ('ex',\n",
       "    'Kaakaroto ira purapaiveira aue iava opita, voeao-pa airepa oraouirara, ra va aiopaive.'),\n",
       "   ('xp',\n",
       "    'Kokonas ol i save wokim long ol kain samting bilong ol nupela marit, bai ol i ken kaikai.'),\n",
       "   ('xe', 'Mixtures are made from coconut for newlyweds, who eat them.')])]"
      ]
     },
     "execution_count": 55,
     "metadata": {},
     "output_type": "execute_result"
    }
   ],
   "source": [
    "from nltk.corpus import toolbox\n",
    "list(toolbox.entries('rotokas.dic'))[2:4]"
   ]
  },
  {
   "cell_type": "markdown",
   "metadata": {},
   "source": [
    "## _WordNet_\n",
    "\n",
    "WordNet is a semantically-oriented dictionary of English, similar to a traditional thesaurus but with a richer structure. NLTK includes the English WordNet, with 155,287 words and 117,659 synonym sets\n",
    "\n",
    "    A. Benz is credited with the invention of the motorcar.\n",
    "\n",
    "    B. Benz is credited with the invention of the automobile."
   ]
  },
  {
   "cell_type": "code",
   "execution_count": 56,
   "metadata": {
    "collapsed": false
   },
   "outputs": [
    {
     "data": {
      "text/plain": [
       "[Synset('car.n.01')]"
      ]
     },
     "execution_count": 56,
     "metadata": {},
     "output_type": "execute_result"
    }
   ],
   "source": [
    "from nltk.corpus import wordnet as wn\n",
    "wn.synsets('motorcar')"
   ]
  },
  {
   "cell_type": "markdown",
   "metadata": {},
   "source": [
    "Motorcar has just one possible meaning and it is identified as car.n.01, the first noun sense of car. \n",
    "\n",
    "* The entity car.n.01 is called a **synset**, or \"synonym set\", a collection of synonymous words (or \"lemmas\")\n",
    " - Each word of a synset can have several meanings, e.g., car can also signify a train carriage, a gondola, or an elevator car"
   ]
  },
  {
   "cell_type": "code",
   "execution_count": 61,
   "metadata": {
    "collapsed": false
   },
   "outputs": [
    {
     "name": "stdout",
     "output_type": "stream",
     "text": [
      "['car', 'auto', 'automobile', 'machine', 'motorcar']\n",
      "automobile\n",
      "[Synset('car.n.01'), Synset('car.n.02'), Synset('car.n.03'), Synset('car.n.04'), Synset('cable_car.n.01')]\n",
      "------------------------------------------------------------------\n",
      "['car', 'auto', 'automobile', 'machine', 'motorcar']\n",
      "['car', 'railcar', 'railway_car', 'railroad_car']\n",
      "['car', 'gondola']\n",
      "['car', 'elevator_car']\n",
      "['cable_car', 'car']\n",
      "------------------------------------------------------------------\n",
      "[Lemma('car.n.01.car'), Lemma('car.n.02.car'), Lemma('car.n.03.car'), Lemma('car.n.04.car'), Lemma('cable_car.n.01.car')]\n"
     ]
    }
   ],
   "source": [
    "print(wn.synset('car.n.01').lemma_names())\n",
    "print(wn.lemma('car.n.01.automobile').name())\n",
    "print(wn.synsets('car'))\n",
    "line()\n",
    "for synset in wn.synsets('car'):\n",
    "    print(synset.lemma_names())\n",
    "line()\n",
    "print(wn.lemmas('car'))"
   ]
  },
  {
   "cell_type": "markdown",
   "metadata": {
    "collapsed": true
   },
   "source": [
    "WordNet synsets correspond to abstract concepts, and they don't always have corresponding words in English\n",
    "\n",
    "* These concepts are linked together in a hierarchy. Some concepts are very general, such as Entity, State, Event\n",
    " - These are called unique beginners or root synsets\n",
    " - Others, such as gas guzzler and hatchback, are much more specific\n",
    " - Concepts that are more specific are (immediate) **hyponyms**."
   ]
  },
  {
   "cell_type": "code",
   "execution_count": 64,
   "metadata": {
    "collapsed": false
   },
   "outputs": [
    {
     "name": "stdout",
     "output_type": "stream",
     "text": [
      "['Model_T', 'S.U.V.', 'SUV', 'Stanley_Steamer', 'ambulance', 'beach_waggon', 'beach_wagon', 'bus', 'cab', 'compact', 'compact_car', 'convertible', 'coupe', 'cruiser', 'electric', 'electric_automobile', 'electric_car', 'estate_car', 'gas_guzzler', 'hack', 'hardtop', 'hatchback', 'heap', 'horseless_carriage', 'hot-rod'] ...\n"
     ]
    }
   ],
   "source": [
    "motorcar = wn.synset('car.n.01')\n",
    "types_of_motorcar = motorcar.hyponyms()\n",
    "types_of_motorcar[0]\n",
    "print(list(sorted(lemma.name() for synset in types_of_motorcar for lemma in synset.lemmas()))[:25], \"...\")"
   ]
  },
  {
   "cell_type": "markdown",
   "metadata": {},
   "source": [
    "We can also navigate up the hierarchy by visiting **hypernyms**\n",
    "\n",
    "* Some words have multiple paths, because they can be classified in more than one way"
   ]
  },
  {
   "cell_type": "code",
   "execution_count": 66,
   "metadata": {
    "collapsed": false
   },
   "outputs": [
    {
     "name": "stdout",
     "output_type": "stream",
     "text": [
      "2\n",
      "['entity.n.01', 'physical_entity.n.01', 'object.n.01', 'whole.n.02', 'artifact.n.01', 'instrumentality.n.03', 'container.n.01', 'wheeled_vehicle.n.01', 'self-propelled_vehicle.n.01', 'motor_vehicle.n.01', 'car.n.01']\n",
      "------------------------------------------------------------------\n",
      "['entity.n.01', 'physical_entity.n.01', 'object.n.01', 'whole.n.02', 'artifact.n.01', 'instrumentality.n.03', 'conveyance.n.03', 'vehicle.n.01', 'wheeled_vehicle.n.01', 'self-propelled_vehicle.n.01', 'motor_vehicle.n.01', 'car.n.01']\n",
      "[Synset('entity.n.01')]\n"
     ]
    }
   ],
   "source": [
    "motorcar.hypernyms()\n",
    "paths = motorcar.hypernym_paths()\n",
    "print(len(paths))\n",
    "print([synset.name() for synset in paths[0]])\n",
    "line()\n",
    "print([synset.name() for synset in paths[1]])\n",
    "print(motorcar.root_hypernyms())"
   ]
  },
  {
   "cell_type": "markdown",
   "metadata": {},
   "source": [
    "### _More Lexical Relations_\n",
    "\n",
    "Hypernyms and hyponyms are called **lexical relations** because they relate one synset to another.\n",
    "\n",
    "* These two relations navigate up and down the \"is-a\" hierarchy\n",
    "* Another important way to navigate the WordNet network is from items to their components (**meronyms**) or to the things they are contained in (**holonyms**)\n",
    " - For example, the parts of a tree are its trunk, crown, and so on; the ```part_meronyms()```. \n",
    " - The substance a tree is made of includes heartwood and sapwood; the ```substance_meronyms()```. \n",
    " - A collection of trees forms a forest; the ```member_holonyms()```\n",
    "* There are also relationships between verbs.\n",
    " - For example, the act of walking involves the act of stepping, so walking **entails** stepping\n",
    "* Some lexical relationships hold between lemmas, e.g., **antonymy**:"
   ]
  },
  {
   "cell_type": "code",
   "execution_count": 74,
   "metadata": {
    "collapsed": false
   },
   "outputs": [
    {
     "name": "stdout",
     "output_type": "stream",
     "text": [
      "[Synset('burl.n.02'), Synset('crown.n.07'), Synset('limb.n.02'), Synset('stump.n.01'), Synset('trunk.n.01')]\n",
      "[Synset('heartwood.n.01'), Synset('sapwood.n.01')]\n",
      "[Synset('forest.n.01')]\n",
      "------------------------------------------------------------------\n",
      "batch.n.02: (often followed by `of') a large number or amount or extent\n",
      "mint.n.02: any north temperate plant of the genus Mentha with aromatic leaves and small mauve flowers\n",
      "mint.n.03: any member of the mint family of plants\n",
      "mint.n.04: the leaves of a mint plant used fresh or candied\n",
      "mint.n.05: a candy that is flavored with a mint oil\n",
      "mint.n.06: a plant where money is coined by authority of the government\n",
      "------------------------------------------------------------------\n",
      "[Synset('step.v.01')]\n",
      "[Synset('chew.v.01'), Synset('swallow.v.01')]\n",
      "[Synset('arouse.v.07'), Synset('disappoint.v.01')]\n",
      "------------------------------------------------------------------\n",
      "[Lemma('demand.n.02.demand')]\n",
      "[Lemma('linger.v.04.linger')]\n",
      "[Lemma('inclined.a.02.inclined'), Lemma('vertical.a.01.vertical')]\n",
      "[Lemma('legato.r.01.legato')]\n"
     ]
    }
   ],
   "source": [
    "print(wn.synset('tree.n.01').part_meronyms())\n",
    "print(wn.synset('tree.n.01').substance_meronyms())\n",
    "print(wn.synset('tree.n.01').member_holonyms())\n",
    "line()\n",
    "for synset in wn.synsets('mint', wn.NOUN):\n",
    "    print(synset.name() + ':', synset.definition())\n",
    "line()\n",
    "print(wn.synset('walk.v.01').entailments())\n",
    "print(wn.synset('eat.v.01').entailments())\n",
    "print(wn.synset('tease.v.03').entailments())\n",
    "line()\n",
    "print(wn.lemma('supply.n.02.supply').antonyms())\n",
    "print(wn.lemma('rush.v.01.rush').antonyms())\n",
    "print(wn.lemma('horizontal.a.01.horizontal').antonyms())\n",
    "print(wn.lemma('staccato.r.01.staccato').antonyms())"
   ]
  },
  {
   "cell_type": "markdown",
   "metadata": {},
   "source": [
    "## _Semantic Similarity_\n",
    "\n",
    "Given a particular synset, we can traverse the WordNet network to find synsets with related meanings. \n",
    "\n",
    "* Knowing which words are semantically related is useful for indexing a collection of texts, so that a search for a general term like vehicle will match documents containing specific terms like limousine"
   ]
  },
  {
   "cell_type": "code",
   "execution_count": 76,
   "metadata": {
    "collapsed": false
   },
   "outputs": [
    {
     "name": "stdout",
     "output_type": "stream",
     "text": [
      "[Synset('baleen_whale.n.01')]\n",
      "[Synset('whale.n.02')]\n",
      "[Synset('vertebrate.n.01')]\n",
      "[Synset('entity.n.01')]\n"
     ]
    }
   ],
   "source": [
    "right = wn.synset('right_whale.n.01')\n",
    "orca = wn.synset('orca.n.01')\n",
    "minke = wn.synset('minke_whale.n.01')\n",
    "tortoise = wn.synset('tortoise.n.01')\n",
    "novel = wn.synset('novel.n.01')\n",
    "print(right.lowest_common_hypernyms(minke))\n",
    "print(right.lowest_common_hypernyms(orca))\n",
    "print(right.lowest_common_hypernyms(tortoise))\n",
    "print(right.lowest_common_hypernyms(novel))"
   ]
  },
  {
   "cell_type": "markdown",
   "metadata": {},
   "source": [
    "We know that *whale* is very specific (and *baleen* whale even more so), while *vertebrate* is more general and *entity* is completely general\n",
    "\n",
    "* We can quantify this concept of generality by looking up the depth of each synset"
   ]
  },
  {
   "cell_type": "code",
   "execution_count": 77,
   "metadata": {
    "collapsed": false
   },
   "outputs": [
    {
     "name": "stdout",
     "output_type": "stream",
     "text": [
      "14\n",
      "13\n",
      "8\n",
      "0\n"
     ]
    }
   ],
   "source": [
    "print(wn.synset('baleen_whale.n.01').min_depth())\n",
    "print(wn.synset('whale.n.02').min_depth())\n",
    "print(wn.synset('vertebrate.n.01').min_depth())\n",
    "print(wn.synset('entity.n.01').min_depth())"
   ]
  }
 ],
 "metadata": {
  "kernelspec": {
   "display_name": "Python 3",
   "language": "python",
   "name": "python3"
  },
  "language_info": {
   "codemirror_mode": {
    "name": "ipython",
    "version": 3
   },
   "file_extension": ".py",
   "mimetype": "text/x-python",
   "name": "python",
   "nbconvert_exporter": "python",
   "pygments_lexer": "ipython3",
   "version": "3.6.0"
  }
 },
 "nbformat": 4,
 "nbformat_minor": 2
}
