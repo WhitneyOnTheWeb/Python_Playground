{
 "cells": [
  {
   "cell_type": "markdown",
   "metadata": {},
   "source": [
    "# NLTK for Python Test Bed\n",
    "## Chapter 2:  Text Corpora and Lexical Resources\n",
    "### Using examples from http://www.nltk.org\n",
    "##### Whitney King  (1/7/2018)"
   ]
  },
  {
   "cell_type": "code",
   "execution_count": 1,
   "metadata": {
    "collapsed": true
   },
   "outputs": [],
   "source": [
    "import nltk\n",
    "import pandas as pd\n",
    "#nltk.download()"
   ]
  },
  {
   "cell_type": "markdown",
   "metadata": {},
   "source": [
    "## _Project Gutenberg Corpora_\n",
    "\n",
    "Thousands of full texts of established literature, though it is important to consider these texts lack the informality of many conversations\n",
    "\n",
    "**Corpora** are large bodies of linguistic data (singular term is **corpus**)"
   ]
  },
  {
   "cell_type": "code",
   "execution_count": 41,
   "metadata": {
    "collapsed": false
   },
   "outputs": [
    {
     "data": {
      "text/plain": [
       "['austen-emma.txt',\n",
       " 'austen-persuasion.txt',\n",
       " 'austen-sense.txt',\n",
       " 'bible-kjv.txt',\n",
       " 'blake-poems.txt',\n",
       " 'bryant-stories.txt',\n",
       " 'burgess-busterbrown.txt',\n",
       " 'carroll-alice.txt',\n",
       " 'chesterton-ball.txt',\n",
       " 'chesterton-brown.txt',\n",
       " 'chesterton-thursday.txt',\n",
       " 'edgeworth-parents.txt',\n",
       " 'melville-moby_dick.txt',\n",
       " 'milton-paradise.txt',\n",
       " 'shakespeare-caesar.txt',\n",
       " 'shakespeare-hamlet.txt',\n",
       " 'shakespeare-macbeth.txt',\n",
       " 'whitman-leaves.txt']"
      ]
     },
     "execution_count": 41,
     "metadata": {},
     "output_type": "execute_result"
    }
   ],
   "source": [
    "#Import sample text used in NLTK corpora examples from Project Gutenberg Files\n",
    "from nltk.corpus import gutenberg\n",
    "gutenberg.fileids()"
   ]
  },
  {
   "cell_type": "code",
   "execution_count": 42,
   "metadata": {
    "collapsed": false
   },
   "outputs": [],
   "source": [
    "#Define custom functions\n",
    "\n",
    "def line():\n",
    "    print(\"------------------------------------------------------------------\")"
   ]
  },
  {
   "cell_type": "code",
   "execution_count": 43,
   "metadata": {
    "collapsed": false
   },
   "outputs": [
    {
     "name": "stdout",
     "output_type": "stream",
     "text": [
      "Total Words:  192427\n",
      "------------------------------------------------------------------\n",
      "Displaying 25 of 37 matches:\n",
      "er father , was sometimes taken by surprize at his being still able to pity ` \n",
      "hem do the other any good .\" \" You surprize me ! Emma must do Harriet good : a\n",
      "Knightley actually looked red with surprize and displeasure , as he stood up ,\n",
      "r . Elton , and found to his great surprize , that Mr . Elton was actually on \n",
      "d aid .\" Emma saw Mrs . Weston ' s surprize , and felt that it must be great ,\n",
      "father was quite taken up with the surprize of so sudden a journey , and his f\n",
      "y , in all the favouring warmth of surprize and conjecture . She was , moreove\n",
      "he appeared , to have her share of surprize , introduction , and pleasure . Th\n",
      "ir plans ; and it was an agreeable surprize to her , therefore , to perceive t\n",
      "talking aunt had taken me quite by surprize , it must have been the death of m\n",
      "f all the dialogue which ensued of surprize , and inquiry , and congratulation\n",
      " the present . They might chuse to surprize her .\" Mrs . Cole had many to agre\n",
      "the mode of it , the mystery , the surprize , is more like a young woman ' s s\n",
      " to her song took her agreeably by surprize -- a second , slightly but correct\n",
      "\" \" Oh ! no -- there is nothing to surprize one at all .-- A pretty fortune ; \n",
      "t to be considered . Emma ' s only surprize was that Jane Fairfax should accep\n",
      "of your admiration may take you by surprize some day or other .\" Mr . Knightle\n",
      "ation for her will ever take me by surprize .-- I never had a thought of her i\n",
      " expected by the best judges , for surprize -- but there was great joy . Mr . \n",
      " sound of at first , without great surprize . \" So unreasonably early !\" she w\n",
      "d Frank Churchill , with a look of surprize and displeasure .-- \" That is easy\n",
      "; and Emma could imagine with what surprize and mortification she must be retu\n",
      "tled that Jane should go . Quite a surprize to me ! I had not the least idea !\n",
      " . It is impossible to express our surprize . He came to speak to his father o\n",
      "g engaged !\" Emma even jumped with surprize ;-- and , horror - struck , exclai\n"
     ]
    }
   ],
   "source": [
    "emma = gutenberg.words('austen-emma.txt')\n",
    "emma_text = nltk.Text(emma)\n",
    "print('Total Words: ', len(emma))\n",
    "line()\n",
    "emma_text.concordance('surprize')"
   ]
  },
  {
   "cell_type": "markdown",
   "metadata": {},
   "source": [
    "A function can be used to display descriptive statistics about each of the corpora\n",
    "* The ```raw()``` function returns the contents of the file without any linguistic processing"
   ]
  },
  {
   "cell_type": "code",
   "execution_count": 34,
   "metadata": {
    "collapsed": false
   },
   "outputs": [
    {
     "name": "stdout",
     "output_type": "stream",
     "text": [
      "c w  sent   file\n",
      "5 25 3701 austen-emma.txt\n",
      "5 26 1852 austen-persuasion.txt\n",
      "5 28 2622 austen-sense.txt\n",
      "4 34 20213 bible-kjv.txt\n",
      "5 19 178 blake-poems.txt\n",
      "4 19 1134 bryant-stories.txt\n",
      "4 18 387 burgess-busterbrown.txt\n",
      "4 20 726 carroll-alice.txt\n",
      "5 20 1516 chesterton-ball.txt\n",
      "5 23 1831 chesterton-brown.txt\n",
      "5 18 1357 chesterton-thursday.txt\n",
      "4 21 3901 edgeworth-parents.txt\n",
      "5 26 4657 melville-moby_dick.txt\n",
      "5 52 1793 milton-paradise.txt\n",
      "4 12 538 shakespeare-caesar.txt\n",
      "4 12 849 shakespeare-hamlet.txt\n",
      "4 12 514 shakespeare-macbeth.txt\n",
      "5 36 2922 whitman-leaves.txt\n"
     ]
    }
   ],
   "source": [
    "print(\"c w  sent   file\")\n",
    "for fid in gutenberg.fileids():\n",
    "    num_chars = len(gutenberg.raw(fid))\n",
    "    num_words = len(gutenberg.words(fid))\n",
    "    num_sents = len(gutenberg.sents(fid))\n",
    "    num_vocab = len(set(w.lower() for w in gutenberg.raw(fid)))\n",
    "    print(round(num_chars/num_words), round(num_words/num_sents), round(num_words/num_vocab), fid)line()"
   ]
  },
  {
   "cell_type": "code",
   "execution_count": 37,
   "metadata": {
    "collapsed": false
   },
   "outputs": [
    {
     "name": "stdout",
     "output_type": "stream",
     "text": [
      "[['[', 'The', 'King', 'James', 'Bible', ']'], ['The', 'Old', 'Testament', 'of', 'the', 'King', 'James', 'Bible'], ...]\n",
      "------------------------------------------------------------------\n",
      "['36', ':', '12', 'And', 'Timna', 'was', 'concubine', 'to', 'Eliphaz', 'Esau', \"'\", 's', 'son', ';', 'and', 'she', 'bare', 'to', 'Eliphaz', 'Amalek', ':', 'these', 'were', 'the', 'sons', 'of', 'Adah', 'Esau', \"'\", 's', 'wife', '.']\n"
     ]
    }
   ],
   "source": [
    "bible_sents = gutenberg.sents('bible-kjv.txt')\n",
    "print(bible_sents)\n",
    "line()\n",
    "print(bible_sents[1000])"
   ]
  },
  {
   "cell_type": "markdown",
   "metadata": {
    "collapsed": true
   },
   "source": [
    "## _Web and Chat Text Corpora_"
   ]
  },
  {
   "cell_type": "code",
   "execution_count": 39,
   "metadata": {
    "collapsed": false
   },
   "outputs": [
    {
     "name": "stdout",
     "output_type": "stream",
     "text": [
      "firefox.txt Cookie Manager: \"Don't allow sites that set removed cookies to se ...\n",
      "grail.txt SCENE 1: [wind] [clop clop clop] \n",
      "KING ARTHUR: Whoa there!  [clop ...\n",
      "overheard.txt White guy: So, do you have any plans for this evening?\n",
      "Asian girl ...\n",
      "pirates.txt PIRATES OF THE CARRIBEAN: DEAD MAN'S CHEST, by Ted Elliott & Terr ...\n",
      "singles.txt 25 SEXY MALE, seeks attrac older single lady, for discreet encoun ...\n",
      "wine.txt Lovely delicate, fragrant Rhone wine. Polished leather and strawb ...\n"
     ]
    }
   ],
   "source": [
    "from nltk.corpus import webtext\n",
    "for fileid in webtext.fileids():\n",
    "    print(fileid, webtext.raw(fileid)[:65], '...')"
   ]
  },
  {
   "cell_type": "code",
   "execution_count": 40,
   "metadata": {
    "collapsed": false
   },
   "outputs": [
    {
     "data": {
      "text/plain": [
       "['i',\n",
       " 'do',\n",
       " \"n't\",\n",
       " 'want',\n",
       " 'hot',\n",
       " 'pics',\n",
       " 'of',\n",
       " 'a',\n",
       " 'female',\n",
       " ',',\n",
       " 'I',\n",
       " 'can',\n",
       " 'look',\n",
       " 'in',\n",
       " 'a',\n",
       " 'mirror',\n",
       " '.']"
      ]
     },
     "execution_count": 40,
     "metadata": {},
     "output_type": "execute_result"
    }
   ],
   "source": [
    "from nltk.corpus import nps_chat\n",
    "chatroom = nps_chat.posts('10-19-20s_706posts.xml')\n",
    "chatroom[123]"
   ]
  },
  {
   "cell_type": "markdown",
   "metadata": {
    "collapsed": true
   },
   "source": [
    "## _Brown Corpus_\n",
    "\n",
    "Million-word electronic corpus of English, created at Brown University in 1961, using text from 500 different sources categorized by genre"
   ]
  },
  {
   "cell_type": "code",
   "execution_count": 47,
   "metadata": {
    "collapsed": false
   },
   "outputs": [
    {
     "name": "stdout",
     "output_type": "stream",
     "text": [
      "['adventure', 'belles_lettres', 'editorial', 'fiction', 'government', 'hobbies', 'humor', 'learned', 'lore', 'mystery', 'news', 'religion', 'reviews', 'romance', 'science_fiction']\n",
      "------------------------------------------------------------------\n",
      "[['The', 'Fulton', 'County', 'Grand', 'Jury', 'said', 'Friday', 'an', 'investigation', 'of', \"Atlanta's\", 'recent', 'primary', 'election', 'produced', '``', 'no', 'evidence', \"''\", 'that', 'any', 'irregularities', 'took', 'place', '.'], ['The', 'jury', 'further', 'said', 'in', 'term-end', 'presentments', 'that', 'the', 'City', 'Executive', 'Committee', ',', 'which', 'had', 'over-all', 'charge', 'of', 'the', 'election', ',', '``', 'deserves', 'the', 'praise', 'and', 'thanks', 'of', 'the', 'City', 'of', 'Atlanta', \"''\", 'for', 'the', 'manner', 'in', 'which', 'the', 'election', 'was', 'conducted', '.'], ...]\n",
      "------------------------------------------------------------------\n",
      "['The', 'Fulton', 'County', 'Grand', 'Jury', 'said', ...]\n",
      "------------------------------------------------------------------\n",
      "['Does', 'our', 'society', 'have', 'a', 'runaway', ',', ...]\n"
     ]
    }
   ],
   "source": [
    "from nltk.corpus import brown\n",
    "print(brown.categories())\n",
    "line()\n",
    "print(brown.sents(categories=['news', 'editorial', 'reviews']))\n",
    "line()\n",
    "print(brown.words(categories='news'))\n",
    "line()\n",
    "print(brown.words(fileids=['cg22']))"
   ]
  },
  {
   "cell_type": "markdown",
   "metadata": {},
   "source": [
    "This is a great resource for linguistic inqueries known as **stylistics**; or the systematic differences between genres"
   ]
  },
  {
   "cell_type": "code",
   "execution_count": 50,
   "metadata": {
    "collapsed": false
   },
   "outputs": [
    {
     "name": "stdout",
     "output_type": "stream",
     "text": [
      "can: 17 could: 33 may: 8 might: 8 must: 9 will: 13 "
     ]
    }
   ],
   "source": [
    "humor_text = brown.words(categories='humor')\n",
    "fdBrownHumor = FreqDist(w.lower() for w in humor_text)\n",
    "modals = ['can', 'could', 'may', 'might', 'must', 'will']\n",
    "for m in modals:\n",
    "    print(m + ':', fdBrownHumor[m], end=' ') # end=' ' ensures that the output is all on a single line"
   ]
  },
  {
   "cell_type": "markdown",
   "metadata": {},
   "source": [
    "#### _Conditional Frequency Distributions_\n",
    "\n",
    "Conditional Frequency Distributions will word obtain counts for each genre of interest"
   ]
  },
  {
   "cell_type": "code",
   "execution_count": 52,
   "metadata": {
    "collapsed": false
   },
   "outputs": [
    {
     "name": "stdout",
     "output_type": "stream",
     "text": [
      "                  can could   may might  must  will \n",
      "           news    93    86    66    38    50   389 \n",
      "       religion    82    59    78    12    54    71 \n",
      "        hobbies   268    58   131    22    83   264 \n",
      "science_fiction    16    49     4    12     8    16 \n",
      "        romance    74   193    11    51    45    43 \n",
      "          humor    16    30     8     8     9    13 \n"
     ]
    }
   ],
   "source": [
    "cfd = nltk.ConditionalFreqDist(\n",
    "          (genre, word)\n",
    "           for genre in brown.categories()\n",
    "           for word in brown.words(categories=genre))\n",
    "genres = ['news', 'religion', 'hobbies', 'science_fiction', 'romance', 'humor']\n",
    "modals = ['can', 'could', 'may', 'might', 'must', 'will']\n",
    "cfd.tabulate(conditions=genres, samples=modals)"
   ]
  },
  {
   "cell_type": "markdown",
   "metadata": {},
   "source": [
    "## _Reuters Corpus_\n",
    "\n",
    "10,788 news documents totaling 1.3 million words, classified into 90 different topics, which have been divided into two sets, *training*, and *test*\n",
    "* These can be used to to run against classifiers for with machine learning algorithms"
   ]
  },
  {
   "cell_type": "code",
   "execution_count": 73,
   "metadata": {
    "collapsed": false
   },
   "outputs": [
    {
     "name": "stdout",
     "output_type": "stream",
     "text": [
      "['test/14826', 'test/14828', 'test/14829', 'test/14832', 'test/14833', 'test/14839', 'test/14840', 'test/14841', 'test/14842', 'test/14843', 'test/14844', 'test/14849', 'test/14852', 'test/14854', 'test/14858', 'test/14859', 'test/14860', 'test/14861', 'test/14862', 'test/14863', 'test/14865', 'test/14867', 'test/14872', 'test/14873'] ...\n",
      "------------------------------------------------------------------\n",
      "['acq', 'alum', 'barley', 'bop', 'carcass', 'castor-oil', 'cocoa', 'coconut', 'coconut-oil', 'coffee', 'copper', 'copra-cake', 'corn', 'cotton', 'cotton-oil', 'cpi', 'cpu', 'crude', 'dfl', 'dlr', 'dmk', 'earn', 'fuel', 'gas', 'gnp', 'gold', 'grain', 'groundnut', 'groundnut-oil', 'heat', 'hog', 'housing', 'income', 'instal-debt', 'interest', 'ipi', 'iron-steel', 'jet', 'jobs', 'l-cattle', 'lead', 'lei', 'lin-oil', 'livestock', 'lumber', 'meal-feed', 'money-fx', 'money-supply', 'naphtha', 'nat-gas', 'nickel', 'nkr', 'nzdlr', 'oat', 'oilseed', 'orange', 'palladium', 'palm-oil', 'palmkernel', 'pet-chem', 'platinum', 'potato', 'propane', 'rand', 'rape-oil', 'rapeseed', 'reserves', 'retail', 'rice', 'rubber', 'rye', 'ship', 'silver', 'sorghum', 'soy-meal', 'soy-oil', 'soybean', 'strategic-metal', 'sugar', 'sun-meal', 'sun-oil', 'sunseed', 'tea', 'tin', 'trade', 'veg-oil', 'wheat', 'wpi', 'yen', 'zinc']\n",
      "------------------------------------------------------------------\n",
      "['earn', 'interest']\n",
      "------------------------------------------------------------------\n",
      "['test/14858', 'test/15254', 'test/15642', 'test/15798', 'test/16118', 'test/16379', 'test/16564', 'test/16784', 'test/18034', 'test/18099', 'test/18276', 'test/18277', 'test/18352', 'test/18482', 'test/18534', 'test/18540', 'test/18664', 'test/18665', 'test/18672', 'test/18911', 'test/19269', 'test/20441', 'test/20462', 'test/20511', 'test/21367', 'training/10124', 'training/10334', 'training/10373', 'training/10602', 'training/10604', 'training/10616', 'training/1110', 'training/11278', 'training/11544', 'training/121', 'training/12257', 'training/12372', 'training/12376', 'training/12737', 'training/13149', 'training/13380', 'training/13382', 'training/1372', 'training/1393', 'training/1398', 'training/1407', 'training/1557', 'training/1772', 'training/1970', 'training/2226', 'training/2389', 'training/2448', 'training/2495', 'training/2618', 'training/2978', 'training/3084', 'training/3318', 'training/3901', 'training/4022', 'training/4101', 'training/4503', 'training/4514', 'training/4577', 'training/4631', 'training/4636', 'training/5009', 'training/5031', 'training/5445', 'training/5487', 'training/5812', 'training/5896', 'training/6269', 'training/6317', 'training/6804', 'training/7005', 'training/7006', 'training/7015', 'training/7036', 'training/7098', 'training/7099', 'training/8574', 'training/8800', 'training/9060', 'training/9754']\n",
      "------------------------------------------------------------------\n",
      "['FRENCH', 'FREE', 'MARKET', 'CEREAL', 'EXPORT', 'BIDS', 'DETAILED', 'French', 'operators', 'have', 'requested', 'licences', 'to', 'export']\n",
      "------------------------------------------------------------------\n",
      "['THAI', 'TRADE', 'DEFICIT', 'WIDENS', 'IN', 'FIRST', ...]\n"
     ]
    }
   ],
   "source": [
    "from nltk.corpus import reuters\n",
    "print(list(reuters.fileids()[:24]), '...')\n",
    "line()\n",
    "print(reuters.categories())\n",
    "line()\n",
    "print(reuters.categories(['training/9861', 'training/9841']))\n",
    "line()\n",
    "print(reuters.fileids(['income', 'carcass']))\n",
    "line()\n",
    "print(reuters.words('training/9865')[:14])\n",
    "line()\n",
    "print(reuters.words(categories=['barley', 'corn']))"
   ]
  },
  {
   "cell_type": "markdown",
   "metadata": {},
   "source": [
    "## _Inaugural Address Corpus_\n",
    "\n",
    "Collection of texts featuring the 55 different presidential addresses across a time dimension"
   ]
  },
  {
   "cell_type": "code",
   "execution_count": 78,
   "metadata": {
    "collapsed": false
   },
   "outputs": [
    {
     "name": "stdout",
     "output_type": "stream",
     "text": [
      "['1789-Washington.txt', '1793-Washington.txt', '1797-Adams.txt', '1801-Jefferson.txt', '1805-Jefferson.txt', '1809-Madison.txt', '1813-Madison.txt', '1817-Monroe.txt', '1821-Monroe.txt', '1825-Adams.txt', '1829-Jackson.txt', '1833-Jackson.txt', '1837-VanBuren.txt', '1841-Harrison.txt', '1845-Polk.txt', '1849-Taylor.txt', '1853-Pierce.txt', '1857-Buchanan.txt', '1861-Lincoln.txt', '1865-Lincoln.txt', '1869-Grant.txt', '1873-Grant.txt', '1877-Hayes.txt', '1881-Garfield.txt', '1885-Cleveland.txt', '1889-Harrison.txt', '1893-Cleveland.txt', '1897-McKinley.txt', '1901-McKinley.txt', '1905-Roosevelt.txt', '1909-Taft.txt', '1913-Wilson.txt', '1917-Wilson.txt', '1921-Harding.txt', '1925-Coolidge.txt', '1929-Hoover.txt', '1933-Roosevelt.txt', '1937-Roosevelt.txt', '1941-Roosevelt.txt', '1945-Roosevelt.txt', '1949-Truman.txt', '1953-Eisenhower.txt', '1957-Eisenhower.txt', '1961-Kennedy.txt', '1965-Johnson.txt', '1969-Nixon.txt', '1973-Nixon.txt', '1977-Carter.txt', '1981-Reagan.txt', '1985-Reagan.txt', '1989-Bush.txt', '1993-Clinton.txt', '1997-Clinton.txt', '2001-Bush.txt', '2005-Bush.txt', '2009-Obama.txt']\n",
      "------------------------------------------------------------------\n",
      "['1789', '1793', '1797', '1801', '1805', '1809', '1813', '1817', '1821', '1825', '1829', '1833', '1837', '1841', '1845', '1849', '1853', '1857', '1861', '1865', '1869', '1873', '1877', '1881', '1885', '1889', '1893', '1897', '1901', '1905', '1909', '1913', '1917', '1921', '1925', '1929', '1933', '1937', '1941', '1945', '1949', '1953', '1957', '1961', '1965', '1969', '1973', '1977', '1981', '1985', '1989', '1993', '1997', '2001', '2005', '2009']\n"
     ]
    }
   ],
   "source": [
    "from nltk.corpus import inaugural\n",
    "print(inaugural.fileids())\n",
    "line()\n",
    "address_years = [fileid[:4] for fileid in inaugural.fileids()] # Extracts year from flat file name\n",
    "print(list(address_years))"
   ]
  },
  {
   "cell_type": "markdown",
   "metadata": {},
   "source": [
    "This lends itself well to visualizing the frequency of usage of a particular word over time"
   ]
  },
  {
   "cell_type": "code",
   "execution_count": 97,
   "metadata": {
    "collapsed": false
   },
   "outputs": [
    {
     "data": {
      "image/png": "[encoded data removed]",
      "text/plain": [
       "<matplotlib.figure.Figure at 0x23f35e34320>"
      ]
     },
     "metadata": {},
     "output_type": "display_data"
    }
   ],
   "source": [
    "cfd_inaug = nltk.ConditionalFreqDist(\n",
    "                (target, fileid[:4])\n",
    "                 for fileid in inaugural.fileids()\n",
    "                 for w in inaugural.words(fileid)\n",
    "                 for target in ['business', 'individual']\n",
    "                 if w.lower().startswith(target))\n",
    "cfd_inaug.plot()"
   ]
  },
  {
   "cell_type": "markdown",
   "metadata": {},
   "source": [
    "## _Annotated Text Corpora_\n",
    "\n",
    "Many text corpora contain linguistic annotations, representing POS tags, named entities, syntactic structures, semantic roles, and so forth\n",
    "* Much of which are freely available directly through NLTK, including the below:\n",
    "\n",
    "|Corpus | Compiler | Contents |\n",
    "|-----|-----|-----|\n",
    "|Brown Corpus | Francis, Kucera | 15 genres, 1.15M words, tagged, categorized |\n",
    "|CESS Treebanks | CLiC-UB | 1M words, tagged and parsed (Catalan, Spanish) |\n",
    "|Chat-80 Data Files | Pereira & Warren | World Geographic Database |\n",
    "|CMU Pronouncing Dictionary | CMU | 127k entries |\n",
    "|CoNLL 2000 Chunking Data | CoNLL | 270k words, tagged and chunked |\n",
    "|CoNLL 2002 Named Entity | CoNLL | 700k words, pos- and named-entity-tagged (Dutch, Spanish) |\n",
    "|CoNLL 2007 Dependency Treebanks (sel) | CoNLL | 150k words, dependency parsed (Basque, Catalan) |\n",
    "|Dependency Treebank | Narad | Dependency parsed version of Penn Treebank sample |\n",
    "|FrameNet | Fillmore, Baker et al | 10k word senses, 170k manually annotated sentences |\n",
    "|Floresta Treebank | Diana Santos et al | 9k sentences, tagged and parsed (Portuguese) |\n",
    "|Gazetteer Lists | Various | Lists of cities and countries |\n",
    "|Genesis Corpus | Misc web sources | 6 texts, 200k words, 6 languages |\n",
    "|Gutenberg (selections) | Hart, Newby, et al | 18 texts, 2M words |\n",
    "|Inaugural Address Corpus | CSpan | US Presidential Inaugural Addresses (1789-present) |\n",
    "|Indian POS-Tagged Corpus | Kumaran et al | 60k words, tagged (Bangla, Hindi, Marathi, Telugu) |\n",
    "|MacMorpho Corpus | NILC, USP, Brazil | 1M words, tagged (Brazilian Portuguese) |\n",
    "|Movie Reviews | Pang, Lee | 2k movie reviews with sentiment polarity classification |\n",
    "|Names Corpus | Kantrowitz, Ross | 8k male and female names |\n",
    "|NIST 1999 Info Extr (selections) | Garofolo | 63k words, newswire and named-entity SGML markup |\n",
    "|Nombank | Meyers | 115k propositions, 1400 noun frames |\n",
    "|NPS Chat Corpus | Forsyth, Martell | 10k IM chat posts, POS-tagged and dialogue-act tagged |\n",
    "|Open Multilingual WordNet | Bond et al | 15 languages, aligned to English WordNet |\n",
    "|PP Attachment Corpus | Ratnaparkhi | 28k prepositional phrases, tagged as noun or verb modifiers |\n",
    "|Proposition Bank | Palmer | 113k propositions, 3300 verb frames |\n",
    "|Question Classification | Li, Roth | 6k questions, categorized |\n",
    "|Reuters Corpus | Reuters | 1.3M words, 10k news documents, categorized |\n",
    "|Roget's Thesaurus | Project Gutenberg | 200k words, formatted text |\n",
    "|RTE Textual Entailment | Dagan et al | 8k sentence pairs, categorized |\n",
    "|SEMCOR | Rus, Mihalcea | 880k words, part-of-speech and sense tagged |\n",
    "|Senseval 2 Corpus | Pedersen | 600k words, part-of-speech and sense tagged |\n",
    "|SentiWordNet | Esuli, Sebastiani | sentiment scores for 145k WordNet synonym sets |\n",
    "|Shakespeare texts (selections) | Bosak | 8 books in XML format |\n",
    "|State of the Union Corpus | CSPAN | 485k words, formatted text |\n",
    "|Stopwords Corpus | Porter et al | 2,400 stopwords for 11 languages |\n",
    "|Swadesh Corpus | Wiktionary | comparative wordlists in 24 languages |\n",
    "|Switchboard Corpus (selections) | LDC | 36 phonecalls, transcribed, parsed |\n",
    "|Univ Decl of Human Rights | United Nations | 480k words, 300+ languages |\n",
    "|Penn Treebank (selections) | LDC | 40k words, tagged and parsed |\n",
    "|TIMIT Corpus (selections) | NIST/LDC | audio files and transcripts for 16 speakers |\n",
    "|VerbNet 2.1 | Palmer et al | 5k verbs, hierarchically organized, linked to WordNet |\n",
    "|Wordlist Corpus | OpenOffice.org et al | 960k words and 20k affixes for 8 languages |\n",
    "|WordNet 3.0 (English) | Miller, Fellbaum | 145k synonym sets |\n",
    "\n",
    "\n",
    "## _Corpora in Other Languages_\n",
    "\n",
    "NLTK comes with corpora for many languages, though in some cases they must be manipulated with Python before use\n",
    "* Unfortunately many languages don't have a lot of substantial corpora at this time"
   ]
  },
  {
   "cell_type": "code",
   "execution_count": 104,
   "metadata": {
    "collapsed": false
   },
   "outputs": [
    {
     "name": "stdout",
     "output_type": "stream",
     "text": [
      "['El', 'grupo', 'estatal', 'Electricité_de_France', ...]\n",
      "------------------------------------------------------------------\n",
      "['Um', 'revivalismo', 'refrescante', 'O', '7_e_Meio', ...]\n",
      "------------------------------------------------------------------\n",
      "['पूर्ण', 'प्रतिबंध', 'हटाओ', ':', 'इराक', 'संयुक्त', ...]\n",
      "------------------------------------------------------------------\n",
      "['Abkhaz-Cyrillic+Abkh', 'Abkhaz-UTF8', 'Achehnese-Latin1', 'Achuar-Shiwiar-Latin1', 'Adja-UTF8', 'Afaan_Oromo_Oromiffa-Latin1', 'Afrikaans-Latin1', 'Aguaruna-Latin1', 'Akuapem_Twi-UTF8', 'Albanian_Shqip-Latin1', 'Amahuaca', 'Amahuaca-Latin1', 'Amarakaeri-Latin1', 'Amuesha-Yanesha-UTF8', 'Arabela-Latin1', 'Arabic_Alarabia-Arabic', 'Asante-UTF8', 'Ashaninca-Latin1', 'Asheninca-Latin1', 'Asturian_Bable-Latin1', 'Aymara-Latin1', 'Balinese-Latin1', 'Bambara-UTF8', 'Baoule-UTF8'] ...\n",
      "------------------------------------------------------------------\n",
      "['Saben', 'umat', 'manungsa', 'lair', 'kanthi', 'hak', ...]\n"
     ]
    }
   ],
   "source": [
    "print(nltk.corpus.cess_esp.words())\n",
    "line()\n",
    "print(nltk.corpus.floresta.words())\n",
    "line()\n",
    "print(nltk.corpus.indian.words('hindi.pos'))\n",
    "line()\n",
    "print(nltk.corpus.udhr.fileids()[:24], '...')\n",
    "line()\n",
    "print(nltk.corpus.udhr.words('Javanese-Latin1')[11:])"
   ]
  },
  {
   "cell_type": "markdown",
   "metadata": {},
   "source": [
    "```udhr``` contains the Universal Declaration of Human Rights in over 300 languages"
   ]
  },
  {
   "cell_type": "code",
   "execution_count": 107,
   "metadata": {
    "collapsed": false
   },
   "outputs": [
    {
     "data": {
      "image/png": "[encoded data removed]",
      "text/plain": [
       "<matplotlib.figure.Figure at 0x23f35e6c400>"
      ]
     },
     "metadata": {},
     "output_type": "display_data"
    }
   ],
   "source": [
    "from nltk.corpus import udhr\n",
    "langs = ['Chickasaw', 'English', 'German_Deutsch',\n",
    "         'Greenlandic_Inuktikut', 'Hungarian_Magyar', 'Ibibio_Efik']\n",
    "cfd_langs = nltk.ConditionalFreqDist(\n",
    "                 (lang, len(word))\n",
    "            for lang in langs\n",
    "            for word in udhr.words(lang + '-Latin1'))\n",
    "cfd_langs.plot(cumulative=True)"
   ]
  },
  {
   "cell_type": "markdown",
   "metadata": {},
   "source": [
    "## _Text Corpus Structure_\n",
    "\n",
    "![TextCorpusStructure](http://whitneyontheweb.com/images/text-corpus-structure.png \"Text Corpus Structure\")\n",
    "\n",
    "|Example | Description | \n",
    "|-----|-----|-----|\n",
    "|```fileids()``` | the files of the corpus | \n",
    "|```fileids([categories])``` | the files of the corpus corresponding to these categories | \n",
    "|```categories()``` | the categories of the corpus | \n",
    "|```categories([fileids])``` | the categories of the corpus corresponding to these files | \n",
    "|```raw()``` | the raw content of the corpus | \n",
    "|```raw(fileids=[f1,f2,f3])``` | the raw content of the specified files | \n",
    "|```raw(categories=[c1,c2])``` | the raw content of the specified categories | \n",
    "|```words()``` | the words of the whole corpus | \n",
    "|```words(fileids=[f1,f2,f3])``` | the words of the specified fileids | \n",
    "|```words(categories=[c1,c2])``` | the words of the specified categories | \n",
    "|```sents()``` | the sentences of the whole corpus | \n",
    "|```sents(fileids=[f1,f2,f3])``` | the sentences of the specified fileids | \n",
    "|```sents(categories=[c1,c2])``` | the sentences of the specified categories | \n",
    "|```abspath(fileid)``` | the location of the given file on disk | \n",
    "|```encoding(fileid)``` | the encoding of the file (if known) | \n",
    "|```open(fileid)``` | open a stream for reading the given corpus file | \n",
    "|```root``` | if the path to the root of locally installed corpus | \n",
    "|```readme()``` | the contents of the README file of the corpus | \n",
    "\n"
   ]
  },
  {
   "cell_type": "markdown",
   "metadata": {},
   "source": [
    "## _Loading a Custom Corpus_\n",
    "\n",
    "Individual corpora can easily be worked on in Python with the help of NLTK's ```PlaintextCorpusReader```"
   ]
  },
  {
   "cell_type": "code",
   "execution_count": 112,
   "metadata": {
    "collapsed": false
   },
   "outputs": [
    {
     "name": "stdout",
     "output_type": "stream",
     "text": [
      "['Pokemon.csv']\n"
     ]
    }
   ],
   "source": [
    "from nltk.corpus import PlaintextCorpusReader\n",
    "corpus_root = '/data'\n",
    "wordlists = PlaintextCorpusReader(corpus_root, '.*')\n",
    "wordlists.fileids()\n",
    "wordlists.words('Pokemon.csv')"
   ]
  },
  {
   "cell_type": "code",
   "execution_count": null,
   "metadata": {
    "collapsed": true
   },
   "outputs": [],
   "source": []
  },
  {
   "cell_type": "code",
   "execution_count": null,
   "metadata": {
    "collapsed": true
   },
   "outputs": [],
   "source": []
  },
  {
   "cell_type": "code",
   "execution_count": null,
   "metadata": {
    "collapsed": true
   },
   "outputs": [],
   "source": []
  }
 ],
 "metadata": {
  "kernelspec": {
   "display_name": "Python 3",
   "language": "python",
   "name": "python3"
  },
  "language_info": {
   "codemirror_mode": {
    "name": "ipython",
    "version": 3
   },
   "file_extension": ".py",
   "mimetype": "text/x-python",
   "name": "python",
   "nbconvert_exporter": "python",
   "pygments_lexer": "ipython3",
   "version": "3.6.0"
  }
 },
 "nbformat": 4,
 "nbformat_minor": 2
}
