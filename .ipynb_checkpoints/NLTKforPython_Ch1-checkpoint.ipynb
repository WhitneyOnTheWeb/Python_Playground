{
 "cells": [
  {
   "cell_type": "markdown",
   "metadata": {},
   "source": [
    "# NLTK for Python Test Bed\n",
    "## Chapter 1:  Language Processing with Python\n",
    "### Using examples from http://www.nltk.org\n",
    "##### Whitney King  (1/6/2018)"
   ]
  },
  {
   "cell_type": "code",
   "execution_count": 1,
   "metadata": {
    "collapsed": false
   },
   "outputs": [],
   "source": [
    "import nltk\n",
    "import pandas as pd\n",
    "#nltk.download()"
   ]
  },
  {
   "cell_type": "code",
   "execution_count": 2,
   "metadata": {
    "collapsed": false
   },
   "outputs": [
    {
     "name": "stdout",
     "output_type": "stream",
     "text": [
      "*** Introductory Examples for the NLTK Book ***\n",
      "Loading text1, ..., text9 and sent1, ..., sent9\n",
      "Type the name of the text or sentence to view it.\n",
      "Type: 'texts()' or 'sents()' to list the materials.\n",
      "text1: Moby Dick by Herman Melville 1851\n",
      "text2: Sense and Sensibility by Jane Austen 1811\n",
      "text3: The Book of Genesis\n",
      "text4: Inaugural Address Corpus\n",
      "text5: Chat Corpus\n",
      "text6: Monty Python and the Holy Grail\n",
      "text7: Wall Street Journal\n",
      "text8: Personals Corpus\n",
      "text9: The Man Who Was Thursday by G . K . Chesterton 1908\n"
     ]
    }
   ],
   "source": [
    "#Import sample text used in NLTK book examples\n",
    "from nltk.book import *"
   ]
  },
  {
   "cell_type": "code",
   "execution_count": 3,
   "metadata": {
    "collapsed": false
   },
   "outputs": [],
   "source": [
    "from nltk import bigrams"
   ]
  },
  {
   "cell_type": "code",
   "execution_count": 4,
   "metadata": {
    "collapsed": false
   },
   "outputs": [],
   "source": [
    "#Define custom functions\n",
    "\n",
    "def line():\n",
    "    print(\"------------------------------------------------------------------\")\n",
    "    \n",
    "def lexical_richness(text):\n",
    "    return round(len(set(text)) / len(text), 2)\n",
    "\n",
    "def percentage(count, total):\n",
    "    return round(100 * count / total, 4)\n",
    "\n",
    "def lexical_stats(text, word):\n",
    "    print(text.count(word))\n",
    "    print(percentage(text.count(word), len(text)), \"%\")"
   ]
  },
  {
   "cell_type": "markdown",
   "metadata": {},
   "source": [
    "## _Searching Text_\n",
    "\n",
    "#### Concordance\n",
    "\n",
    "Use the **```concordance()```** function to show every occurance of a given word, surrounded by some context"
   ]
  },
  {
   "cell_type": "code",
   "execution_count": 5,
   "metadata": {
    "collapsed": false
   },
   "outputs": [
    {
     "name": "stdout",
     "output_type": "stream",
     "text": [
      "Displaying 11 of 11 matches:\n",
      "ong the former , one was of a most monstrous size . ... This came towards us , \n",
      "ON OF THE PSALMS . \" Touching that monstrous bulk of the whale or ork we have r\n",
      "ll over with a heathenish array of monstrous clubs and spears . Some were thick\n",
      "d as you gazed , and wondered what monstrous cannibal and savage could ever hav\n",
      "that has survived the flood ; most monstrous and most mountainous ! That Himmal\n",
      "they might scout at Moby Dick as a monstrous fable , or still worse and more de\n",
      "th of Radney .'\" CHAPTER 55 Of the Monstrous Pictures of Whales . I shall ere l\n",
      "ing Scenes . In connexion with the monstrous pictures of whales , I am strongly\n",
      "ere to enter upon those still more monstrous stories of them which are to be fo\n",
      "ght have been rummaged out of this monstrous cabinet there is no telling . But \n",
      "of Whale - Bones ; for Whales of a monstrous size are oftentimes cast up dead u\n"
     ]
    }
   ],
   "source": [
    "text1.concordance(\"monstrous\")"
   ]
  },
  {
   "cell_type": "markdown",
   "metadata": {},
   "source": [
    "#### Similar\n",
    "\n",
    "Use **```similar()```** to display words that appear in a similar range of contexts as the given word"
   ]
  },
  {
   "cell_type": "code",
   "execution_count": 6,
   "metadata": {
    "collapsed": false
   },
   "outputs": [
    {
     "name": "stdout",
     "output_type": "stream",
     "text": [
      "true contemptible christian abundant few part mean careful puzzled\n",
      "mystifying passing curious loving wise doleful gamesome singular\n",
      "delightfully perilous fearless\n",
      "------------------------------------------------------------------\n",
      "very so exceedingly heartily a as good great extremely remarkably\n",
      "sweet vast amazingly\n"
     ]
    }
   ],
   "source": [
    "text1.similar(\"monstrous\")\n",
    "line()\n",
    "text2.similar(\"monstrous\")"
   ]
  },
  {
   "cell_type": "markdown",
   "metadata": {},
   "source": [
    "#### Common Contexts\n",
    "\n",
    "Use **```common_contexts()```** to examine the contexts shared by two or more words"
   ]
  },
  {
   "cell_type": "code",
   "execution_count": 7,
   "metadata": {
    "collapsed": false
   },
   "outputs": [
    {
     "name": "stdout",
     "output_type": "stream",
     "text": [
      "a_pretty am_glad a_lucky is_pretty be_glad\n",
      "------------------------------------------------------------------\n",
      "most_and\n",
      "------------------------------------------------------------------\n",
      "am_glad\n"
     ]
    }
   ],
   "source": [
    "text2.common_contexts([\"monstrous\"\n",
    "                     , \"very\"])\n",
    "line()\n",
    "text1.common_contexts([\"monstrous\"\n",
    "                     , \"perilous\"\n",
    "                     , \"contemptible\"])\n",
    "line()\n",
    "text2.common_contexts([\"monstrous\"\n",
    "                     , \"very\"\n",
    "                     , \"amazingly\"\n",
    "                     , \"extremely\"])"
   ]
  },
  {
   "cell_type": "markdown",
   "metadata": {},
   "source": [
    "#### Dispersion Plot\n",
    "\n",
    "Use **```dispersion_plot()```** to visually represent the location(s) of each given word by how many words they appear from the beginning\n",
    "* Requires *NumPy* and *Matplotlib* to be installed"
   ]
  },
  {
   "cell_type": "code",
   "execution_count": 8,
   "metadata": {
    "collapsed": false
   },
   "outputs": [
    {
     "data": {
      "image/png": "[encoded data removed]",
      "text/plain": [
       "<matplotlib.figure.Figure at 0x1e08c293f28>"
      ]
     },
     "metadata": {},
     "output_type": "display_data"
    }
   ],
   "source": [
    "text4.dispersion_plot([\"citizens\", \"democracy\", \"freedom\", \"duties\", \"America\"])"
   ]
  },
  {
   "cell_type": "markdown",
   "metadata": {},
   "source": [
    "## _Counting Vocabulary_\n",
    "\n",
    "#### Word Length\n",
    "\n",
    "A **token** is the technical term for a sequence of characters that should be treated as a group; such as a word or chain of punctuation\n",
    "* Use the **```len()```** function to determine how many tokens are in a sample text"
   ]
  },
  {
   "cell_type": "code",
   "execution_count": 9,
   "metadata": {
    "collapsed": false
   },
   "outputs": [
    {
     "name": "stdout",
     "output_type": "stream",
     "text": [
      "Tokens:  44764\n"
     ]
    }
   ],
   "source": [
    "print(\"Tokens: \", len(text3))"
   ]
  },
  {
   "cell_type": "markdown",
   "metadata": {},
   "source": [
    "To find out how many distinct words exist in the sample text, **```set()```** can be used to collapse duplicate tokens, then **```sorted()```** can be used to alphabetize the unique entries\n",
    "* Sorting will display **punctutation first**, **capital letters second**, and **lower case letters last**"
   ]
  },
  {
   "cell_type": "code",
   "execution_count": 10,
   "metadata": {
    "collapsed": false
   },
   "outputs": [
    {
     "name": "stdout",
     "output_type": "stream",
     "text": [
      "Word Count:  2789\n",
      "------------------------------------------------------------------\n",
      "    0\n",
      "0   !\n",
      "1   '\n",
      "2   (\n",
      "3   )\n",
      "4   ,\n",
      "5  ,)\n",
      "6   .\n",
      "7  .)\n",
      "8   :\n",
      "9   ;\n",
      "------------------------------------------------------------------\n",
      "               0\n",
      "2779        yoke\n",
      "2780      yonder\n",
      "2781         you\n",
      "2782       young\n",
      "2783      younge\n",
      "2784     younger\n",
      "2785    youngest\n",
      "2786        your\n",
      "2787  yourselves\n",
      "2788       youth\n"
     ]
    }
   ],
   "source": [
    "#Example output requires pandas package\n",
    "distinct = set(text3)\n",
    "sort_distinct = sorted(distinct)\n",
    "df = pd.DataFrame(sort_distinct)\n",
    "\n",
    "print(\"Word Count: \", len(sort_distinct))\n",
    "line()\n",
    "print(df.head(10))\n",
    "line()\n",
    "print(df.tail(10))"
   ]
  },
  {
   "cell_type": "markdown",
   "metadata": {},
   "source": [
    "#### Word Type\n",
    "\n",
    "*Word Type* is the form or spelling of a given word independently of its specific occurences in a text\n",
    "* Words considered as unique in the vocabulary\n",
    " - Punctuation symbols are generally referred to as *Item Types* instead of Word Types\n",
    "\n",
    "**Lexical Richness** refers to the quality of vocabulary in a text sample\n",
    "* The next example uses number of distinct words as a percentage of the total number of words as a *measure of lexical richness*"
   ]
  },
  {
   "cell_type": "code",
   "execution_count": 11,
   "metadata": {
    "collapsed": false
   },
   "outputs": [
    {
     "name": "stdout",
     "output_type": "stream",
     "text": [
      "6.0 %\n",
      "------------------------------------------------------------------\n",
      "16.6667\n"
     ]
    }
   ],
   "source": [
    "print(round(len(distinct) / len(text3), 2) * 100, \"%\")\n",
    "line()\n",
    "print(round(100/6, 4))"
   ]
  },
  {
   "cell_type": "markdown",
   "metadata": {},
   "source": [
    "In the scenario of ```text3```, distinct words make up 6% of the total words, indicating that each word appears an average of 16.67 times in the overall sample text\n",
    "* Similar logic can be used to determine how often a specific word appears in the sample text, as well as what percentage of the overall text is occupied by each word"
   ]
  },
  {
   "cell_type": "code",
   "execution_count": 12,
   "metadata": {
    "collapsed": false
   },
   "outputs": [
    {
     "name": "stdout",
     "output_type": "stream",
     "text": [
      "5\n",
      "0.0112 %\n"
     ]
    }
   ],
   "source": [
    "lexical_stats(text3, \"smote\")"
   ]
  },
  {
   "cell_type": "code",
   "execution_count": 13,
   "metadata": {
    "collapsed": false
   },
   "outputs": [
    {
     "name": "stdout",
     "output_type": "stream",
     "text": [
      "(Word Count, % Total)\n",
      "\n",
      "13721\n",
      "5.2607 %\n",
      "------------------------------------------------------------------\n",
      "2411\n",
      "5.386 %\n",
      "------------------------------------------------------------------\n",
      "646\n",
      "1.4352 %\n"
     ]
    }
   ],
   "source": [
    "print(\"(Word Count,\", \"% Total)\")\n",
    "print()\n",
    "lexical_stats(text1, \"the\")\n",
    "line()\n",
    "lexical_stats(text3, \"the\")\n",
    "line()\n",
    "lexical_stats(text5, \"the\")"
   ]
  },
  {
   "cell_type": "code",
   "execution_count": 14,
   "metadata": {
    "collapsed": false
   },
   "outputs": [
    {
     "name": "stdout",
     "output_type": "stream",
     "text": [
      "0.06\n",
      "------------------------------------------------------------------\n",
      "0.07\n"
     ]
    }
   ],
   "source": [
    "print(lexical_richness(text3))\n",
    "line()\n",
    "print(lexical_richness(text1))"
   ]
  },
  {
   "cell_type": "markdown",
   "metadata": {},
   "source": [
    "## _Lists_\n",
    "\n",
    "Lists can be used to manage strings of words (sentances)\n",
    "* In the ```books``` module of NLTK, first sentances of each text have been predefined as ```sent``` variables"
   ]
  },
  {
   "cell_type": "code",
   "execution_count": 15,
   "metadata": {
    "collapsed": false
   },
   "outputs": [
    {
     "name": "stdout",
     "output_type": "stream",
     "text": [
      "['The', 'family', 'of', 'Dashwood', 'had', 'long', 'been', 'settled', 'in', 'Sussex', '.']\n",
      "11\n",
      "------------------------------------------------------------------\n",
      "of\n",
      "2\n",
      "------------------------------------------------------------------\n",
      "['The', 'family', 'of', 'Dashwood']\n",
      "['long', 'been', 'settled']\n",
      "------------------------------------------------------------------\n",
      "The family of Dashwood\n"
     ]
    },
    {
     "data": {
      "text/plain": [
       "['The', 'family', 'of', 'Dashwood']"
      ]
     },
     "execution_count": 15,
     "metadata": {},
     "output_type": "execute_result"
    }
   ],
   "source": [
    "print(sent2)\n",
    "print(len(sent2))\n",
    "lexical_richness(sent2)\n",
    "line()\n",
    "\n",
    "print(sent2[2])\n",
    "print(sent2.index('of'))\n",
    "line()\n",
    "\n",
    "print(sent2[:4])\n",
    "print(sent2[5:8])\n",
    "line()\n",
    "\n",
    "join = \" \".join(sent2[:4])\n",
    "print(join)\n",
    "join.split()"
   ]
  },
  {
   "cell_type": "markdown",
   "metadata": {},
   "source": [
    "## _Frequency Distribution_\n",
    "\n",
    "The ```FreqDist()``` function will display the number of times each word occurs in a given text sample"
   ]
  },
  {
   "cell_type": "code",
   "execution_count": 16,
   "metadata": {
    "collapsed": false
   },
   "outputs": [
    {
     "name": "stdout",
     "output_type": "stream",
     "text": [
      "<FreqDist with 19317 samples and 260819 outcomes>\n",
      "------------------------------------------------------------------\n",
      "[(',', 18713), ('the', 13721), ('.', 6862), ('of', 6536), ('and', 6024), ('a', 4569), ('to', 4542), (';', 4072), ('in', 3916), ('that', 2982), (\"'\", 2684), ('-', 2552), ('his', 2459), ('it', 2209), ('I', 2124), ('s', 1739), ('is', 1695), ('he', 1661), ('with', 1659), ('was', 1632), ('as', 1620), ('\"', 1478), ('all', 1462), ('for', 1414), ('this', 1280), ('!', 1269), ('at', 1231), ('by', 1137), ('but', 1113), ('not', 1103), ('--', 1070), ('him', 1058), ('from', 1052), ('be', 1030), ('on', 1005), ('so', 918), ('whale', 906), ('one', 889), ('you', 841), ('had', 767), ('have', 760), ('there', 715), ('But', 705), ('or', 697), ('were', 680), ('now', 646), ('which', 640), ('?', 637), ('me', 627), ('like', 624)]\n",
      "------------------------------------------------------------------\n",
      "Whale Occurances:  906\n"
     ]
    }
   ],
   "source": [
    "fdMobyDick = FreqDist(text1)\n",
    "fdChat = FreqDist(text5)\n",
    "print(fdMobyDick)\n",
    "line()\n",
    "print(fdMobyDick.most_common(50))\n",
    "line()\n",
    "print('Whale Occurances: ', fdMobyDick['whale'])"
   ]
  },
  {
   "cell_type": "markdown",
   "metadata": {},
   "source": [
    "All but one of the top 50 most frequently occuring words are filler, so a **cumulative frequency plot** of these words will visualize how much of the total sample text they account for"
   ]
  },
  {
   "cell_type": "code",
   "execution_count": 17,
   "metadata": {
    "collapsed": false
   },
   "outputs": [
    {
     "data": {
      "image/png": "[encoded data removed]",
      "text/plain": [
       "<matplotlib.figure.Figure at 0x1e08cb8a550>"
      ]
     },
     "metadata": {},
     "output_type": "display_data"
    }
   ],
   "source": [
    "fdMobyDick.plot(50, cumulative=True)"
   ]
  },
  {
   "cell_type": "markdown",
   "metadata": {},
   "source": [
    "On the flipside, words that appear only once are refered to by the technical term **hapaxes**"
   ]
  },
  {
   "cell_type": "code",
   "execution_count": 18,
   "metadata": {
    "collapsed": false
   },
   "outputs": [
    {
     "name": "stdout",
     "output_type": "stream",
     "text": [
      "                0\n",
      "0          Herman\n",
      "1        Melville\n",
      "2               ]\n",
      "3       ETYMOLOGY\n",
      "4            Late\n",
      "5     Consumptive\n",
      "6          School\n",
      "7      threadbare\n",
      "8        lexicons\n",
      "9       mockingly\n",
      "10          flags\n",
      "11      mortality\n",
      "12  signification\n",
      "13       HACKLUYT\n",
      "14             Sw\n",
      "15           HVAL\n",
      "16      roundness\n",
      "17            Dut\n",
      "18            Ger\n",
      "19         WALLEN\n",
      "20           WALW\n",
      "21            IAN\n",
      "22     RICHARDSON\n",
      "23          KETOS\n",
      "24          GREEK\n"
     ]
    }
   ],
   "source": [
    "hapaxes = fdMobyDick.hapaxes()\n",
    "print(pd.DataFrame(hapaxes).head(25))"
   ]
  },
  {
   "cell_type": "markdown",
   "metadata": {},
   "source": [
    "#### Word Selection\n",
    "\n",
    "To select words based on a particular characteristic, such as words longer than 15 chartacters, functions can be written modeled after mathematical equations\n",
    "* For each ```w``` in ```vocab``` where ```w``` is more than 15 characters long, ```w``` is added to ```long_words```"
   ]
  },
  {
   "cell_type": "code",
   "execution_count": 19,
   "metadata": {
    "collapsed": false
   },
   "outputs": [
    {
     "name": "stdout",
     "output_type": "stream",
     "text": [
      "['!!!!!!!!!!!!!!!!!!!!!!!!!!!', '!!!!!!!!!!!!!!!!!!!!!!!!!!!!', '!!!!!!!!!!!!!!!!!!!!!!!!!!!!!!!!!!!!!!!!!!!!!!!!!!!!!!', '((((((((((((((((((((((((((', '))))))))))))))))))))))))))))', ')))))))))))))))))))))))))))))))', '..............................', '//www.wunderground.com/cgi-bin/findweather/getForecast?query=95953#FIR', 'BAAAAALLLLLLLLIIIIIIINNNNNNNNNNN', 'HHEEYYYYYYYYYYYYYYYYYYYYYYYYYYYYYYYYYYYYYYYYYYYYYYY', 'Mooooooooooooooooooooooooooo', 'backfrontsidewaysandallaroundtheworld', 'cooooooooookiiiiiiiiiiiieeeeeeeeeeee', 'hahahahahahahahahahahahahahahaha', 'http://forums.talkcity.com/tc-adults/start ', 'huuuuuuuuuuuuuuuuuuuuuuuuuuuuuuuuuuugZ', 'llloooozzzzeeerrrrzzzzzzzzzzzzzzzzzzzzzzzzzzzzzzzzzzzzzzzzzzzzzzzzz', 'miiiiiiiiiiiiinnnnnnnnnnneeeeeeeeee', 'mikeeeeeeeeeeeeeeeeeeeeeeeeee', 'mmmmmmmmiiiiiiiiinnnnnnnnneeeeeeee', 'oooooooooooooonnnnnnnnnnnneeeeeeeeeeeeeeesssssssss', 'raaaaaaaaaaaaaaaaaaaaaaaaaaaaa', 'weeeeeeeeeeeeeeeeeeeeeeeeed', 'wheeeeeeeeeeeeeeeeeeeeeeeeeeeeeeeeee', 'woooooooooaaaahhhhhhhhhhhh', 'wooooooooooooohoooooooooooooooo']\n"
     ]
    }
   ],
   "source": [
    "vocab = set(text5)\n",
    "long_words = [w for w in vocab if len(w) > 25]\n",
    "print(sorted(long_words))"
   ]
  },
  {
   "cell_type": "markdown",
   "metadata": {},
   "source": [
    "* For each ```w``` in ```vocab``` where ```w``` occurs more than 7 times and is more than 7 characters long, ```w``` is added to ```important_words```"
   ]
  },
  {
   "cell_type": "code",
   "execution_count": 20,
   "metadata": {
    "collapsed": false
   },
   "outputs": [
    {
     "name": "stdout",
     "output_type": "stream",
     "text": [
      "['#14-19teens', '#talkcity_adults', '((((((((((', '........', 'Question', 'actually', 'anything', 'computer', 'cute.-ass', 'everyone', 'football', 'innocent', 'listening', 'remember', 'seriously', 'something', 'together', 'tomorrow', 'watching']\n"
     ]
    }
   ],
   "source": [
    "vocab = set(text5)\n",
    "important_words = [w for w in vocab if len(w) > 7 and fdChat[w] > 7]\n",
    "print(sorted(important_words))"
   ]
  },
  {
   "cell_type": "markdown",
   "metadata": {},
   "source": [
    "## _Collocations and Bigrams_\n",
    "\n",
    "**Collocations** are sequences of words that appear together, usually frequently.\n",
    "* These words are usually resistant to being substituted in the same phrase.\n",
    "    * _**Dog house**_ is a collocation, but _**the dog**_ is not\n",
    "        * _**Dog pad**_ would sound strange\n",
    "        \n",
    "**Bigrams** extract word-pairs (collocations) from a series of text\n",
    "* Collocations are basically frequently occuring bigrams, especially when they involve rarely occuring words"
   ]
  },
  {
   "cell_type": "code",
   "execution_count": 21,
   "metadata": {
    "collapsed": false
   },
   "outputs": [
    {
     "name": "stdout",
     "output_type": "stream",
     "text": [
      "[('more', 'is'), ('is', 'said'), ('said', 'than'), ('than', 'done')]\n",
      "------------------------------------------------------------------\n",
      "said unto; pray thee; thou shalt; thou hast; thy seed; years old;\n",
      "spake unto; thou art; LORD God; every living; God hath; begat sons;\n",
      "seven years; shalt thou; little ones; living creature; creeping thing;\n",
      "savoury meat; thirty years; every beast\n",
      "None\n",
      "------------------------------------------------------------------\n",
      "million *U*; New York; billion *U*; Wall Street; program trading; Mrs.\n",
      "Yeargin; vice president; Stock Exchange; Big Board; Georgia Gulf;\n",
      "chief executive; Dow Jones; S&P 500; says *T*-1; York Stock; last\n",
      "year; Sea Containers; South Korea; American Express; San Francisco\n",
      "None\n"
     ]
    }
   ],
   "source": [
    "print(list(bigrams(['more', 'is', 'said', 'than', 'done'])))\n",
    "line()\n",
    "print(text3.collocations())\n",
    "line()\n",
    "print(text7.collocations())"
   ]
  },
  {
   "cell_type": "markdown",
   "metadata": {},
   "source": [
    "## _Counting Word Length_\n",
    "\n",
    "Length of individual words can be used for further analysis, such as the frequency distribution of word length"
   ]
  },
  {
   "cell_type": "code",
   "execution_count": 22,
   "metadata": {
    "collapsed": false
   },
   "outputs": [
    {
     "name": "stdout",
     "output_type": "stream",
     "text": [
      "[1, 4, 4, 2, 6, 8, 4, 1, 9, 1, 1, 8, 2, 1, 4, 11, 5, 2, 1] ...\n",
      "------------------------------------------------------------------\n",
      "<FreqDist with 13 samples and 16967 outcomes>\n"
     ]
    }
   ],
   "source": [
    "word_length = [len(w) for w in text1]\n",
    "print(word_length[:19], \"...\")\n",
    "line()\n",
    "\n",
    "#List of length for each given word in the text sample\n",
    "fdLenMontyPython = FreqDist([len(w) for w in text6])\n",
    "\n",
    "#Frequency Distribution of word lengths\n",
    "print(fdLenMontyPython)"
   ]
  },
  {
   "cell_type": "markdown",
   "metadata": {},
   "source": [
    "## _Frequency Distribution Functions_\n",
    "\n",
    "To iterate over a set of samples, write a statement using the following syntax:\n",
    "\n",
    "   ```python\n",
    "   [w for w in text if condition ]\n",
    "   ```\n",
    "\n",
    "To operate on every item in a list, the statement should take on one of the following syntaxes:\n",
    "\n",
    "   ```python\n",
    "   [f(w) for ...]\n",
    "   ```\n",
    "           or\n",
    "   ```python\n",
    "   [w.f() for ...]\n",
    "   ```\n",
    "   \n",
    "|```Example``` | Description | \n",
    "|-----|-----|-----|\n",
    "|```fdist = FreqDist(samples)``` | create a frequency distribution containing the given samples | \n",
    "|```fdist[sample] += 1``` | increment the count for this sample | \n",
    "|```fdist['monstrous']``` | count of the number of times a given sample occurred | \n",
    "|```fdist.freq('monstrous')``` | frequency of a given sample | \n",
    "|```fdist.N()``` | total number of samples | \n",
    "|```fdist.most_common(n)``` | the n most common samples and their frequencies | \n",
    "|```for sample in fdist:``` | iterate over the samples | \n",
    "|```fdist.max()``` | sample with the greatest count | \n",
    "|```fdist.tabulate()``` | tabulate the frequency distribution | \n",
    "|```fdist.plot()``` | graphical plot of the frequency distribution | \n",
    "|```fdist.plot(cumulative=True)``` | cumulative plot of the frequency distribution | \n",
    "|```fdist1``` &#124;```= fdist2``` | update fdist1 with counts from fdist2 | \n",
    "|```fdist1 < fdist2``` | test if samples in fdist1 occur less frequently than in fdist2 | \n"
   ]
  },
  {
   "cell_type": "code",
   "execution_count": null,
   "metadata": {
    "collapsed": false
   },
   "outputs": [],
   "source": [
    "print(\"Number Samples: \", fdLenMontyPython.N())\n",
    "line()\n",
    "print(\"Most Common: \", fdLenMontyPython.most_common())\n",
    "line()\n",
    "print(\"Tabulate FreqDist: \")\n",
    "fdLenMontyPython.tabulate()\n",
    "line()\n",
    "print(\"Max: \", fdLenMontyPython.max())\n",
    "print(\"Max Occurances: \", fdLenMontyPython[1])\n",
    "print(\"Max FreqDist: \", round(fdLenMontyPython.freq(1), 2))\n",
    "line()\n",
    "print(\"Plot FreqDist: \")\n",
    "fdLenMontyPython.plot()\n",
    "print(\"Plot Cumulative FreqDist: \")\n",
    "fdLenMontyPython.plot(cumulative=True)"
   ]
  },
  {
   "cell_type": "markdown",
   "metadata": {},
   "source": [
    "## _Conditional Word Selection_\n",
    "\n",
    "|Function | Meaning | \n",
    "|-----|-----|-----|\n",
    "|```s.startswith(t)``` | test if s starts with t | \n",
    "|```s.endswith(t)``` | test if s ends with t | \n",
    "|```t in s``` | test if t is a substring of s | \n",
    "|```s.islower()``` | test if s contains cased characters and all are lowercase | \n",
    "|```s.isupper()``` | test if s contains cased characters and all are uppercase | \n",
    "|```s.isalpha()``` | test if s is non-empty and all characters in s are alphabetic | \n",
    "|```s.isalnum()``` | test if s is non-empty and all characters in s are alphanumeric | \n",
    "|```s.isdigit()``` | test if s is non-empty and all characters in s are digits | \n",
    "|```s.istitle()``` | test if s contains cased characters and is titlecased (i.e. all words in s have initial capitals) | "
   ]
  },
  {
   "cell_type": "code",
   "execution_count": 24,
   "metadata": {
    "collapsed": false
   },
   "outputs": [
    {
     "name": "stdout",
     "output_type": "stream",
     "text": [
      "['wind', 'clop', 'clop', 'clop', 'KING', 'Whoa']\n",
      "['SCENE', 'ARTHUR', 'there']\n",
      "['1', ':', '[', 'wind', ']', '[', 'clop', 'clop', 'clop', ']', 'KING', ':', 'Whoa', '!']\n",
      "['SCENE', '1', ':', '[', ']', '[', ']', 'ARTHUR', ':', 'there', '!']\n",
      "------------------------------------------------------------------\n",
      "['SCENE', 'wind', 'clop', 'clop', 'clop', 'KING', 'ARTHUR', 'Whoa', 'there']\n",
      "['SCENE', '1', 'wind', 'clop', 'clop', 'clop', 'KING', 'ARTHUR', 'Whoa', 'there']\n",
      "['1']\n",
      "['Whoa', 'Halt', 'Who', 'It', 'I', 'Arthur', 'Uther', 'Pendragon', 'Camelot', 'King', 'Britons', 'Saxons', 'England', 'Pull', 'I', 'Patsy', 'We', 'Camelot', 'I', 'What', 'Ridden', 'Yes', 'You', 'What', 'You', 'So', 'We', 'Mercea', 'Where', 'We', 'Found', 'In', 'Mercea', 'The', 'What', 'Well', 'The', 'Are', 'Not', 'They', 'What', 'A', 'It', 'It', 'It', 'A', 'Well', 'Will', 'Arthur', 'Court', 'Camelot', 'Listen', 'In', 'Please', 'Am', 'I', 'I', 'It', 'African', 'Oh', 'African', 'European', 'That', 'Oh', 'I', 'Will'] ...\n"
     ]
    }
   ],
   "source": [
    "print([w for w in sent6 if len(w) == 4])\n",
    "print([w for w in sent6 if len(w) > 4])\n",
    "print([w for w in sent6 if len(w) <= 4])\n",
    "print([w for w in sent6 if len(w) != 4])\n",
    "line()\n",
    "print([w for w in sent6 if w.isalpha()]) #All alphabetic characters\n",
    "print([w for w in sent6 if w.isalnum()]) #All alphanumeric characters\n",
    "print([w for w in sent6 if w.isdigit()]) #All numeric characters\n",
    "print([w for w in text6[:500] if w.istitle()], \"...\") #All title cased words\n",
    "\n",
    "#Also includes .islower(), .isupper(), .startswith(), and endswith()"
   ]
  },
  {
   "cell_type": "markdown",
   "metadata": {
    "collapsed": true
   },
   "source": [
    "In situations where a word shows up with different forms of capitalization, it's impoarnt to take measures to ensure each format of the same word are counted together"
   ]
  },
  {
   "cell_type": "code",
   "execution_count": null,
   "metadata": {
    "collapsed": false
   },
   "outputs": [
    {
     "name": "stdout",
     "output_type": "stream",
     "text": [
      "1799 Entries: \n",
      "------------------------------------------------------------------\n",
      "['firstly', 'd', 'differences', 'person', 'did', 'guarded', 'depressing', 'leap', 'called', 'frontal', 'while', 'disheartened', 'un', 'undressing', 'supreme', 'medieval', 'large', 'like', 'nervous', 'test', 'launcelot', 'daring', 'pissing', 'dorsal', 'bint', 'buggered', 'mer', 'duty', 'elbows', 'gained', 'coconuts', 'tower', 'keen', 'bad', 'we', 'police', 'totally', 'jesus', 'sword', 'if', 'swallow', 'killed', 'laden', 'autonomous', 'worthy', 'each', 'won', 'attack', 'i', 'behaviour', 'tail', 'design', 'banana', 'britons', 'creature', 'horrendous', 'villager', 'made', 'something', 'removed', 'having', 'doing', 'curtains', 'footwork', 'yellow', 'yelling', 'pikang', 'nostrils', 'basic', 'rocks', 'and', 'film', 'hiyya', 'quests', 'wound', 'on', 'wood', 'now', 'rock', 'three', 'soiled', 'her', 'aauuugh', 'as', 'dona', 'killer', 'chickennn', 'he', 'anything', 'gorge', 'give', 'yel', 'far', 'yourself', 'tim', 'used', 'diaphragm', 'pure', 'knock', 'head'] ...\n"
     ]
    }
   ],
   "source": [
    "lower = list(set(w.lower() for w in text6 if w.isalpha()))\n",
    "print(len(lower), 'Entries: ')\n",
    "line()\n",
    "print(lower[:100], \"...\")"
   ]
  },
  {
   "cell_type": "markdown",
   "metadata": {},
   "source": [
    "## _Understanding Natural Language_\n",
    "\n",
    "The context of words helps disambiguate the intent of words that can indicate more than one thing, or have more than one definition\n",
    "\n",
    "1. The lost children were found **by** the *searchers* (agentive)\n",
    "2. The lost children were found **by** the *mountain* (locative)\n",
    "3. The lost children were found **by** the *afternoon* (temporal)\n",
    "\n",
    "To gain a deeper understanding of the intent of language is analysing *who did what to whom*\n",
    "\n",
    "1. **The [thieves] stole the [paintings]**\n",
    " 6. They ([*theives*] or [*paintings*]) were subsequently *sold*\n",
    " 0. They ([*theives*] or [*paintings*]) were subsequently *caught*\n",
    " 3. They ([*theives*] or [*paintings*]) were subsequently *found*\n",
    "\n",
    "When it comes to machine driven natural language processing, the primary goal is to generate an intelligent system that can perform tasks such as question answering, or machine translation. \n",
    "\n",
    "**Well rounded natural language processing systems should be able to:**\n",
    "\n",
    "1. Translate text into a given language\n",
    "2. Convey the meaning of the original text as accurately as possible\n",
    "3. Provide an intelligible and relevant reply in the original language\n",
    "\n",
    "In many languages, the pronoun of the noun is important, and needs to be accounted for, as they can impact the intent of the other words\n",
    "\n",
    "1. **English:**   The thieves stole the paintings. They were subsequently found.\n",
    " 6. **French:**   Les voleurs ont volé les peintures. *Ils* ont été trouvés plus tard. [*theives*]\n",
    " 0. **French:**   Les voleurs ont volé les peintures. *Elles* ont été trouvées plus tard. [*paintings*]\n",
    "\n",
    "\n",
    "**Text Alignment** is a process that automatically pairs up sentences between two different languages when 1,000,000 or more pairs have been collected, and builds a translation model out of the corresponding words and phrases\n",
    "\n",
    "![SpokenDialogueArchitechture](http://whitneyontheweb.com/images/SpokenDialogueArchitechture.png \"Spoken Dialogue Architechture\")\n",
    "\n",
    "## ChatBot Example"
   ]
  },
  {
   "cell_type": "code",
   "execution_count": null,
   "metadata": {
    "collapsed": false
   },
   "outputs": [
    {
     "name": "stdout",
     "output_type": "stream",
     "text": [
      "Therapist\n",
      "---------\n",
      "Talk to the program by typing in plain English, using normal upper-\n",
      "and lower-case letters and punctuation.  Enter \"quit\" when done.\n",
      "========================================================================\n",
      "Hello.  How are you feeling today?\n",
      ">Fine, thank you\n",
      "I see.\n",
      ">That's not very helpful.\n",
      "Please tell me more.\n",
      ">About what?\n",
      "Why do you ask that?\n",
      ">So I know what you want to talk about\n",
      "Why do you say that so you know what me want to talk about?\n",
      ">Sorry, but I think I need a new therapist\n",
      "I see.  And what does that tell you?\n",
      ">That you need some work.\n",
      "Please tell me more.\n"
     ]
    }
   ],
   "source": [
    "nltk.chat.eliza.eliza_chat()"
   ]
  },
  {
   "cell_type": "markdown",
   "metadata": {},
   "source": [
    "The challenge of language understanding has been brought into focus in recent years by a public \"shared task\" called **Recognizing Textual Entailment (RTE)**\n",
    "\n",
    "In order to determine whether the hypothesis is supported by the text, the system needs the following background knowledge: \n",
    "\n",
    "1. If someone is an author of a book, then he/she has written that book\n",
    "2. If someone is an editor of a book, then he/she has not written (all of) that book\n",
    "3. if someone is editor or author of eighteen books, then one cannot conclude that he/she is author of eighteen books.\n",
    "\n",
    "(Reference http://www.nltk.org/book/ch01.html)"
   ]
  },
  {
   "cell_type": "code",
   "execution_count": null,
   "metadata": {
    "collapsed": true
   },
   "outputs": [],
   "source": []
  }
 ],
 "metadata": {
  "kernelspec": {
   "display_name": "Python 3",
   "language": "python",
   "name": "python3"
  },
  "language_info": {
   "codemirror_mode": {
    "name": "ipython",
    "version": 3
   },
   "file_extension": ".py",
   "mimetype": "text/x-python",
   "name": "python",
   "nbconvert_exporter": "python",
   "pygments_lexer": "ipython3",
   "version": "3.6.0"
  }
 },
 "nbformat": 4,
 "nbformat_minor": 2
}
